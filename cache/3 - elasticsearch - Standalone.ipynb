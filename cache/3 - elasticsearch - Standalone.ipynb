{
 "cells": [
  {
   "cell_type": "code",
   "execution_count": 25,
   "metadata": {},
   "outputs": [],
   "source": [
    "#age in code ro nafahmidin khodetoon ye code joda ba estefade az StreamData_preprocessed.csv benevisin. yani\n",
    "#ye code benevisin ke StreamData_preprocessed.csv ro load kone va satr hasho yeki yeki pass bede be codetoon.\n",
    "#input: 7-column-rows\n",
    "#output: send the rows to elasticsearch and show it.\n",
    "import json,datetime\n",
    "from kafka import KafkaConsumer\n",
    "import pandas as pd\n",
    "from elasticsearch import Elasticsearch\n",
    "\n",
    "ElasticsearchPort = 9200\n",
    "elasticIndex = 'bigdatafinalproject3'\n",
    "First_Time = True\n",
    "pathToStreamData = r'C:\\Users\\AhmaDGoly\\Desktop\\Arshad\\TERM 2\\Big Data\\Final\\Codes\\StreamData_preprocessed.csv'"
   ]
  },
  {
   "cell_type": "code",
   "execution_count": 3,
   "metadata": {},
   "outputs": [],
   "source": [
    "def current_time():\n",
    "    current_datetime = datetime.datetime.now()\n",
    "    return current_datetime.strftime(\"[%Y-%m-%d_%H:%M:%S]\")"
   ]
  },
  {
   "cell_type": "code",
   "execution_count": 7,
   "metadata": {},
   "outputs": [
    {
     "name": "stdout",
     "output_type": "stream",
     "text": [
      "[2023-07-14_17:15:00]: Connected to elasticsearch\n"
     ]
    }
   ],
   "source": [
    "es = Elasticsearch(hosts=['http://localhost:9200'])\n",
    "print(f'{current_time()}: Connected to elasticsearch')"
   ]
  },
  {
   "cell_type": "code",
   "execution_count": null,
   "metadata": {},
   "outputs": [],
   "source": [
    "if First_Time:\n",
    "    index_name = elasticIndex\n",
    "    index_body = {\n",
    "        'settings': {\n",
    "            'number_of_shards': 1,\n",
    "            'number_of_replicas': 0\n",
    "        },\n",
    "        'mappings': {\n",
    "            'properties': {\n",
    "                    \"date\": {\n",
    "                        \"type\": \"date\"\n",
    "                    },\n",
    "                    \"message\": {\n",
    "                        \"type\": \"text\"\n",
    "                    },\n",
    "                    \"hashtags\": {\n",
    "                        \"type\": \"keyword\"\n",
    "                    },\n",
    "                    \"score\": {\n",
    "                        \"type\": \"integer\"\n",
    "                    },\n",
    "                    \"category\": {\n",
    "                        \"type\": \"keyword\"\n",
    "                    },\n",
    "                    \"clean_message\": {\n",
    "                        \"type\": \"text\"\n",
    "                    },\n",
    "                    \"ML_score\": {\n",
    "                        \"type\": \"float\"\n",
    "                    }\n",
    "                \n",
    "            }\n",
    "        }\n",
    "    }\n",
    "    es.indices.create(index=index_name, body=index_body)\n",
    "    print(f\"{current_time()}: First_time is on. created the index called {elasticIndex}\")\n",
    "    First_Time = False\n"
   ]
  },
  {
   "cell_type": "code",
   "execution_count": 19,
   "metadata": {},
   "outputs": [],
   "source": [
    "import dateutil.parser\n",
    "df = pd.read_csv(pathOldData, encoding='utf-8-sig')\n"
   ]
  },
  {
   "cell_type": "code",
   "execution_count": null,
   "metadata": {},
   "outputs": [],
   "source": [
    "x = 0\n",
    "for index, row in df.iterrows():\n",
    "    x = x + 1\n",
    "    print(f\"{current_time()}: {x}: Received a news from Preprocessing_Thread...\")\n",
    "    receivedRowDF = pd.DataFrame([row])\n",
    "    receivedRowDF['date'] = receivedRowDF['date'].apply(lambda x: dateutil.parser.parse(x).isoformat())\n",
    "    records = receivedRowDF.to_dict(orient='records')\n",
    "    for record in records:\n",
    "        res = es.index(index=elasticIndex, document=record)\n",
    "    print(f\"{current_time()}: {x}: Saved on Elasticsearch on index = {elasticIndex}\")"
   ]
  }
 ],
 "metadata": {
  "kernelspec": {
   "display_name": "Python 3.9.13 64-bit",
   "language": "python",
   "name": "python3"
  },
  "language_info": {
   "codemirror_mode": {
    "name": "ipython",
    "version": 3
   },
   "file_extension": ".py",
   "mimetype": "text/x-python",
   "name": "python",
   "nbconvert_exporter": "python",
   "pygments_lexer": "ipython3",
   "version": "3.9.13"
  },
  "orig_nbformat": 4,
  "vscode": {
   "interpreter": {
    "hash": "cfe9f1fea70b6f3c892a507b25933db96548476c663a42d0d97c2442f6e3001f"
   }
  }
 },
 "nbformat": 4,
 "nbformat_minor": 2
}
