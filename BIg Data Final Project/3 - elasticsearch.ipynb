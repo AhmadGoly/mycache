{
 "cells": [
  {
   "cell_type": "code",
   "execution_count": 1,
   "metadata": {},
   "outputs": [],
   "source": [
    "#age in code ro nafahmidin khodetoon ye code joda ba estefade az StreamData_preprocessed.csv benevisin. yani\n",
    "#ye code benevisin ke StreamData_preprocessed.csv ro load kone va satr hasho yeki yeki pass bede be codetoon.\n",
    "#input: 7-column-rows\n",
    "#output: send the rows to elasticsearch and show it.\n",
    "import json,datetime\n",
    "from kafka import KafkaConsumer\n",
    "import pandas as pd\n",
    "\n",
    "topicToReceive = 'elasticsearch'\n",
    "kafkaPort = 19092"
   ]
  },
  {
   "cell_type": "code",
   "execution_count": 2,
   "metadata": {},
   "outputs": [],
   "source": [
    "def current_time():\n",
    "    current_datetime = datetime.datetime.now()\n",
    "    return current_datetime.strftime(\"[%Y-%m-%d_%H:%M:%S]\")\n",
    "\n",
    "consumer = KafkaConsumer(topicToReceive, bootstrap_servers=[f'127.0.0.1:{kafkaPort}'])"
   ]
  },
  {
   "cell_type": "code",
   "execution_count": null,
   "metadata": {},
   "outputs": [],
   "source": [
    "x = 0\n",
    "for message in consumer:\n",
    "    x = x + 1\n",
    "    print(f\"{current_time()}: {x}: Received a news from Preprocessing_Thread. Processing...\")\n",
    "    json_row = message.value.decode('utf-8')\n",
    "    row = json.loads(json_row)\n",
    "    receivedRowDF = pd.DataFrame([row])\n",
    "    #az inja be bad kodetoon ro be ezaye har satre jadidi ke omad piade konin.\n"
   ]
  }
 ],
 "metadata": {
  "kernelspec": {
   "display_name": "Python 3.9.13 64-bit",
   "language": "python",
   "name": "python3"
  },
  "language_info": {
   "codemirror_mode": {
    "name": "ipython",
    "version": 3
   },
   "file_extension": ".py",
   "mimetype": "text/x-python",
   "name": "python",
   "nbconvert_exporter": "python",
   "pygments_lexer": "ipython3",
   "version": "3.9.13"
  },
  "orig_nbformat": 4,
  "vscode": {
   "interpreter": {
    "hash": "cfe9f1fea70b6f3c892a507b25933db96548476c663a42d0d97c2442f6e3001f"
   }
  }
 },
 "nbformat": 4,
 "nbformat_minor": 2
}
