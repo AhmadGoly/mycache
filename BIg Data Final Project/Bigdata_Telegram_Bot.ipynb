{
  "nbformat": 4,
  "nbformat_minor": 0,
  "metadata": {
    "colab": {
      "provenance": []
    },
    "kernelspec": {
      "name": "python3",
      "display_name": "Python 3"
    },
    "language_info": {
      "name": "python"
    }
  },
  "cells": [
    {
      "cell_type": "code",
      "execution_count": 1,
      "metadata": {
        "id": "HsPCvYZZcFYz"
      },
      "outputs": [],
      "source": [
        "#BigdataFinal: 6304442324:AAHrPrvuwXjxgAYQE17QJkWbZbvz1cVC-tQ"
      ]
    },
    {
      "cell_type": "code",
      "source": [
        "!pip install telegram"
      ],
      "metadata": {
        "id": "qokmM-u4cQrV",
        "colab": {
          "base_uri": "https://localhost:8080/"
        },
        "outputId": "d6baa9cf-ec48-4c2a-9f2f-8bb8c51f3ae8"
      },
      "execution_count": 2,
      "outputs": [
        {
          "output_type": "stream",
          "name": "stdout",
          "text": [
            "Collecting telegram\n",
            "  Downloading telegram-0.0.1.tar.gz (879 bytes)\n",
            "  Preparing metadata (setup.py) ... \u001b[?25l\u001b[?25hdone\n",
            "Building wheels for collected packages: telegram\n",
            "  Building wheel for telegram (setup.py) ... \u001b[?25l\u001b[?25hdone\n",
            "  Created wheel for telegram: filename=telegram-0.0.1-py3-none-any.whl size=1295 sha256=8450665f64e25aff9f01614266b9c23bb0c02c475149b25d5c18ae49b4299ea9\n",
            "  Stored in directory: /root/.cache/pip/wheels/f3/f2/16/dc6d6c6c7e0422206fec62833039a2b4082de3b85e55d32b52\n",
            "Successfully built telegram\n",
            "Installing collected packages: telegram\n",
            "Successfully installed telegram-0.0.1\n"
          ]
        }
      ]
    },
    {
      "cell_type": "code",
      "source": [
        "!pip install python-telegram-bot==12.8\n"
      ],
      "metadata": {
        "id": "6EEtneINcadt",
        "colab": {
          "base_uri": "https://localhost:8080/"
        },
        "outputId": "e3bbb136-2a1d-4642-93ca-adfd4eadc14e"
      },
      "execution_count": 3,
      "outputs": [
        {
          "output_type": "stream",
          "name": "stdout",
          "text": [
            "Collecting python-telegram-bot==12.8\n",
            "  Downloading python_telegram_bot-12.8-py2.py3-none-any.whl (375 kB)\n",
            "\u001b[?25l     \u001b[90m━━━━━━━━━━━━━━━━━━━━━━━━━━━━━━━━━━━━━━━━\u001b[0m \u001b[32m0.0/375.4 kB\u001b[0m \u001b[31m?\u001b[0m eta \u001b[36m-:--:--\u001b[0m\r\u001b[2K     \u001b[91m━━━━━━━━━━━━━━━━━━━━━━━━━━━━━━━━━━━━━\u001b[0m\u001b[90m╺\u001b[0m \u001b[32m368.6/375.4 kB\u001b[0m \u001b[31m14.4 MB/s\u001b[0m eta \u001b[36m0:00:01\u001b[0m\r\u001b[2K     \u001b[90m━━━━━━━━━━━━━━━━━━━━━━━━━━━━━━━━━━━━━━\u001b[0m \u001b[32m375.4/375.4 kB\u001b[0m \u001b[31m10.1 MB/s\u001b[0m eta \u001b[36m0:00:00\u001b[0m\n",
            "\u001b[?25hRequirement already satisfied: certifi in /usr/local/lib/python3.10/dist-packages (from python-telegram-bot==12.8) (2023.5.7)\n",
            "Requirement already satisfied: tornado>=5.1 in /usr/local/lib/python3.10/dist-packages (from python-telegram-bot==12.8) (6.3.1)\n",
            "Collecting cryptography (from python-telegram-bot==12.8)\n",
            "  Downloading cryptography-41.0.2-cp37-abi3-manylinux_2_28_x86_64.whl (4.3 MB)\n",
            "\u001b[2K     \u001b[90m━━━━━━━━━━━━━━━━━━━━━━━━━━━━━━━━━━━━━━━━\u001b[0m \u001b[32m4.3/4.3 MB\u001b[0m \u001b[31m68.9 MB/s\u001b[0m eta \u001b[36m0:00:00\u001b[0m\n",
            "\u001b[?25hRequirement already satisfied: decorator>=4.4.0 in /usr/local/lib/python3.10/dist-packages (from python-telegram-bot==12.8) (4.4.2)\n",
            "Requirement already satisfied: cffi>=1.12 in /usr/local/lib/python3.10/dist-packages (from cryptography->python-telegram-bot==12.8) (1.15.1)\n",
            "Requirement already satisfied: pycparser in /usr/local/lib/python3.10/dist-packages (from cffi>=1.12->cryptography->python-telegram-bot==12.8) (2.21)\n",
            "Installing collected packages: cryptography, python-telegram-bot\n",
            "Successfully installed cryptography-41.0.2 python-telegram-bot-12.8\n"
          ]
        }
      ]
    },
    {
      "cell_type": "code",
      "source": [
        "FRESH_START = False\n",
        "my_Tel_API = '6304442324:AAHrPrvuwXjxgAYQE17QJkWbZbvz1cVC-tQ'\n",
        "if FRESH_START:\n",
        "  LoadUsersPath = '/content/drive/MyDrive/Final Project BigData/telegrambotusers.csv'\n",
        "  ReceivedMsgsPath = '/content/drive/MyDrive/Final Project BigData/NewsReceoved.csv'\n",
        "else:\n",
        "  LoadUsersPath = '/content/drive/MyDrive/Final Project BigData/telegrambotusers_Reload.csv'\n",
        "  ReceivedMsgsPath = '/content/drive/MyDrive/Final Project BigData/NewsReceoved_Reload.csv'\n",
        "\n",
        "\n",
        "LoadUsersPathSaveLocation = '/content/drive/MyDrive/Final Project BigData/telegrambotusers_Reload.csv'\n",
        "ReceivedMsgsPathSaveLocation = '/content/drive/MyDrive/Final Project BigData/NewsReceoved_Reload.csv'\n",
        "StreamDataPath = '/content/drive/MyDrive/Final Project BigData/StreamData_preprocessed.csv'"
      ],
      "metadata": {
        "id": "iLSiKVPNfPiN"
      },
      "execution_count": 4,
      "outputs": []
    },
    {
      "cell_type": "code",
      "source": [
        "import pandas as pd\n",
        "from telegram.ext import Updater, CommandHandler, MessageHandler, Filters\n",
        "from datetime import datetime\n",
        "import time\n",
        "import requests\n",
        "import threading\n",
        "import time\n",
        "from collections import Counter\n",
        "\n",
        "UsersDataDF = pd.read_csv(LoadUsersPath)\n",
        "NewsReceived = pd.read_csv(ReceivedMsgsPath, encoding='utf-8-sig')\n",
        "\n",
        "TotalReceivedNews = len(NewsReceived)\n",
        "FearAndGreedIndex = 50\n",
        "FearAndGreedIndex_ML = 50\n",
        "Score_List=[]\n",
        "ML_Score_List=[]\n",
        "Hashtag_List=[]\n",
        "Category_List=[]"
      ],
      "metadata": {
        "id": "7wwkBObupupW"
      },
      "execution_count": 5,
      "outputs": []
    },
    {
      "cell_type": "code",
      "source": [
        "print(UsersDataDF)\n",
        "print(f'news len from last run: {len(NewsReceived)}')"
      ],
      "metadata": {
        "colab": {
          "base_uri": "https://localhost:8080/"
        },
        "id": "OH1w9UU_sL_d",
        "outputId": "e50e3429-3702-43c3-89ee-3dd23d21a597"
      },
      "execution_count": 6,
      "outputs": [
        {
          "output_type": "stream",
          "name": "stdout",
          "text": [
            "      userid  broadcast\n",
            "0  549737016       True\n",
            "news len from last run: 179\n"
          ]
        }
      ]
    },
    {
      "cell_type": "code",
      "source": [
        "def get_crypto_prices():\n",
        "    url = \"https://api.coingecko.com/api/v3/simple/price?ids=bitcoin,ethereum,ripple,cardano,dogecoin,binancecoin&vs_currencies=usd\"\n",
        "    response = requests.get(url)\n",
        "    data = response.json()\n",
        "    bitcoin_price = data['bitcoin']['usd']\n",
        "    ethereum_price = data['ethereum']['usd']\n",
        "    ripple_price = data['ripple']['usd']\n",
        "    cardano_price = data['cardano']['usd']\n",
        "    dogecoin_price = data['dogecoin']['usd']\n",
        "    bnb_price = data['binancecoin']['usd']\n",
        "    return bitcoin_price, ethereum_price, ripple_price, cardano_price, dogecoin_price, bnb_price\n",
        "\n",
        "bitcoin_price, ethereum_price, ripple_price, cardano_price, dogecoin_price, bnb_price = get_crypto_prices()\n",
        "print(\"Bitcoin price in USD:\", bitcoin_price)\n",
        "print(\"Ethereum price in USD:\", ethereum_price)\n",
        "print(\"Ripple price in USD:\", ripple_price)\n",
        "print(\"Cardano price in USD:\", cardano_price)\n",
        "print(\"Dogecoin price in USD:\", dogecoin_price)\n",
        "print(\"Binance Coin price in USD:\", bnb_price)\n",
        "\n",
        "def update_prices():\n",
        "    global bitcoin_price, ethereum_price, ripple_price, cardano_price, dogecoin_price, bnb_price\n",
        "    while True:\n",
        "        bitcoin_price, ethereum_price, ripple_price, cardano_price, dogecoin_price, bnb_price = get_crypto_prices()\n",
        "        time.sleep(60)\n",
        "thread = threading.Thread(target=update_prices)\n",
        "thread.start()"
      ],
      "metadata": {
        "colab": {
          "base_uri": "https://localhost:8080/"
        },
        "id": "SfqUgVKR4gZs",
        "outputId": "348b88a5-4bb6-439a-d018-be4182e5aa87"
      },
      "execution_count": 7,
      "outputs": [
        {
          "output_type": "stream",
          "name": "stdout",
          "text": [
            "Bitcoin price in USD: 30095\n",
            "Ethereum price in USD: 1905.35\n",
            "Ripple price in USD: 0.733476\n",
            "Cardano price in USD: 0.310388\n",
            "Dogecoin price in USD: 0.069109\n",
            "Binance Coin price in USD: 242.74\n"
          ]
        }
      ]
    },
    {
      "cell_type": "code",
      "source": [
        "def calculateNewFearAndIndex(numbers):\n",
        "    # based on last 20 news.\n",
        "    if len(numbers) == 0:\n",
        "        return 50\n",
        "    if len(numbers) < 20:\n",
        "        average = sum(numbers) / len(numbers)\n",
        "    else:\n",
        "        last_20 = numbers[-20:]\n",
        "        average = sum(last_20) / len(last_20)\n",
        "    return average\n",
        "\n",
        "def classify_number(num):\n",
        "    if num < 0:\n",
        "        num = abs(num)\n",
        "    if num < 20:\n",
        "        return 'بسیار منفی🔴'\n",
        "    elif num < 40:\n",
        "        return 'منفی🔴'\n",
        "    elif num < 60:\n",
        "        return 'بی تاثیر'\n",
        "    elif num < 80:\n",
        "        return 'مثبت🟢'\n",
        "    else:\n",
        "        return 'بسیار مثبت🟢'\n",
        "\n",
        "def sendToAllBroadcastUsers(updater,msg):\n",
        "  global UsersDataDF\n",
        "  for index, row in UsersDataDF.iterrows():\n",
        "        if row['broadcast']:\n",
        "            user_id = row['userid']\n",
        "            updater.bot.send_message(chat_id=user_id, text=msg)"
      ],
      "metadata": {
        "id": "gZG8zlbt5Wud"
      },
      "execution_count": 8,
      "outputs": []
    },
    {
      "cell_type": "code",
      "source": [
        "def getTop3Hashtags():\n",
        "  global Hashtag_List\n",
        "  hashtags = []\n",
        "  for item in Hashtag_List:\n",
        "      if item != '[]':\n",
        "          hashtags.extend(eval(item))\n",
        "\n",
        "  hashtag_counts = Counter(hashtags)\n",
        "  top_3_hashtags = hashtag_counts.most_common(3)\n",
        "\n",
        "  return top_3_hashtags\n",
        "\n",
        "def start(update, context):\n",
        "    global UsersDataDF\n",
        "    user_id = update.effective_chat.id\n",
        "    if UsersDataDF['userid'].eq(user_id).any():\n",
        "        context.bot.send_message(chat_id=user_id, text=\"با سلام. شما قبلا از این بات استفاده کرده اید. خوش برگشتید!\")\n",
        "    else:\n",
        "        new_row = {'userid': user_id, 'broadcast': True}\n",
        "        UsersDataDF = UsersDataDF.append(new_row, ignore_index=True)\n",
        "        context.bot.send_message(chat_id=user_id, text=\"با سلام. به بات تحلیل خبری بیگ دیتا خوش آمدید! اگر تمایلی به دریافت خبرهای جدید ندارید دستور /broadcast off را ارسال کنید.\")\n",
        "\n",
        "def summary(update, context):\n",
        "  global FearAndGreedIndex,FearAndGreedIndex_ML,UsersDataDF\n",
        "  Top3Hashtags = getTop3Hashtags()\n",
        "  user_id = update.effective_chat.id\n",
        "  if not UsersDataDF['userid'].eq(user_id).any():\n",
        "        new_row = {'userid': user_id, 'broadcast': True}\n",
        "        UsersDataDF = UsersDataDF.append(new_row, ignore_index=True)\n",
        "\n",
        "  part1 = f'💵قیمت ارز دیجیتال‌های برتر:\\n💲BTC/USDT: {bitcoin_price}\\\n",
        "                  \\n💲ETH/USDT: {ethereum_price}\\\n",
        "                  \\n💲XRP/USDT: {ripple_price}\\\n",
        "                  \\n💲ADA/USDT: {cardano_price}\\\n",
        "                  \\n💲DOGE/USDT: {dogecoin_price}\\\n",
        "                  \\n💲BNB/USDT: {bnb_price}\\n\\n'\n",
        "  if FearAndGreedIndex<50: emoji1 = '🔴'\n",
        "  else: emoji1='🟢'\n",
        "  if FearAndGreedIndex_ML<50: emoji2 = '🔴'\n",
        "  else: emoji2='🟢'\n",
        "  part2 = f'امتیاز شاخص ترس و طمع: {FearAndGreedIndex}{emoji1}\\nامتیاز شاخص ترس و طمع با استفاده از هوش مصنوعی:{FearAndGreedIndex_ML}{emoji2}\\n'\n",
        "  if len(Top3Hashtags) == 0:\n",
        "    part3 = ''\n",
        "  elif len(Top3Hashtags) == 1:\n",
        "      part3 = f'📢بیشتر خبر‌های منتشر شده درمورد هشتگ‌های {Top3Hashtags[0][0]} با {Top3Hashtags[0][1]} تکرار است.\\n'\n",
        "  elif len(Top3Hashtags) == 2:\n",
        "    part3 = f'📢بیشتر خبر‌های منتشر شده درمورد هشتگ‌های {Top3Hashtags[0][0]} با {Top3Hashtags[0][1]} تکرار و {Top3Hashtags[1][0]} با {Top3Hashtags[1][1]} تکرار است.\\n'\n",
        "  else:\n",
        "    part3 = f'📢بیشتر خبر‌های منتشر شده درمورد هشتگ‌های {Top3Hashtags[0][0]} با {Top3Hashtags[0][1]} تکرار و {Top3Hashtags[1][0]} با {Top3Hashtags[1][1]} تکرار و {Top3Hashtags[2][0]} با {Top3Hashtags[2][1]} تکرار است.\\n'\n",
        "  part4 = f'تعداد کل خبر‌های استریم شده به بات: {TotalReceivedNews}\\n\\nجهت مشاهده خبر‌ها ایندکس خبر مورد نظر را به \\n/getnews \\nبفرستید'\n",
        "  msg = part1 + part2 + part3 + part4\n",
        "  context.bot.send_message(chat_id=update.effective_chat.id, text=msg)\n",
        "\n",
        "\n",
        "def broadcast(update, context):\n",
        "    global UsersDataDF\n",
        "    user_id = update.effective_chat.id\n",
        "    if not UsersDataDF['userid'].eq(user_id).any():\n",
        "        new_row = {'userid': user_id, 'broadcast': True}\n",
        "        UsersDataDF = UsersDataDF.append(new_row, ignore_index=True)\n",
        "    args = context.args\n",
        "    if len(args) == 1:\n",
        "        param = args[0]\n",
        "        if param == 'off':\n",
        "          UsersDataDF.loc[UsersDataDF['userid'] == user_id, 'broadcast'] = False\n",
        "          response_text = f\"عملیات با موفقیت انجام شد. شما با یوزر آیدی ({user_id}) خبر جدیدی دریافت نخواهید کرد.\"\n",
        "          context.bot.send_message(chat_id=user_id, text=response_text)\n",
        "        elif param == 'on':\n",
        "          UsersDataDF.loc[UsersDataDF['userid'] == user_id, 'broadcast'] = True\n",
        "          response_text = f\"عملیات با موفقیت انجام شد. شما با یوزر آیدی ({user_id}) خبرهای جدید را دریافت خواهید کرد.\"\n",
        "          context.bot.send_message(chat_id=user_id, text=response_text)\n",
        "        else:\n",
        "          response_text = \"ورودی نادرست است. لطفا فقط مقدار on یا off را ارسال کنید.\"\n",
        "          context.bot.send_message(chat_id=user_id, text=response_text)\n",
        "    elif len(args) == 0:\n",
        "        Status = UsersDataDF.loc[UsersDataDF['userid'] == user_id, 'broadcast'].values[0]\n",
        "        context.bot.send_message(chat_id=user_id, text=f\"وضعیت Broadcast اکانت شما در حالت {Status} قرار دارد. برای فعال سازی دستور\\n/broadcast on\\n و برای غیرفعال‌سازی دستور\\n/broadcast off\\n را اجرا کنید.\")\n",
        "    else:\n",
        "        context.bot.send_message(chat_id=user_id, text=\"لطفا فقط یک پارامتر ارسال کنید. پارامتر‌های قابل قبول: off یا on می‌باشد.\")\n",
        "\n",
        "\n",
        "def echo(update, context):\n",
        "    global UsersDataDF\n",
        "    user_id = update.effective_chat.id\n",
        "    if not UsersDataDF['userid'].eq(user_id).any():\n",
        "        new_row = {'userid': user_id, 'broadcast': True}\n",
        "        UsersDataDF = UsersDataDF.append(new_row, ignore_index=True)\n",
        "    response_text = \"لطفا از دستورات قابل پشتیبانی توسط بات استفاده کنید. دستورات قابل پشتیبانی:\\n1./broadcast (off یا on)\\n2./summary\\n3./getnews\"\n",
        "    context.bot.send_message(chat_id=update.effective_chat.id, text=response_text)\n",
        "\n",
        "def getNews(update, context):\n",
        "  global NewsReceived,UsersDataDF\n",
        "  user_id = update.effective_chat.id\n",
        "  if not UsersDataDF['userid'].eq(user_id).any():\n",
        "      new_row = {'userid': user_id, 'broadcast': True}\n",
        "      UsersDataDF = UsersDataDF.append(new_row, ignore_index=True)\n",
        "  args = context.args\n",
        "  if len(args) == 0:\n",
        "    context.bot.send_message(chat_id=user_id, text=f\"با این دستور می‌توانید تمامی اخبار موجود در ربات را دوباره مشاهده کنید. تعداد کل خبر‌های موجود در بات: {TotalReceivedNews}\\n برای مشاهده خبر مورد نظر ایندکس آن را به این دستور بفرستید. به عنوان مثال:\\n/getnews 1\")\n",
        "  elif len(args) == 1:\n",
        "    try:\n",
        "        param = int(args[0])\n",
        "    except ValueError as e:\n",
        "        context.bot.send_message(chat_id=user_id, text=f\"لطفا یک عدد را به عنوان ایندکس بفرستید. مثال:\\n/getnews 1 \\n\")\n",
        "    param = int(param - 1)\n",
        "    if param > len(NewsReceived) or param<0:\n",
        "        context.bot.send_message(chat_id=user_id, text=f\"همچین خبری وجود ندارد. یا ممکن است عدد منفی فرستاده باشید. لطفا یک عدد کوچک‌تر از {(len(NewsReceived)+1)} بفرستید.\")\n",
        "    else:\n",
        "        row = NewsReceived.iloc[param]\n",
        "        msg = f'متن خبر شماره {(param+1)}:\\n\\n{row[\"clean_message\"]}\\n\\nهشتگ‌ها: {row[\"hashtags\"]}\\nتاثیر این خبر: {classify_number(row[\"score\"])}\\nتاثیر این خبر با استفاده از مدل یادگیری ماشین: {classify_number(row[\"ML_score\"])}\\nدسته‌بندی:{row[\"category\"]}\\nزمان انتشار خبر: {datetime.strptime(row[\"date\"], \"%Y-%m-%d %H:%M:%S%z\").strftime(\"%H:%M:%S %d-%m-%Y\")}\\n'\n",
        "        context.bot.send_message(chat_id=user_id, text=msg)\n",
        "  else:\n",
        "    context.bot.send_message(chat_id=user_id, text=f\"این بات درحد یک پروژه دانشگاهی می‌باشد. لطفا بیشتر از یک ایندکس نفرستید.\")\n",
        "\n"
      ],
      "metadata": {
        "id": "Fa_R6s3psVXU"
      },
      "execution_count": 11,
      "outputs": []
    },
    {
      "cell_type": "code",
      "source": [
        "running = True\n",
        "\n",
        "def main():\n",
        "    global running\n",
        "    updater = Updater(token=my_Tel_API, use_context=True)\n",
        "\n",
        "    dispatcher = updater.dispatcher\n",
        "\n",
        "    start_handler = CommandHandler('start', start)\n",
        "    dispatcher.add_handler(start_handler)\n",
        "\n",
        "    login_handler = CommandHandler('broadcast', broadcast)\n",
        "    dispatcher.add_handler(login_handler)\n",
        "\n",
        "    broadcast_handler = CommandHandler('summary', summary)\n",
        "    dispatcher.add_handler(broadcast_handler)\n",
        "\n",
        "    broadcast_handler = CommandHandler('getnews', getNews)\n",
        "    dispatcher.add_handler(broadcast_handler)\n",
        "\n",
        "    echo_handler = MessageHandler(Filters.text, echo)\n",
        "    dispatcher.add_handler(echo_handler)\n",
        "\n",
        "    updater.start_polling()\n",
        "\n",
        "    StreamNewsThread = threading.Thread(target=Stream_200_News, args=(updater,))\n",
        "    StreamNewsThread.start()\n",
        "\n",
        "    updater.idle()\n",
        "\n",
        "\n",
        "    # Bot Stopped. save the Dataframes and stop streamdata streaming.\n",
        "    running = False\n",
        "    print(\"Telegram bot stopped. wait for StreamNewsThread to stop.\")\n",
        "    NewsReceived.reset_index(drop=True, inplace=True)\n",
        "    StreamNewsThread.join()\n",
        "\n",
        "    UsersDataDF.to_csv(LoadUsersPathSaveLocation, index=False)\n",
        "    NewsReceived.to_csv(ReceivedMsgsPathSaveLocation, index=False, encoding='utf-8-sig')\n",
        "    print('saved UsersDataDF and NewsReceived')\n",
        "\n",
        "def Stream_200_News(updater):\n",
        "    global TotalReceivedNews, FearAndGreedIndex, FearAndGreedIndex_ML\n",
        "    global ML_Score_List, Score_List, Hashtag_List, Category_List\n",
        "    global StreamDataPath, NewsReceived\n",
        "    global running\n",
        "    StreamData = pd.read_csv(StreamDataPath, encoding='utf-8-sig')\n",
        "    for index, row in StreamData.iterrows():\n",
        "      time.sleep(30)\n",
        "      if running==False: break\n",
        "      #NewsReceived = NewsReceived.append(row)\n",
        "      NewsReceived = pd.concat([NewsReceived, pd.DataFrame(row).T], ignore_index=True)\n",
        "      TotalReceivedNews = TotalReceivedNews + 1\n",
        "      Score_List.append(row[\"score\"])\n",
        "      ML_Score_List.append(row[\"ML_score\"])\n",
        "      Hashtag_List.append(row[\"hashtags\"])\n",
        "      Category_List.append(row[\"category\"])\n",
        "\n",
        "      FearAndGreedIndex = calculateNewFearAndIndex(Score_List)\n",
        "      FearAndGreedIndex_ML = calculateNewFearAndIndex(ML_Score_List)\n",
        "      msg = f'خبر جدیدی از کانال @NEWS_FUNDA دریافت شد. متن خبر:\\n\\n{row[\"clean_message\"]}\\n\\nهشتگ‌ها: {row[\"hashtags\"]}\\nتاثیر این خبر: {classify_number(row[\"score\"])}\\nتاثیر این خبر با استفاده از مدل یادگیری ماشین: {classify_number(row[\"ML_score\"])}\\nدسته‌بندی:{row[\"category\"]}\\nزمان انتشار خبر: {datetime.strptime(row[\"date\"], \"%Y-%m-%d %H:%M:%S%z\").strftime(\"%H:%M:%S %d-%m-%Y\")}\\n\\nبرای مشاهده لحظه‌ای قیمت‌ها و تاثیر 20 خبر اخیر بر روی بازار دستور\\n/summary \\nرا اجرا کنید. برای غیر فعال‌سازی نمایش خبر‌های جدید دستور\\n/broadcast off \\nرا اجرا کنید. همچنین این خبر در بات ذخیره شده است و برای مشاهده دوباره آن می‌توانید از دستور\\n/getnews {TotalReceivedNews}\\nاستفاده کنید.'\n",
        "      sendToAllBroadcastUsers(updater,msg)\n",
        "\n",
        "main()\n",
        "\n"
      ],
      "metadata": {
        "id": "-tXhxXqwcJM0"
      },
      "execution_count": null,
      "outputs": []
    }
  ]
}