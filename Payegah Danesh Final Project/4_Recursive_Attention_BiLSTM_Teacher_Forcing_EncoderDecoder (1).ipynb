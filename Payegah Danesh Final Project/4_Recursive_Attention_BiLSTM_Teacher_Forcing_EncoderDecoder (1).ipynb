{
  "cells": [
    {
      "cell_type": "code",
      "execution_count": 1,
      "metadata": {
        "colab": {
          "base_uri": "https://localhost:8080/"
        },
        "id": "yvTyc_EQhQCo",
        "outputId": "e6379e90-7826-4cda-befd-00466dbbe5e6"
      },
      "outputs": [
        {
          "output_type": "stream",
          "name": "stdout",
          "text": [
            "Requirement already satisfied: rouge in /usr/local/lib/python3.10/dist-packages (1.0.1)\n",
            "Requirement already satisfied: six in /usr/local/lib/python3.10/dist-packages (from rouge) (1.16.0)\n",
            "Requirement already satisfied: hazm in /usr/local/lib/python3.10/dist-packages (0.9.1)\n",
            "Requirement already satisfied: gensim<5.0.0,>=4.3.1 in /usr/local/lib/python3.10/dist-packages (from hazm) (4.3.1)\n",
            "Requirement already satisfied: nltk<4.0.0,>=3.8.1 in /usr/local/lib/python3.10/dist-packages (from hazm) (3.8.1)\n",
            "Requirement already satisfied: numpy<2.0.0,>=1.24.3 in /usr/local/lib/python3.10/dist-packages (from hazm) (1.25.0)\n",
            "Requirement already satisfied: python-crfsuite<0.10.0,>=0.9.9 in /usr/local/lib/python3.10/dist-packages (from hazm) (0.9.9)\n",
            "Requirement already satisfied: scikit-learn<2.0.0,>=1.2.2 in /usr/local/lib/python3.10/dist-packages (from hazm) (1.2.2)\n",
            "Requirement already satisfied: scipy>=1.7.0 in /usr/local/lib/python3.10/dist-packages (from gensim<5.0.0,>=4.3.1->hazm) (1.10.1)\n",
            "Requirement already satisfied: smart-open>=1.8.1 in /usr/local/lib/python3.10/dist-packages (from gensim<5.0.0,>=4.3.1->hazm) (6.3.0)\n",
            "Requirement already satisfied: click in /usr/local/lib/python3.10/dist-packages (from nltk<4.0.0,>=3.8.1->hazm) (8.1.3)\n",
            "Requirement already satisfied: joblib in /usr/local/lib/python3.10/dist-packages (from nltk<4.0.0,>=3.8.1->hazm) (1.2.0)\n",
            "Requirement already satisfied: regex>=2021.8.3 in /usr/local/lib/python3.10/dist-packages (from nltk<4.0.0,>=3.8.1->hazm) (2022.10.31)\n",
            "Requirement already satisfied: tqdm in /usr/local/lib/python3.10/dist-packages (from nltk<4.0.0,>=3.8.1->hazm) (4.65.0)\n",
            "Requirement already satisfied: threadpoolctl>=2.0.0 in /usr/local/lib/python3.10/dist-packages (from scikit-learn<2.0.0,>=1.2.2->hazm) (3.1.0)\n"
          ]
        }
      ],
      "source": [
        "#This is not the final output. code runned in golkarnoor.a.d\n",
        "!pip install rouge\n",
        "!pip install hazm"
      ]
    },
    {
      "cell_type": "code",
      "execution_count": 2,
      "metadata": {
        "colab": {
          "base_uri": "https://localhost:8080/"
        },
        "id": "_92sPmawhZm8",
        "outputId": "9b9b6927-da1d-40dc-e237-feedd4534963"
      },
      "outputs": [
        {
          "output_type": "stream",
          "name": "stderr",
          "text": [
            "Downloading...\n",
            "From: https://drive.google.com/uc?id=1xz_YBI8B4fHqAmxlb_3JE5ecJZS5V5z8\n",
            "To: /content/file_1xz_YBI8B4fHqAmxlb_3JE5ecJZS5V5z8.zip\n",
            "100%|██████████| 271M/271M [00:01<00:00, 179MB/s]\n",
            "Downloading...\n",
            "From: https://drive.google.com/uc?id=1z9nYQM2wYVQ7zChtShR6ZaHBSxst_UkK\n",
            "To: /content/file_1z9nYQM2wYVQ7zChtShR6ZaHBSxst_UkK.zip\n",
            "100%|██████████| 18.3M/18.3M [00:00<00:00, 133MB/s]\n",
            "Downloading...\n",
            "From: https://drive.google.com/uc?id=1--sCAcmSeUiJm0dcqQJNBg1fS-CjC-C4\n",
            "To: /content/file_1--sCAcmSeUiJm0dcqQJNBg1fS-CjC-C4.zip\n",
            "100%|██████████| 25.9M/25.9M [00:00<00:00, 141MB/s] \n",
            "Downloading...\n",
            "From: https://drive.google.com/uc?id=1-3DbkWdIjC8BtvqZCQVtZQyrDGNcn4oH\n",
            "To: /content/file_1-3DbkWdIjC8BtvqZCQVtZQyrDGNcn4oH.zip\n",
            "100%|██████████| 96.4M/96.4M [00:00<00:00, 137MB/s]\n"
          ]
        }
      ],
      "source": [
        "import gdown\n",
        "import time\n",
        "from sklearn.model_selection import train_test_split\n",
        "\n",
        "# Define the file URLs\n",
        "file_urls = [\n",
        "    \"https://drive.google.com/file/d/1xz_YBI8B4fHqAmxlb_3JE5ecJZS5V5z8/view?usp=sharing\",\n",
        "    \"https://drive.google.com/file/d/1z9nYQM2wYVQ7zChtShR6ZaHBSxst_UkK/view?usp=sharing\",\n",
        "    \"https://drive.google.com/file/d/1--sCAcmSeUiJm0dcqQJNBg1fS-CjC-C4/view?usp=sharing\",\n",
        "    \"https://drive.google.com/file/d/1-3DbkWdIjC8BtvqZCQVtZQyrDGNcn4oH/view?usp=sharing\"\n",
        "]\n",
        "\n",
        "# Download files\n",
        "for url in file_urls:\n",
        "    file_id = url.split(\"/\")[5]\n",
        "    output_file = f\"file_{file_id}.zip\"  # Customize the output file name if needed\n",
        "    gdown.download(f\"https://drive.google.com/uc?id={file_id}\", output_file, quiet=False)\n"
      ]
    },
    {
      "cell_type": "code",
      "execution_count": 2,
      "metadata": {
        "id": "pUsR3j_zj4ik"
      },
      "outputs": [],
      "source": []
    },
    {
      "cell_type": "code",
      "execution_count": 3,
      "metadata": {
        "id": "UCiWj1jxiE5w"
      },
      "outputs": [],
      "source": [
        "import os\n",
        "os.rename('/content/file_1z9nYQM2wYVQ7zChtShR6ZaHBSxst_UkK.zip', '/content/test_cleaned.csv')\n",
        "os.rename('/content/file_1xz_YBI8B4fHqAmxlb_3JE5ecJZS5V5z8.zip', '/content/train_cleaned.csv')\n",
        "os.rename('/content/file_1--sCAcmSeUiJm0dcqQJNBg1fS-CjC-C4.zip', '/content/word2vec-model.bin')\n",
        "os.rename('/content/file_1-3DbkWdIjC8BtvqZCQVtZQyrDGNcn4oH.zip', '/content/allInputs.pickle')"
      ]
    },
    {
      "cell_type": "code",
      "execution_count": 4,
      "metadata": {
        "id": "YCcSrdJmioD6"
      },
      "outputs": [],
      "source": [
        "import pickle\n",
        "with open(\"allInputs.pickle\", \"rb\") as f:\n",
        "    inputs = pickle.load(f)"
      ]
    },
    {
      "cell_type": "code",
      "execution_count": 5,
      "metadata": {
        "id": "SrX-jwl-i7TS"
      },
      "outputs": [],
      "source": [
        "padded_inputs = inputs['input1']\n",
        "padded_targets = inputs['output1']\n",
        "padded_inputs_test = inputs['input2']\n",
        "padded_targets_test = inputs['output2']\n",
        "padded_inputs_valid = inputs['input3']\n",
        "padded_targets_valid = inputs['output3']\n",
        "info = inputs['info']"
      ]
    },
    {
      "cell_type": "code",
      "execution_count": 6,
      "metadata": {
        "id": "5VstD28FkLyg"
      },
      "outputs": [],
      "source": [
        "import pandas as pd\n",
        "import numpy as np\n",
        "from gensim.models import Word2Vec\n",
        "from tensorflow.keras.preprocessing.sequence import pad_sequences\n",
        "from keras.models import Model\n",
        "from keras.layers import Input, Embedding, GRU, Dense\n",
        "from keras.layers import RepeatVector,TimeDistributed"
      ]
    },
    {
      "cell_type": "code",
      "execution_count": 7,
      "metadata": {
        "id": "0FJJyvOvkB5A"
      },
      "outputs": [],
      "source": [
        "word2vec_model = Word2Vec.load('/content/word2vec-model.bin')"
      ]
    },
    {
      "cell_type": "code",
      "execution_count": 8,
      "metadata": {
        "colab": {
          "base_uri": "https://localhost:8080/"
        },
        "id": "TQgiFpVUkXIY",
        "outputId": "d8c266d0-f178-4b09-b6ad-f0dace90bbcf"
      },
      "outputs": [
        {
          "output_type": "stream",
          "name": "stdout",
          "text": [
            "[250, 25, 82013, 4755, 838]\n"
          ]
        }
      ],
      "source": [
        "print(info)"
      ]
    },
    {
      "cell_type": "code",
      "execution_count": 9,
      "metadata": {
        "id": "ogkH09fckSyq"
      },
      "outputs": [],
      "source": [
        "word_vectors = word2vec_model.wv\n",
        "vocab_size = len(word_vectors.key_to_index)\n",
        "embedding_dim = word2vec_model.vector_size\n",
        "max_length_input = info[0]\n",
        "max_length_output = info[1]"
      ]
    },
    {
      "cell_type": "code",
      "source": [
        "special_end_token = '<SPECIAL_END>'\n",
        "special_end_token_index = len(word_vectors.key_to_index)\n",
        "special_end_token_vector = np.random.random((embedding_dim,))\n",
        "word_vectors.add_vectors([special_end_token], [special_end_token_vector])\n",
        "vocab_size = len(word_vectors.key_to_index)\n",
        "word_vectors = word2vec_model.wv"
      ],
      "metadata": {
        "id": "Fdyj80rChE3t"
      },
      "execution_count": 10,
      "outputs": []
    },
    {
      "cell_type": "code",
      "source": [
        "def find_end_token(sequence):\n",
        "    special_end_token_index=15810\n",
        "    checkingloc = sequence.shape[0] - 1\n",
        "    if sequence[checkingloc] != 0:\n",
        "      sequence[checkingloc] = special_end_token_index\n",
        "      return sequence\n",
        "    while True:\n",
        "      checkingloc = checkingloc - 1\n",
        "      if sequence[checkingloc] != 0:\n",
        "        sequence[checkingloc+1] = special_end_token_index\n",
        "        return sequence\n",
        "      if checkingloc == 0:\n",
        "        return sequence"
      ],
      "metadata": {
        "id": "OwKxXZwghGIc"
      },
      "execution_count": 11,
      "outputs": []
    },
    {
      "cell_type": "code",
      "source": [
        "special_end_token_index = len(word_vectors.key_to_index) - 1"
      ],
      "metadata": {
        "id": "BIFnpddGhXd2"
      },
      "execution_count": 12,
      "outputs": []
    },
    {
      "cell_type": "code",
      "source": [
        "print(padded_inputs[0])"
      ],
      "metadata": {
        "colab": {
          "base_uri": "https://localhost:8080/"
        },
        "id": "YTlr5q1mps1a",
        "outputId": "910280ea-be09-496f-bcdb-8758a1dfa16c"
      },
      "execution_count": 13,
      "outputs": [
        {
          "output_type": "stream",
          "name": "stdout",
          "text": [
            "[  609 10023    61   803  1885   791  8120  1707    75  1208   123  1054\n",
            "     5    19     4     6  5385  1159    75   123  1054  2158    83   123\n",
            "    36 14411    75     5    19     4     6   695   823  3528   361     1\n",
            "  5215   382    72  1013   341   123  1054  3066  8826   171    27   145\n",
            "    90   402  1499   808   899   692  1931    83   341 10318  2897 10023\n",
            "  1334  3402  1707   270    83   123  1054     5    32  2721    24    83\n",
            "   270   141     0   656    83     5    19     4     6    57    83   123\n",
            "  1054   636   139 11027  7711  2054   276    75   200  3482 14740    24\n",
            "   459  1623    75    83  1956   649  9113  3000  1129  3556   139  1136\n",
            "  1085    83   123  1054     5    19     4     6   202     0     0     0\n",
            "     0     0     0     0     0     0     0     0     0     0     0     0\n",
            "     0     0     0     0     0     0     0     0     0     0     0     0\n",
            "     0     0     0     0     0     0     0     0     0     0     0     0\n",
            "     0     0     0     0     0     0     0     0     0     0     0     0\n",
            "     0     0     0     0     0     0     0     0     0     0     0     0\n",
            "     0     0     0     0     0     0     0     0     0     0     0     0\n",
            "     0     0     0     0     0     0     0     0     0     0     0     0\n",
            "     0     0     0     0     0     0     0     0     0     0     0     0\n",
            "     0     0     0     0     0     0     0     0     0     0     0     0\n",
            "     0     0     0     0     0     0     0     0     0     0     0     0\n",
            "     0     0     0     0     0     0     0     0     0     0]\n"
          ]
        }
      ]
    },
    {
      "cell_type": "code",
      "source": [
        "padded_inputs = np.apply_along_axis(find_end_token, axis=1, arr=padded_inputs)"
      ],
      "metadata": {
        "id": "5DZJDZMwhJ6P"
      },
      "execution_count": 14,
      "outputs": []
    },
    {
      "cell_type": "code",
      "source": [
        "padded_targets = np.apply_along_axis(find_end_token, axis=1, arr=padded_targets)\n",
        "padded_inputs_test = np.apply_along_axis(find_end_token, axis=1, arr=padded_inputs_test)\n",
        "padded_targets_test = np.apply_along_axis(find_end_token, axis=1, arr=padded_targets_test)\n",
        "padded_inputs_valid = np.apply_along_axis(find_end_token, axis=1, arr=padded_inputs_valid)\n",
        "padded_targets_valid = np.apply_along_axis(find_end_token, axis=1, arr=padded_targets_valid)"
      ],
      "metadata": {
        "id": "R11NE8GZ2iwv"
      },
      "execution_count": 15,
      "outputs": []
    },
    {
      "cell_type": "code",
      "source": [
        "print(padded_inputs[0])"
      ],
      "metadata": {
        "colab": {
          "base_uri": "https://localhost:8080/"
        },
        "id": "zDo5nm39hRVl",
        "outputId": "6525c2bf-8714-43c7-9117-4b92216d01d3"
      },
      "execution_count": 16,
      "outputs": [
        {
          "output_type": "stream",
          "name": "stdout",
          "text": [
            "[  609 10023    61   803  1885   791  8120  1707    75  1208   123  1054\n",
            "     5    19     4     6  5385  1159    75   123  1054  2158    83   123\n",
            "    36 14411    75     5    19     4     6   695   823  3528   361     1\n",
            "  5215   382    72  1013   341   123  1054  3066  8826   171    27   145\n",
            "    90   402  1499   808   899   692  1931    83   341 10318  2897 10023\n",
            "  1334  3402  1707   270    83   123  1054     5    32  2721    24    83\n",
            "   270   141     0   656    83     5    19     4     6    57    83   123\n",
            "  1054   636   139 11027  7711  2054   276    75   200  3482 14740    24\n",
            "   459  1623    75    83  1956   649  9113  3000  1129  3556   139  1136\n",
            "  1085    83   123  1054     5    19     4     6   202 15810     0     0\n",
            "     0     0     0     0     0     0     0     0     0     0     0     0\n",
            "     0     0     0     0     0     0     0     0     0     0     0     0\n",
            "     0     0     0     0     0     0     0     0     0     0     0     0\n",
            "     0     0     0     0     0     0     0     0     0     0     0     0\n",
            "     0     0     0     0     0     0     0     0     0     0     0     0\n",
            "     0     0     0     0     0     0     0     0     0     0     0     0\n",
            "     0     0     0     0     0     0     0     0     0     0     0     0\n",
            "     0     0     0     0     0     0     0     0     0     0     0     0\n",
            "     0     0     0     0     0     0     0     0     0     0     0     0\n",
            "     0     0     0     0     0     0     0     0     0     0     0     0\n",
            "     0     0     0     0     0     0     0     0     0     0]\n"
          ]
        }
      ]
    },
    {
      "cell_type": "code",
      "source": [
        "from keras.layers import RepeatVector, concatenate\n",
        "from tensorflow.keras.layers import Masking\n",
        "from tensorflow.keras.layers import Dropout"
      ],
      "metadata": {
        "id": "SbYbYm2p7yok"
      },
      "execution_count": 17,
      "outputs": []
    },
    {
      "cell_type": "code",
      "execution_count": null,
      "metadata": {
        "id": "-YYrIhzHj2nh"
      },
      "outputs": [],
      "source": [
        "# article input model\n",
        "inputs1 = Input(shape=(max_length_input,))\n",
        "mask1 = Masking(mask_value=0)(inputs1)\n",
        "article1 = Embedding(vocab_size, embedding_dim, weights=[word2vec_model.wv.vectors], trainable=False)(mask1)\n"
      ]
    },
    {
      "cell_type": "code",
      "source": [
        "from tensorflow.keras.layers import Input, Embedding, Bidirectional, LSTM, RepeatVector, TimeDistributed, Dense\n",
        "\n",
        "article2 = Bidirectional(LSTM(200))(article1)\n",
        "article3 = RepeatVector(max_length_output)(article2)\n",
        "# summary input model\n",
        "inputs2 = Input(shape=(max_length_output,))\n",
        "mask2 = Masking(mask_value=0)(inputs2)\n",
        "summ1 = Embedding(vocab_size, embedding_dim, weights=[word2vec_model.wv.vectors], trainable=False)(mask2)\n",
        "# decoder model\n",
        "decoder1 = concatenate([article3, summ1])\n",
        "decoder2 = Bidirectional(LSTM(200))(decoder1)\n",
        "decoder3 = Dropout(0.1)(decoder2)\n",
        "outputs = Dense(vocab_size, activation='softmax')(decoder3)\n",
        "# tie it together [article, summary] [word]\n",
        "model = Model(inputs=[inputs1, inputs2], outputs=outputs)\n",
        "model.compile(optimizer='adam', loss='sparse_categorical_crossentropy', metrics=['accuracy'])"
      ],
      "metadata": {
        "id": "xkKBGK8x5Xo3"
      },
      "execution_count": 19,
      "outputs": []
    },
    {
      "cell_type": "code",
      "execution_count": 20,
      "metadata": {
        "colab": {
          "base_uri": "https://localhost:8080/"
        },
        "id": "9AVEHFnzkpDv",
        "outputId": "24bf1f32-4bb8-4518-8932-be4c30cfe364"
      },
      "outputs": [
        {
          "output_type": "stream",
          "name": "stdout",
          "text": [
            "Model: \"model\"\n",
            "__________________________________________________________________________________________________\n",
            " Layer (type)                   Output Shape         Param #     Connected to                     \n",
            "==================================================================================================\n",
            " input_1 (InputLayer)           [(None, 250)]        0           []                               \n",
            "                                                                                                  \n",
            " masking (Masking)              (None, 250)          0           ['input_1[0][0]']                \n",
            "                                                                                                  \n",
            " embedding (Embedding)          (None, 250, 200)     3162200     ['masking[0][0]']                \n",
            "                                                                                                  \n",
            " input_2 (InputLayer)           [(None, 25)]         0           []                               \n",
            "                                                                                                  \n",
            " bidirectional (Bidirectional)  (None, 400)          641600      ['embedding[0][0]']              \n",
            "                                                                                                  \n",
            " masking_1 (Masking)            (None, 25)           0           ['input_2[0][0]']                \n",
            "                                                                                                  \n",
            " repeat_vector (RepeatVector)   (None, 25, 400)      0           ['bidirectional[0][0]']          \n",
            "                                                                                                  \n",
            " embedding_1 (Embedding)        (None, 25, 200)      3162200     ['masking_1[0][0]']              \n",
            "                                                                                                  \n",
            " concatenate (Concatenate)      (None, 25, 600)      0           ['repeat_vector[0][0]',          \n",
            "                                                                  'embedding_1[0][0]']            \n",
            "                                                                                                  \n",
            " bidirectional_1 (Bidirectional  (None, 400)         1281600     ['concatenate[0][0]']            \n",
            " )                                                                                                \n",
            "                                                                                                  \n",
            " dropout (Dropout)              (None, 400)          0           ['bidirectional_1[0][0]']        \n",
            "                                                                                                  \n",
            " dense (Dense)                  (None, 15811)        6340211     ['dropout[0][0]']                \n",
            "                                                                                                  \n",
            "==================================================================================================\n",
            "Total params: 14,587,811\n",
            "Trainable params: 8,263,411\n",
            "Non-trainable params: 6,324,400\n",
            "__________________________________________________________________________________________________\n"
          ]
        }
      ],
      "source": [
        "model.summary()"
      ]
    },
    {
      "cell_type": "code",
      "execution_count": 21,
      "metadata": {
        "colab": {
          "base_uri": "https://localhost:8080/",
          "height": 856
        },
        "id": "HDnJyJj3ktaI",
        "outputId": "062c2ec1-bb99-4553-b717-5538bb4a1b99"
      },
      "outputs": [
        {
          "output_type": "execute_result",
          "data": {
            "image/png": "[encoded data removed]",
            "text/plain": [
              "<IPython.core.display.Image object>"
            ]
          },
          "metadata": {},
          "execution_count": 21
        }
      ],
      "source": [
        "from tensorflow.keras.utils import plot_model\n",
        "plot_model(model)"
      ]
    },
    {
      "cell_type": "code",
      "source": [
        "model.compile(optimizer='adam', loss='sparse_categorical_crossentropy', metrics=['accuracy'])"
      ],
      "metadata": {
        "id": "4tDHK8FW9Pps"
      },
      "execution_count": 22,
      "outputs": []
    },
    {
      "cell_type": "code",
      "source": [
        "history_train_loss=[]\n",
        "history_val_loss=[]\n",
        "predicts_generated_sofar = pad_sequences([[0]]*82013, maxlen=max_length_output, padding='post')\n",
        "predicts_generated_sofar_for_valid = pad_sequences([[0]]*838, maxlen=max_length_output, padding='post')"
      ],
      "metadata": {
        "id": "ugrXiMqQ9fLZ"
      },
      "execution_count": 23,
      "outputs": []
    },
    {
      "cell_type": "code",
      "source": [
        "for i in range(13):\n",
        "    print(f\"Fitting for word {i+1}:\")\n",
        "    #Fit:\n",
        "\n",
        "    #Before:\n",
        "    #h = model.fit([padded_inputs, predicts_generated_sofar], padded_targets[:, i] , batch_size=64, epochs=7,\n",
        "    #              validation_data=([padded_inputs_valid,predicts_generated_sofar_for_valid], padded_targets_valid[:, i]))\n",
        "\n",
        "    #After: Teacher Forcing:\n",
        "    padded_targets_sliced = pad_sequences(padded_targets[:, :i], maxlen=max_length_output, padding='post')\n",
        "\n",
        "    h = model.fit([padded_inputs, padded_targets_sliced], padded_targets[:, i], batch_size=64, epochs=7,\n",
        "                  validation_data=([padded_inputs_valid, predicts_generated_sofar_for_valid], padded_targets_valid[:, i]))\n",
        "    #Predict: (We don't need this part anymore because we are Teacher forcing with the real output)\n",
        "    '''\n",
        "    print(f\"Predicting word number {i+1}... and saving it in predicts_generated_sofar\")\n",
        "    batch_size = 5000\n",
        "    num_samples = padded_inputs.shape[0]\n",
        "    num_batches = (num_samples + batch_size - 1) // batch_size\n",
        "    predicted_summaries = []\n",
        "    for j in range(num_batches):\n",
        "        start_idx = j * batch_size\n",
        "        end_idx = min((j + 1) * batch_size, num_samples)\n",
        "        batch_inputs = padded_inputs[start_idx:end_idx]\n",
        "        batch_inputs2 = predicts_generated_sofar[start_idx:end_idx]\n",
        "        batch_predictions = model.predict([batch_inputs,batch_inputs2], verbose=0)\n",
        "        batch_predictions[:, 0] = -np.inf\n",
        "        for x in batch_predictions:\n",
        "          batch_predicted_indices = np.argmax(x)\n",
        "          predicted_summaries.append(batch_predicted_indices)\n",
        "          del batch_predicted_indices\n",
        "        del batch_inputs, batch_inputs2, batch_predictions,start_idx,end_idx\n",
        "    time.sleep(1)\n",
        "    predicts_generated_sofar[:, i] = predicted_summaries\n",
        "    time.sleep(1)\n",
        "    del batch_size,num_samples,num_batches,predicted_summaries\n",
        "    print(f\"Predicting word number {i+1} for valid... and saving it in predicts_generated_sofar_valid\")\n",
        "    '''\n",
        "    #Predict for valid data:\n",
        "    batch_size = 5000\n",
        "    num_samples = padded_inputs_valid.shape[0]\n",
        "    num_batches = (num_samples + batch_size - 1) // batch_size\n",
        "    predicted_summaries = []\n",
        "    for j in range(num_batches):\n",
        "        start_idx = j * batch_size\n",
        "        end_idx = min((j + 1) * batch_size, num_samples)\n",
        "        batch_inputs = padded_inputs_valid[start_idx:end_idx]\n",
        "        batch_inputs2 = predicts_generated_sofar_for_valid[start_idx:end_idx]\n",
        "        batch_predictions = model.predict([batch_inputs,batch_inputs2], verbose=0)\n",
        "        #batch_predictions[:, 0] = -np.inf\n",
        "        for x in batch_predictions:\n",
        "          batch_predicted_indices = np.argmax(x)\n",
        "          predicted_summaries.append(batch_predicted_indices)\n",
        "          del batch_predicted_indices\n",
        "        del batch_inputs, batch_inputs2, batch_predictions,start_idx,end_idx\n",
        "    predicts_generated_sofar_for_valid[:, i] = predicted_summaries\n",
        "    del batch_size,num_samples,num_batches,predicted_summaries\n",
        "    #save History\n",
        "    train_loss = h.history['loss']\n",
        "    val_loss = h.history['val_loss']\n",
        "    for x in train_loss:\n",
        "      history_train_loss.append(x)\n",
        "    for x in val_loss:\n",
        "      history_val_loss.append(x)\n",
        "    del train_loss,h\n",
        "    del val_loss"
      ],
      "metadata": {
        "colab": {
          "base_uri": "https://localhost:8080/"
        },
        "id": "gyzZX4HE9fnC",
        "outputId": "4cd81f42-295a-4ed1-c9b3-7a1242ea4339"
      },
      "execution_count": 24,
      "outputs": [
        {
          "output_type": "stream",
          "name": "stdout",
          "text": [
            "Fitting for word 1:\n",
            "Epoch 1/7\n",
            "1282/1282 [==============================] - 75s 47ms/step - loss: 5.9454 - accuracy: 0.1148 - val_loss: 5.4189 - val_accuracy: 0.1706\n",
            "Epoch 2/7\n",
            "1282/1282 [==============================] - 63s 49ms/step - loss: 4.9578 - accuracy: 0.2394 - val_loss: 4.9141 - val_accuracy: 0.2804\n",
            "Epoch 3/7\n",
            "1282/1282 [==============================] - 63s 49ms/step - loss: 4.4847 - accuracy: 0.3031 - val_loss: 4.6657 - val_accuracy: 0.3234\n",
            "Epoch 4/7\n",
            "1282/1282 [==============================] - 63s 49ms/step - loss: 4.1809 - accuracy: 0.3340 - val_loss: 4.5199 - val_accuracy: 0.3425\n",
            "Epoch 5/7\n",
            "1282/1282 [==============================] - 63s 49ms/step - loss: 3.8839 - accuracy: 0.3541 - val_loss: 4.4956 - val_accuracy: 0.3628\n",
            "Epoch 6/7\n",
            "1282/1282 [==============================] - 63s 49ms/step - loss: 3.6213 - accuracy: 0.3735 - val_loss: 4.5683 - val_accuracy: 0.3544\n",
            "Epoch 7/7\n",
            "1282/1282 [==============================] - 63s 49ms/step - loss: 3.3693 - accuracy: 0.3905 - val_loss: 4.6080 - val_accuracy: 0.3747\n",
            "Fitting for word 2:\n",
            "Epoch 1/7\n",
            "1282/1282 [==============================] - 64s 50ms/step - loss: 4.9504 - accuracy: 0.2901 - val_loss: 5.9865 - val_accuracy: 0.2208\n",
            "Epoch 2/7\n",
            "1282/1282 [==============================] - 63s 49ms/step - loss: 3.8744 - accuracy: 0.3808 - val_loss: 6.0857 - val_accuracy: 0.2506\n",
            "Epoch 3/7\n",
            "1282/1282 [==============================] - 62s 49ms/step - loss: 3.2269 - accuracy: 0.4310 - val_loss: 6.3505 - val_accuracy: 0.2709\n",
            "Epoch 4/7\n",
            "1282/1282 [==============================] - 63s 49ms/step - loss: 2.7188 - accuracy: 0.4766 - val_loss: 6.4695 - val_accuracy: 0.2697\n",
            "Epoch 5/7\n",
            "1282/1282 [==============================] - 63s 49ms/step - loss: 2.2764 - accuracy: 0.5271 - val_loss: 6.6143 - val_accuracy: 0.2721\n",
            "Epoch 6/7\n",
            "1282/1282 [==============================] - 63s 49ms/step - loss: 1.9067 - accuracy: 0.5834 - val_loss: 6.9571 - val_accuracy: 0.2733\n",
            "Epoch 7/7\n",
            "1282/1282 [==============================] - 63s 49ms/step - loss: 1.5924 - accuracy: 0.6434 - val_loss: 7.2082 - val_accuracy: 0.2792\n",
            "Fitting for word 3:\n",
            "Epoch 1/7\n",
            "1282/1282 [==============================] - 63s 49ms/step - loss: 5.4780 - accuracy: 0.2389 - val_loss: 6.4644 - val_accuracy: 0.1814\n",
            "Epoch 2/7\n",
            "1282/1282 [==============================] - 63s 49ms/step - loss: 4.3293 - accuracy: 0.3350 - val_loss: 6.4895 - val_accuracy: 0.1957\n",
            "Epoch 3/7\n",
            "1282/1282 [==============================] - 63s 49ms/step - loss: 3.6887 - accuracy: 0.3862 - val_loss: 6.7087 - val_accuracy: 0.1969\n",
            "Epoch 4/7\n",
            "1282/1282 [==============================] - 62s 49ms/step - loss: 3.1595 - accuracy: 0.4335 - val_loss: 6.8567 - val_accuracy: 0.2017\n",
            "Epoch 5/7\n",
            "1282/1282 [==============================] - 62s 49ms/step - loss: 2.6850 - accuracy: 0.4808 - val_loss: 7.0296 - val_accuracy: 0.2041\n",
            "Epoch 6/7\n",
            "1282/1282 [==============================] - 62s 49ms/step - loss: 2.2576 - accuracy: 0.5379 - val_loss: 7.3506 - val_accuracy: 0.1909\n",
            "Epoch 7/7\n",
            "1282/1282 [==============================] - 63s 49ms/step - loss: 1.8756 - accuracy: 0.5990 - val_loss: 7.6954 - val_accuracy: 0.2005\n",
            "Fitting for word 4:\n",
            "Epoch 1/7\n",
            "1282/1282 [==============================] - 63s 49ms/step - loss: 5.5094 - accuracy: 0.2506 - val_loss: 6.8193 - val_accuracy: 0.1348\n",
            "Epoch 2/7\n",
            "1282/1282 [==============================] - 62s 49ms/step - loss: 4.6159 - accuracy: 0.3158 - val_loss: 6.9341 - val_accuracy: 0.1408\n",
            "Epoch 3/7\n",
            "1282/1282 [==============================] - 62s 49ms/step - loss: 4.0439 - accuracy: 0.3572 - val_loss: 7.1087 - val_accuracy: 0.1527\n",
            "Epoch 4/7\n",
            "1282/1282 [==============================] - 63s 49ms/step - loss: 3.5223 - accuracy: 0.3968 - val_loss: 7.2942 - val_accuracy: 0.1575\n",
            "Epoch 5/7\n",
            "1282/1282 [==============================] - 63s 49ms/step - loss: 3.0470 - accuracy: 0.4407 - val_loss: 7.5777 - val_accuracy: 0.1492\n",
            "Epoch 6/7\n",
            "1282/1282 [==============================] - 63s 49ms/step - loss: 2.5908 - accuracy: 0.4917 - val_loss: 7.8123 - val_accuracy: 0.1539\n",
            "Epoch 7/7\n",
            "1282/1282 [==============================] - 63s 49ms/step - loss: 2.1601 - accuracy: 0.5523 - val_loss: 8.0822 - val_accuracy: 0.1444\n",
            "Fitting for word 5:\n",
            "Epoch 1/7\n",
            "1282/1282 [==============================] - 63s 49ms/step - loss: 5.8599 - accuracy: 0.2126 - val_loss: 7.3410 - val_accuracy: 0.1122\n",
            "Epoch 2/7\n",
            "1282/1282 [==============================] - 63s 49ms/step - loss: 5.0497 - accuracy: 0.2670 - val_loss: 7.3620 - val_accuracy: 0.1098\n",
            "Epoch 3/7\n",
            "1282/1282 [==============================] - 63s 49ms/step - loss: 4.4969 - accuracy: 0.3018 - val_loss: 7.5369 - val_accuracy: 0.1122\n",
            "Epoch 4/7\n",
            "1282/1282 [==============================] - 63s 49ms/step - loss: 3.9858 - accuracy: 0.3381 - val_loss: 7.7856 - val_accuracy: 0.1086\n",
            "Epoch 5/7\n",
            "1282/1282 [==============================] - 63s 49ms/step - loss: 3.5003 - accuracy: 0.3781 - val_loss: 7.9859 - val_accuracy: 0.1181\n",
            "Epoch 6/7\n",
            "1282/1282 [==============================] - 63s 49ms/step - loss: 3.0242 - accuracy: 0.4260 - val_loss: 8.1206 - val_accuracy: 0.1158\n",
            "Epoch 7/7\n",
            "1282/1282 [==============================] - 63s 49ms/step - loss: 2.6024 - accuracy: 0.4810 - val_loss: 8.4930 - val_accuracy: 0.1181\n",
            "Fitting for word 6:\n",
            "Epoch 1/7\n",
            "1282/1282 [==============================] - 63s 49ms/step - loss: 6.1453 - accuracy: 0.1829 - val_loss: 7.8680 - val_accuracy: 0.0692\n",
            "Epoch 2/7\n",
            "1282/1282 [==============================] - 63s 49ms/step - loss: 5.3980 - accuracy: 0.2268 - val_loss: 7.9772 - val_accuracy: 0.0835\n",
            "Epoch 3/7\n",
            "1282/1282 [==============================] - 63s 49ms/step - loss: 4.8329 - accuracy: 0.2568 - val_loss: 8.0268 - val_accuracy: 0.0788\n",
            "Epoch 4/7\n",
            "1282/1282 [==============================] - 63s 49ms/step - loss: 4.3355 - accuracy: 0.2875 - val_loss: 8.1219 - val_accuracy: 0.0764\n",
            "Epoch 5/7\n",
            "1282/1282 [==============================] - 63s 49ms/step - loss: 3.8570 - accuracy: 0.3262 - val_loss: 8.3881 - val_accuracy: 0.0847\n",
            "Epoch 6/7\n",
            "1282/1282 [==============================] - 63s 49ms/step - loss: 3.3958 - accuracy: 0.3686 - val_loss: 8.6340 - val_accuracy: 0.0835\n",
            "Epoch 7/7\n",
            "1282/1282 [==============================] - 63s 49ms/step - loss: 2.9582 - accuracy: 0.4233 - val_loss: 8.8990 - val_accuracy: 0.0823\n",
            "Fitting for word 7:\n",
            "Epoch 1/7\n",
            "1282/1282 [==============================] - 63s 49ms/step - loss: 6.2636 - accuracy: 0.1592 - val_loss: 8.0584 - val_accuracy: 0.0453\n",
            "Epoch 2/7\n",
            "1282/1282 [==============================] - 63s 49ms/step - loss: 5.5765 - accuracy: 0.1977 - val_loss: 8.0993 - val_accuracy: 0.0513\n",
            "Epoch 3/7\n",
            "1282/1282 [==============================] - 63s 49ms/step - loss: 5.1088 - accuracy: 0.2224 - val_loss: 8.2891 - val_accuracy: 0.0525\n",
            "Epoch 4/7\n",
            "1282/1282 [==============================] - 63s 49ms/step - loss: 4.6222 - accuracy: 0.2524 - val_loss: 8.3777 - val_accuracy: 0.0549\n",
            "Epoch 5/7\n",
            "1282/1282 [==============================] - 63s 49ms/step - loss: 4.1397 - accuracy: 0.2885 - val_loss: 8.4949 - val_accuracy: 0.0561\n",
            "Epoch 6/7\n",
            "1282/1282 [==============================] - 63s 49ms/step - loss: 3.6834 - accuracy: 0.3268 - val_loss: 8.7466 - val_accuracy: 0.0621\n",
            "Epoch 7/7\n",
            "1282/1282 [==============================] - 62s 48ms/step - loss: 3.2494 - accuracy: 0.3770 - val_loss: 9.0073 - val_accuracy: 0.0561\n",
            "Fitting for word 8:\n",
            "Epoch 1/7\n",
            "1282/1282 [==============================] - 63s 49ms/step - loss: 6.4152 - accuracy: 0.1462 - val_loss: 8.1264 - val_accuracy: 0.0382\n",
            "Epoch 2/7\n",
            "1282/1282 [==============================] - 62s 48ms/step - loss: 5.7691 - accuracy: 0.1810 - val_loss: 8.1540 - val_accuracy: 0.0418\n",
            "Epoch 3/7\n",
            "1282/1282 [==============================] - 63s 49ms/step - loss: 5.3023 - accuracy: 0.2038 - val_loss: 8.2822 - val_accuracy: 0.0418\n",
            "Epoch 4/7\n",
            "1282/1282 [==============================] - 62s 49ms/step - loss: 4.8523 - accuracy: 0.2322 - val_loss: 8.3884 - val_accuracy: 0.0406\n",
            "Epoch 5/7\n",
            "1282/1282 [==============================] - 62s 49ms/step - loss: 4.4119 - accuracy: 0.2626 - val_loss: 8.5195 - val_accuracy: 0.0418\n",
            "Epoch 6/7\n",
            "1282/1282 [==============================] - 62s 48ms/step - loss: 3.9763 - accuracy: 0.2979 - val_loss: 8.8651 - val_accuracy: 0.0370\n",
            "Epoch 7/7\n",
            "1282/1282 [==============================] - 63s 49ms/step - loss: 3.5536 - accuracy: 0.3390 - val_loss: 9.0547 - val_accuracy: 0.0406\n",
            "Fitting for word 9:\n",
            "Epoch 1/7\n",
            "1282/1282 [==============================] - 62s 49ms/step - loss: 6.4458 - accuracy: 0.1440 - val_loss: 8.1608 - val_accuracy: 0.0334\n",
            "Epoch 2/7\n",
            "1282/1282 [==============================] - 62s 49ms/step - loss: 5.8361 - accuracy: 0.1744 - val_loss: 8.1165 - val_accuracy: 0.0298\n",
            "Epoch 3/7\n",
            "1282/1282 [==============================] - 62s 49ms/step - loss: 5.3852 - accuracy: 0.1969 - val_loss: 8.2355 - val_accuracy: 0.0370\n",
            "Epoch 4/7\n",
            "1282/1282 [==============================] - 62s 49ms/step - loss: 4.9484 - accuracy: 0.2234 - val_loss: 8.3586 - val_accuracy: 0.0370\n",
            "Epoch 5/7\n",
            "1282/1282 [==============================] - 62s 49ms/step - loss: 4.5191 - accuracy: 0.2508 - val_loss: 8.4637 - val_accuracy: 0.0322\n",
            "Epoch 6/7\n",
            "1282/1282 [==============================] - 62s 49ms/step - loss: 4.0892 - accuracy: 0.2852 - val_loss: 8.8389 - val_accuracy: 0.0346\n",
            "Epoch 7/7\n",
            "1282/1282 [==============================] - 62s 49ms/step - loss: 3.6718 - accuracy: 0.3254 - val_loss: 8.9640 - val_accuracy: 0.0346\n",
            "Fitting for word 10:\n",
            "Epoch 1/7\n",
            "1282/1282 [==============================] - 63s 49ms/step - loss: 6.3516 - accuracy: 0.1536 - val_loss: 8.0022 - val_accuracy: 0.0346\n",
            "Epoch 2/7\n",
            "1282/1282 [==============================] - 62s 48ms/step - loss: 5.7656 - accuracy: 0.1838 - val_loss: 8.0536 - val_accuracy: 0.0286\n",
            "Epoch 3/7\n",
            "1282/1282 [==============================] - 62s 48ms/step - loss: 5.3071 - accuracy: 0.2055 - val_loss: 8.1708 - val_accuracy: 0.0334\n",
            "Epoch 4/7\n",
            "1282/1282 [==============================] - 62s 48ms/step - loss: 4.8961 - accuracy: 0.2302 - val_loss: 8.3638 - val_accuracy: 0.0286\n",
            "Epoch 5/7\n",
            "1282/1282 [==============================] - 63s 49ms/step - loss: 4.4979 - accuracy: 0.2550 - val_loss: 8.4811 - val_accuracy: 0.0322\n",
            "Epoch 6/7\n",
            "1282/1282 [==============================] - 62s 49ms/step - loss: 4.0971 - accuracy: 0.2867 - val_loss: 8.7624 - val_accuracy: 0.0286\n",
            "Epoch 7/7\n",
            "1282/1282 [==============================] - 62s 48ms/step - loss: 3.7084 - accuracy: 0.3223 - val_loss: 8.9775 - val_accuracy: 0.0334\n",
            "Fitting for word 11:\n",
            "Epoch 1/7\n",
            "1282/1282 [==============================] - 62s 49ms/step - loss: 6.1584 - accuracy: 0.1785 - val_loss: 8.1540 - val_accuracy: 0.0382\n",
            "Epoch 2/7\n",
            "1282/1282 [==============================] - 62s 48ms/step - loss: 5.5999 - accuracy: 0.2067 - val_loss: 8.2475 - val_accuracy: 0.0394\n",
            "Epoch 3/7\n",
            "1282/1282 [==============================] - 63s 49ms/step - loss: 5.1894 - accuracy: 0.2278 - val_loss: 8.3454 - val_accuracy: 0.0382\n",
            "Epoch 4/7\n",
            "1282/1282 [==============================] - 62s 48ms/step - loss: 4.8097 - accuracy: 0.2497 - val_loss: 8.4166 - val_accuracy: 0.0453\n",
            "Epoch 5/7\n",
            "1282/1282 [==============================] - 62s 49ms/step - loss: 4.4400 - accuracy: 0.2735 - val_loss: 8.6637 - val_accuracy: 0.0430\n",
            "Epoch 6/7\n",
            "1282/1282 [==============================] - 62s 48ms/step - loss: 4.0636 - accuracy: 0.3018 - val_loss: 8.7871 - val_accuracy: 0.0430\n",
            "Epoch 7/7\n",
            "1282/1282 [==============================] - 62s 49ms/step - loss: 3.6945 - accuracy: 0.3338 - val_loss: 9.0259 - val_accuracy: 0.0430\n",
            "Fitting for word 12:\n",
            "Epoch 1/7\n",
            "1282/1282 [==============================] - 63s 49ms/step - loss: 5.9314 - accuracy: 0.2085 - val_loss: 8.7324 - val_accuracy: 0.0442\n",
            "Epoch 2/7\n",
            "1282/1282 [==============================] - 63s 49ms/step - loss: 5.4079 - accuracy: 0.2360 - val_loss: 8.7300 - val_accuracy: 0.0418\n",
            "Epoch 3/7\n",
            "1282/1282 [==============================] - 62s 49ms/step - loss: 5.0442 - accuracy: 0.2549 - val_loss: 8.8018 - val_accuracy: 0.0465\n",
            "Epoch 4/7\n",
            "1282/1282 [==============================] - 63s 49ms/step - loss: 4.6864 - accuracy: 0.2732 - val_loss: 8.9864 - val_accuracy: 0.0430\n",
            "Epoch 5/7\n",
            "1282/1282 [==============================] - 63s 49ms/step - loss: 4.3380 - accuracy: 0.2950 - val_loss: 9.0965 - val_accuracy: 0.0465\n",
            "Epoch 6/7\n",
            "1282/1282 [==============================] - 63s 49ms/step - loss: 3.9917 - accuracy: 0.3207 - val_loss: 9.2393 - val_accuracy: 0.0418\n",
            "Epoch 7/7\n",
            "1282/1282 [==============================] - 63s 49ms/step - loss: 3.6574 - accuracy: 0.3513 - val_loss: 9.5206 - val_accuracy: 0.0430\n",
            "Fitting for word 13:\n",
            "Epoch 1/7\n",
            "1282/1282 [==============================] - 63s 49ms/step - loss: 5.6144 - accuracy: 0.2515 - val_loss: 8.8291 - val_accuracy: 0.0573\n",
            "Epoch 2/7\n",
            "1282/1282 [==============================] - 62s 49ms/step - loss: 5.1319 - accuracy: 0.2764 - val_loss: 9.0195 - val_accuracy: 0.0632\n",
            "Epoch 3/7\n",
            "1282/1282 [==============================] - 62s 49ms/step - loss: 4.7831 - accuracy: 0.2930 - val_loss: 9.0832 - val_accuracy: 0.0573\n",
            "Epoch 4/7\n",
            "1282/1282 [==============================] - 62s 49ms/step - loss: 4.4595 - accuracy: 0.3105 - val_loss: 9.1832 - val_accuracy: 0.0585\n",
            "Epoch 5/7\n",
            "1282/1282 [==============================] - 63s 49ms/step - loss: 4.1423 - accuracy: 0.3293 - val_loss: 9.3353 - val_accuracy: 0.0561\n",
            "Epoch 6/7\n",
            "1282/1282 [==============================] - 62s 49ms/step - loss: 3.8379 - accuracy: 0.3514 - val_loss: 9.5064 - val_accuracy: 0.0573\n",
            "Epoch 7/7\n",
            "1282/1282 [==============================] - 63s 49ms/step - loss: 3.5284 - accuracy: 0.3758 - val_loss: 9.7363 - val_accuracy: 0.0537\n"
          ]
        }
      ]
    },
    {
      "cell_type": "code",
      "source": [
        "model.save(\"/content/drive/MyDrive/Recursive_Attention_BiLSTM_TeacherForcing_13words.h5\")"
      ],
      "metadata": {
        "id": "ogvmWgu8-xA4"
      },
      "execution_count": 25,
      "outputs": []
    },
    {
      "cell_type": "code",
      "source": [
        "predicts_generated_sofar_test = pad_sequences([[0]]*4755, maxlen=max_length_output, padding='post')\n",
        "#predicts_generated_sofar_test = predicts_generated_sofar_test[:5593]\n",
        "for i in range(13):\n",
        "    batch_size = 5000\n",
        "    num_samples = padded_inputs_test.shape[0]\n",
        "    num_batches = (num_samples + batch_size - 1) // batch_size\n",
        "    predicted_summaries = []\n",
        "    for j in range(num_batches):\n",
        "        start_idx = j * batch_size\n",
        "        end_idx = min((j + 1) * batch_size, num_samples)\n",
        "        batch_inputs = padded_inputs_test[start_idx:end_idx]\n",
        "        batch_inputs2 = predicts_generated_sofar_test[start_idx:end_idx]\n",
        "        batch_predictions = model.predict([batch_inputs,batch_inputs2], verbose=0)\n",
        "        #batch_predictions[:, 0] = -np.inf\n",
        "        for x in batch_predictions:\n",
        "          batch_predicted_indices = np.argmax(x)\n",
        "          predicted_summaries.append(batch_predicted_indices)\n",
        "          del batch_predicted_indices\n",
        "        del batch_inputs, batch_inputs2, batch_predictions,start_idx,end_idx\n",
        "    predicts_generated_sofar_test[:, i] = predicted_summaries\n",
        "    print('showing an example of output for row 0:')\n",
        "    print(predicts_generated_sofar_test[0])\n",
        "    del batch_size,num_samples,num_batches,predicted_summaries"
      ],
      "metadata": {
        "id": "Z-NWOUkHAxjH",
        "colab": {
          "base_uri": "https://localhost:8080/"
        },
        "outputId": "28b8e937-1e37-445f-8948-e85d0627c56e"
      },
      "execution_count": 26,
      "outputs": [
        {
          "output_type": "stream",
          "name": "stdout",
          "text": [
            "showing an example of output for row 0:\n",
            "[73  0  0  0  0  0  0  0  0  0  0  0  0  0  0  0  0  0  0  0  0  0  0  0\n",
            "  0]\n",
            "showing an example of output for row 0:\n",
            "[73  4  0  0  0  0  0  0  0  0  0  0  0  0  0  0  0  0  0  0  0  0  0  0\n",
            "  0]\n",
            "showing an example of output for row 0:\n",
            "[73  4 10  0  0  0  0  0  0  0  0  0  0  0  0  0  0  0  0  0  0  0  0  0\n",
            "  0]\n",
            "showing an example of output for row 0:\n",
            "[  73    4   10 4144    0    0    0    0    0    0    0    0    0    0\n",
            "    0    0    0    0    0    0    0    0    0    0    0]\n",
            "showing an example of output for row 0:\n",
            "[  73    4   10 4144  166    0    0    0    0    0    0    0    0    0\n",
            "    0    0    0    0    0    0    0    0    0    0    0]\n",
            "showing an example of output for row 0:\n",
            "[  73    4   10 4144  166  100    0    0    0    0    0    0    0    0\n",
            "    0    0    0    0    0    0    0    0    0    0    0]\n",
            "showing an example of output for row 0:\n",
            "[  73    4   10 4144  166  100    5    0    0    0    0    0    0    0\n",
            "    0    0    0    0    0    0    0    0    0    0    0]\n",
            "showing an example of output for row 0:\n",
            "[  73    4   10 4144  166  100    5   19    0    0    0    0    0    0\n",
            "    0    0    0    0    0    0    0    0    0    0    0]\n",
            "showing an example of output for row 0:\n",
            "[  73    4   10 4144  166  100    5   19    4    0    0    0    0    0\n",
            "    0    0    0    0    0    0    0    0    0    0    0]\n",
            "showing an example of output for row 0:\n",
            "[  73    4   10 4144  166  100    5   19    4    6    0    0    0    0\n",
            "    0    0    0    0    0    0    0    0    0    0    0]\n",
            "showing an example of output for row 0:\n",
            "[  73    4   10 4144  166  100    5   19    4    6   81    0    0    0\n",
            "    0    0    0    0    0    0    0    0    0    0    0]\n",
            "showing an example of output for row 0:\n",
            "[  73    4   10 4144  166  100    5   19    4    6   81  173    0    0\n",
            "    0    0    0    0    0    0    0    0    0    0    0]\n",
            "showing an example of output for row 0:\n",
            "[   73     4    10  4144   166   100     5    19     4     6    81   173\n",
            " 15810     0     0     0     0     0     0     0     0     0     0     0\n",
            "     0]\n"
          ]
        }
      ]
    },
    {
      "cell_type": "code",
      "execution_count": 27,
      "metadata": {
        "id": "g9H1vUPKl6u5",
        "colab": {
          "base_uri": "https://localhost:8080/",
          "height": 472
        },
        "outputId": "f9f0df65-fdc4-4c8f-c326-3f0804a01888"
      },
      "outputs": [
        {
          "output_type": "display_data",
          "data": {
            "text/plain": [
              "<Figure size 640x480 with 1 Axes>"
            ],
            "image/png": "[encoded data removed]"
          },
          "metadata": {}
        }
      ],
      "source": [
        "import matplotlib.pyplot as plt\n",
        "train_loss = history_train_loss\n",
        "val_loss = history_val_loss\n",
        "epochs = range(1, len(train_loss) + 1)\n",
        "plt.plot(epochs, train_loss, 'b', label='Training loss')\n",
        "plt.plot(epochs, val_loss, 'r', label='Validation loss')\n",
        "plt.title('Training and Validation Loss')\n",
        "plt.xlabel('Epochs')\n",
        "plt.ylabel('Loss')\n",
        "plt.legend()\n",
        "plt.show()"
      ]
    },
    {
      "cell_type": "code",
      "source": [
        "predicted_summary = []\n",
        "for i in range (len(predicts_generated_sofar_test)):\n",
        "  predicted_summary.append(' '.join([word_vectors.index_to_key[idx] for idx in predicts_generated_sofar_test[i] if idx != 0]))\n"
      ],
      "metadata": {
        "id": "0D7oeyiAaR3D"
      },
      "execution_count": 28,
      "outputs": []
    },
    {
      "cell_type": "code",
      "source": [
        "from rouge import Rouge"
      ],
      "metadata": {
        "id": "y2WrQzSmapGB"
      },
      "execution_count": 29,
      "outputs": []
    },
    {
      "cell_type": "code",
      "source": [
        "target_summaries = []\n",
        "for targets in padded_targets_test:\n",
        "    summary = ' '.join([word2vec_model.wv.index_to_key[idx] for idx in targets if idx != 0])\n",
        "    target_summaries.append(summary)\n",
        "# Calculate the ROUGE score\n",
        "rouge = Rouge()\n",
        "scores = rouge.get_scores(predicted_summary, target_summaries, avg=True)\n",
        "\n",
        "#print(scores)"
      ],
      "metadata": {
        "id": "kIwqzeqrDV_l"
      },
      "execution_count": 30,
      "outputs": []
    },
    {
      "cell_type": "code",
      "source": [
        "#scores = rouge.get_scores(generated_summaries_words, target_summaries, avg=True)\n",
        "print(\"ROUGE Scores:\")\n",
        "print(f\"ROUGE-1: {scores['rouge-1']}\")\n",
        "print(f\"ROUGE-2: {scores['rouge-2']}\")\n",
        "print(f\"ROUGE-L: {scores['rouge-l']}\")"
      ],
      "metadata": {
        "id": "PnPp5Op6DrJU",
        "colab": {
          "base_uri": "https://localhost:8080/"
        },
        "outputId": "5fdfcf19-c16c-4261-b6c9-f5255438e150"
      },
      "execution_count": 31,
      "outputs": [
        {
          "output_type": "stream",
          "name": "stdout",
          "text": [
            "ROUGE Scores:\n",
            "ROUGE-1: {'r': 0.09630732389546842, 'p': 0.25012641290243776, 'f': 0.13390083961770693}\n",
            "ROUGE-2: {'r': 0.014598618036370352, 'p': 0.034783056644255426, 'f': 0.019941493132465696}\n",
            "ROUGE-L: {'r': 0.09233289724661509, 'p': 0.24146654315424035, 'f': 0.12857305424361054}\n"
          ]
        }
      ]
    }
  ],
  "metadata": {
    "accelerator": "GPU",
    "colab": {
      "provenance": [],
      "gpuType": "T4"
    },
    "kernelspec": {
      "display_name": "Python 3",
      "name": "python3"
    },
    "language_info": {
      "name": "python"
    }
  },
  "nbformat": 4,
  "nbformat_minor": 0
}