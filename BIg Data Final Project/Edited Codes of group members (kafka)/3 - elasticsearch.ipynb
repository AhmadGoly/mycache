{
 "cells": [
  {
   "cell_type": "code",
   "execution_count": 25,
   "metadata": {},
   "outputs": [],
   "source": [
    "#age in code ro nafahmidin khodetoon ye code joda ba estefade az StreamData_preprocessed.csv benevisin. yani\n",
    "#ye code benevisin ke StreamData_preprocessed.csv ro load kone va satr hasho yeki yeki pass bede be codetoon.\n",
    "#input: 7-column-rows\n",
    "#output: send the rows to elasticsearch and show it.\n",
    "import json,datetime\n",
    "from kafka import KafkaConsumer\n",
    "import pandas as pd\n",
    "from elasticsearch import Elasticsearch\n",
    "\n",
    "topicToReceive = 'elasticsearch'\n",
    "kafkaPort = 19092\n",
    "ElasticsearchPort = 9200\n",
    "elasticIndex = 'bigdatafinalproject3'\n",
    "First_Time = True"
   ]
  },
  {
   "cell_type": "code",
   "execution_count": 3,
   "metadata": {},
   "outputs": [],
   "source": [
    "def current_time():\n",
    "    current_datetime = datetime.datetime.now()\n",
    "    return current_datetime.strftime(\"[%Y-%m-%d_%H:%M:%S]\")\n",
    "\n",
    "consumer = KafkaConsumer(topicToReceive, bootstrap_servers=[f'127.0.0.1:{kafkaPort}'])"
   ]
  },
  {
   "cell_type": "code",
   "execution_count": 7,
   "metadata": {},
   "outputs": [
    {
     "name": "stdout",
     "output_type": "stream",
     "text": [
      "[2023-07-14_17:15:00]: Connected to elasticsearch\n"
     ]
    }
   ],
   "source": [
    "es = Elasticsearch(hosts=['http://localhost:9200'])\n",
    "print(f'{current_time()}: Connected to elasticsearch')"
   ]
  },
  {
   "cell_type": "code",
   "execution_count": 26,
   "metadata": {},
   "outputs": [
    {
     "name": "stderr",
     "output_type": "stream",
     "text": [
      "C:\\Users\\AhmaDGoly\\AppData\\Local\\Temp\\ipykernel_9000\\1792738971.py:35: DeprecationWarning: The 'body' parameter is deprecated and will be removed in a future version. Instead use individual parameters.\n",
      "  es.indices.create(index=index_name, body=index_body)\n"
     ]
    },
    {
     "name": "stdout",
     "output_type": "stream",
     "text": [
      "[2023-07-14_17:30:21]: First_time is on. created the index called bigdatafinalproject3\n"
     ]
    }
   ],
   "source": [
    "if First_Time:\n",
    "    index_name = elasticIndex\n",
    "    index_body = {\n",
    "        'settings': {\n",
    "            'number_of_shards': 1,\n",
    "            'number_of_replicas': 0\n",
    "        },\n",
    "        'mappings': {\n",
    "            'properties': {\n",
    "                    \"date\": {\n",
    "                        \"type\": \"date\"\n",
    "                    },\n",
    "                    \"message\": {\n",
    "                        \"type\": \"text\"\n",
    "                    },\n",
    "                    \"hashtags\": {\n",
    "                        \"type\": \"keyword\"\n",
    "                    },\n",
    "                    \"score\": {\n",
    "                        \"type\": \"integer\"\n",
    "                    },\n",
    "                    \"category\": {\n",
    "                        \"type\": \"keyword\"\n",
    "                    },\n",
    "                    \"clean_message\": {\n",
    "                        \"type\": \"text\"\n",
    "                    },\n",
    "                    \"ML_score\": {\n",
    "                        \"type\": \"float\"\n",
    "                    }\n",
    "                \n",
    "            }\n",
    "        }\n",
    "    }\n",
    "    es.indices.create(index=index_name, body=index_body)\n",
    "    print(f\"{current_time()}: First_time is on. created the index called {elasticIndex}\")\n",
    "    First_Time = False\n"
   ]
  },
  {
   "cell_type": "code",
   "execution_count": 19,
   "metadata": {},
   "outputs": [],
   "source": [
    "import dateutil.parser"
   ]
  },
  {
   "cell_type": "code",
   "execution_count": 29,
   "metadata": {},
   "outputs": [
    {
     "name": "stdout",
     "output_type": "stream",
     "text": [
      "[2023-07-14_17:32:11]: 1: Received a news from Preprocessing_Thread...\n",
      "[2023-07-14_17:32:11]: 1: Saved on Elasticsearch on index = bigdatafinalproject3\n",
      "[2023-07-14_17:32:31]: 2: Received a news from Preprocessing_Thread...\n",
      "[2023-07-14_17:32:32]: 2: Saved on Elasticsearch on index = bigdatafinalproject3\n",
      "[2023-07-14_17:32:52]: 3: Received a news from Preprocessing_Thread...\n",
      "[2023-07-14_17:32:52]: 3: Saved on Elasticsearch on index = bigdatafinalproject3\n",
      "[2023-07-14_17:33:16]: 4: Received a news from Preprocessing_Thread...\n",
      "[2023-07-14_17:33:16]: 4: Saved on Elasticsearch on index = bigdatafinalproject3\n",
      "[2023-07-14_17:33:34]: 5: Received a news from Preprocessing_Thread...\n",
      "[2023-07-14_17:33:34]: 5: Saved on Elasticsearch on index = bigdatafinalproject3\n",
      "[2023-07-14_17:33:55]: 6: Received a news from Preprocessing_Thread...\n",
      "[2023-07-14_17:33:55]: 6: Saved on Elasticsearch on index = bigdatafinalproject3\n",
      "[2023-07-14_17:34:12]: 7: Received a news from Preprocessing_Thread...\n",
      "[2023-07-14_17:34:12]: 7: Saved on Elasticsearch on index = bigdatafinalproject3\n",
      "[2023-07-14_17:34:35]: 8: Received a news from Preprocessing_Thread...\n",
      "[2023-07-14_17:34:35]: 8: Saved on Elasticsearch on index = bigdatafinalproject3\n",
      "[2023-07-14_17:34:52]: 9: Received a news from Preprocessing_Thread...\n",
      "[2023-07-14_17:34:52]: 9: Saved on Elasticsearch on index = bigdatafinalproject3\n",
      "[2023-07-14_17:35:14]: 10: Received a news from Preprocessing_Thread...\n",
      "[2023-07-14_17:35:14]: 10: Saved on Elasticsearch on index = bigdatafinalproject3\n",
      "[2023-07-14_17:35:31]: 11: Received a news from Preprocessing_Thread...\n",
      "[2023-07-14_17:35:31]: 11: Saved on Elasticsearch on index = bigdatafinalproject3\n",
      "[2023-07-14_17:35:56]: 12: Received a news from Preprocessing_Thread...\n",
      "[2023-07-14_17:35:56]: 12: Saved on Elasticsearch on index = bigdatafinalproject3\n",
      "[2023-07-14_17:36:12]: 13: Received a news from Preprocessing_Thread...\n",
      "[2023-07-14_17:36:12]: 13: Saved on Elasticsearch on index = bigdatafinalproject3\n",
      "[2023-07-14_17:36:34]: 14: Received a news from Preprocessing_Thread...\n",
      "[2023-07-14_17:36:34]: 14: Saved on Elasticsearch on index = bigdatafinalproject3\n",
      "[2023-07-14_17:36:53]: 15: Received a news from Preprocessing_Thread...\n",
      "[2023-07-14_17:36:53]: 15: Saved on Elasticsearch on index = bigdatafinalproject3\n",
      "[2023-07-14_17:37:12]: 16: Received a news from Preprocessing_Thread...\n",
      "[2023-07-14_17:37:12]: 16: Saved on Elasticsearch on index = bigdatafinalproject3\n",
      "[2023-07-14_17:37:32]: 17: Received a news from Preprocessing_Thread...\n",
      "[2023-07-14_17:37:32]: 17: Saved on Elasticsearch on index = bigdatafinalproject3\n",
      "[2023-07-14_17:38:10]: 18: Received a news from Preprocessing_Thread...\n",
      "[2023-07-14_17:38:11]: 18: Saved on Elasticsearch on index = bigdatafinalproject3\n",
      "[2023-07-14_17:38:31]: 19: Received a news from Preprocessing_Thread...\n",
      "[2023-07-14_17:38:32]: 19: Saved on Elasticsearch on index = bigdatafinalproject3\n",
      "[2023-07-14_17:38:51]: 20: Received a news from Preprocessing_Thread...\n",
      "[2023-07-14_17:38:51]: 20: Saved on Elasticsearch on index = bigdatafinalproject3\n",
      "[2023-07-14_17:39:11]: 21: Received a news from Preprocessing_Thread...\n",
      "[2023-07-14_17:39:11]: 21: Saved on Elasticsearch on index = bigdatafinalproject3\n",
      "[2023-07-14_17:39:31]: 22: Received a news from Preprocessing_Thread...\n",
      "[2023-07-14_17:39:32]: 22: Saved on Elasticsearch on index = bigdatafinalproject3\n",
      "[2023-07-14_17:39:56]: 23: Received a news from Preprocessing_Thread...\n",
      "[2023-07-14_17:39:56]: 23: Saved on Elasticsearch on index = bigdatafinalproject3\n",
      "[2023-07-14_17:40:13]: 24: Received a news from Preprocessing_Thread...\n",
      "[2023-07-14_17:40:13]: 24: Saved on Elasticsearch on index = bigdatafinalproject3\n",
      "[2023-07-14_17:40:34]: 25: Received a news from Preprocessing_Thread...\n",
      "[2023-07-14_17:40:34]: 25: Saved on Elasticsearch on index = bigdatafinalproject3\n",
      "[2023-07-14_17:40:51]: 26: Received a news from Preprocessing_Thread...\n",
      "[2023-07-14_17:40:51]: 26: Saved on Elasticsearch on index = bigdatafinalproject3\n",
      "[2023-07-14_17:41:14]: 27: Received a news from Preprocessing_Thread...\n",
      "[2023-07-14_17:41:14]: 27: Saved on Elasticsearch on index = bigdatafinalproject3\n",
      "[2023-07-14_17:41:32]: 28: Received a news from Preprocessing_Thread...\n",
      "[2023-07-14_17:41:32]: 28: Saved on Elasticsearch on index = bigdatafinalproject3\n",
      "[2023-07-14_17:41:52]: 29: Received a news from Preprocessing_Thread...\n",
      "[2023-07-14_17:41:52]: 29: Saved on Elasticsearch on index = bigdatafinalproject3\n",
      "[2023-07-14_17:42:12]: 30: Received a news from Preprocessing_Thread...\n",
      "[2023-07-14_17:42:12]: 30: Saved on Elasticsearch on index = bigdatafinalproject3\n",
      "[2023-07-14_17:42:32]: 31: Received a news from Preprocessing_Thread...\n",
      "[2023-07-14_17:42:32]: 31: Saved on Elasticsearch on index = bigdatafinalproject3\n",
      "[2023-07-14_17:42:52]: 32: Received a news from Preprocessing_Thread...\n",
      "[2023-07-14_17:42:52]: 32: Saved on Elasticsearch on index = bigdatafinalproject3\n",
      "[2023-07-14_17:43:12]: 33: Received a news from Preprocessing_Thread...\n",
      "[2023-07-14_17:43:12]: 33: Saved on Elasticsearch on index = bigdatafinalproject3\n",
      "[2023-07-14_17:43:52]: 34: Received a news from Preprocessing_Thread...\n",
      "[2023-07-14_17:43:53]: 34: Saved on Elasticsearch on index = bigdatafinalproject3\n",
      "[2023-07-14_17:44:12]: 35: Received a news from Preprocessing_Thread...\n",
      "[2023-07-14_17:44:12]: 35: Saved on Elasticsearch on index = bigdatafinalproject3\n",
      "[2023-07-14_17:44:35]: 36: Received a news from Preprocessing_Thread...\n",
      "[2023-07-14_17:44:35]: 36: Saved on Elasticsearch on index = bigdatafinalproject3\n",
      "[2023-07-14_17:45:01]: 37: Received a news from Preprocessing_Thread...\n"
     ]
    },
    {
     "ename": "ConnectionTimeout",
     "evalue": "Connection timed out",
     "output_type": "error",
     "traceback": [
      "\u001b[1;31m---------------------------------------------------------------------------\u001b[0m",
      "\u001b[1;31mConnectionTimeout\u001b[0m                         Traceback (most recent call last)",
      "Cell \u001b[1;32mIn[29], line 12\u001b[0m\n\u001b[0;32m     10\u001b[0m records \u001b[39m=\u001b[39m receivedRowDF\u001b[39m.\u001b[39mto_dict(orient\u001b[39m=\u001b[39m\u001b[39m'\u001b[39m\u001b[39mrecords\u001b[39m\u001b[39m'\u001b[39m)\n\u001b[0;32m     11\u001b[0m \u001b[39mfor\u001b[39;00m record \u001b[39min\u001b[39;00m records:\n\u001b[1;32m---> 12\u001b[0m     res \u001b[39m=\u001b[39m es\u001b[39m.\u001b[39;49mindex(index\u001b[39m=\u001b[39;49melasticIndex, document\u001b[39m=\u001b[39;49mrecord)\n\u001b[0;32m     13\u001b[0m \u001b[39mprint\u001b[39m(\u001b[39mf\u001b[39m\u001b[39m\"\u001b[39m\u001b[39m{\u001b[39;00mcurrent_time()\u001b[39m}\u001b[39;00m\u001b[39m: \u001b[39m\u001b[39m{\u001b[39;00mx\u001b[39m}\u001b[39;00m\u001b[39m: Saved on Elasticsearch on index = \u001b[39m\u001b[39m{\u001b[39;00melasticIndex\u001b[39m}\u001b[39;00m\u001b[39m\"\u001b[39m)\n",
      "File \u001b[1;32mc:\\Users\\AhmaDGoly\\AppData\\Local\\Programs\\Python\\Python39\\lib\\site-packages\\elasticsearch\\_sync\\client\\utils.py:414\u001b[0m, in \u001b[0;36m_rewrite_parameters.<locals>.wrapper.<locals>.wrapped\u001b[1;34m(*args, **kwargs)\u001b[0m\n\u001b[0;32m    411\u001b[0m         \u001b[39mexcept\u001b[39;00m \u001b[39mKeyError\u001b[39;00m:\n\u001b[0;32m    412\u001b[0m             \u001b[39mpass\u001b[39;00m\n\u001b[1;32m--> 414\u001b[0m \u001b[39mreturn\u001b[39;00m api(\u001b[39m*\u001b[39margs, \u001b[39m*\u001b[39m\u001b[39m*\u001b[39mkwargs)\n",
      "File \u001b[1;32mc:\\Users\\AhmaDGoly\\AppData\\Local\\Programs\\Python\\Python39\\lib\\site-packages\\elasticsearch\\_sync\\client\\__init__.py:2316\u001b[0m, in \u001b[0;36mElasticsearch.index\u001b[1;34m(self, index, document, id, error_trace, filter_path, human, if_primary_term, if_seq_no, op_type, pipeline, pretty, refresh, require_alias, routing, timeout, version, version_type, wait_for_active_shards)\u001b[0m\n\u001b[0;32m   2314\u001b[0m __body \u001b[39m=\u001b[39m document\n\u001b[0;32m   2315\u001b[0m __headers \u001b[39m=\u001b[39m {\u001b[39m\"\u001b[39m\u001b[39maccept\u001b[39m\u001b[39m\"\u001b[39m: \u001b[39m\"\u001b[39m\u001b[39mapplication/json\u001b[39m\u001b[39m\"\u001b[39m, \u001b[39m\"\u001b[39m\u001b[39mcontent-type\u001b[39m\u001b[39m\"\u001b[39m: \u001b[39m\"\u001b[39m\u001b[39mapplication/json\u001b[39m\u001b[39m\"\u001b[39m}\n\u001b[1;32m-> 2316\u001b[0m \u001b[39mreturn\u001b[39;00m \u001b[39mself\u001b[39;49m\u001b[39m.\u001b[39;49mperform_request(  \u001b[39m# type: ignore[return-value]\u001b[39;49;00m\n\u001b[0;32m   2317\u001b[0m     __method, __path, params\u001b[39m=\u001b[39;49m__query, headers\u001b[39m=\u001b[39;49m__headers, body\u001b[39m=\u001b[39;49m__body\n\u001b[0;32m   2318\u001b[0m )\n",
      "File \u001b[1;32mc:\\Users\\AhmaDGoly\\AppData\\Local\\Programs\\Python\\Python39\\lib\\site-packages\\elasticsearch\\_sync\\client\\_base.py:285\u001b[0m, in \u001b[0;36mBaseClient.perform_request\u001b[1;34m(self, method, path, params, headers, body)\u001b[0m\n\u001b[0;32m    282\u001b[0m \u001b[39melse\u001b[39;00m:\n\u001b[0;32m    283\u001b[0m     target \u001b[39m=\u001b[39m path\n\u001b[1;32m--> 285\u001b[0m meta, resp_body \u001b[39m=\u001b[39m \u001b[39mself\u001b[39;49m\u001b[39m.\u001b[39;49mtransport\u001b[39m.\u001b[39;49mperform_request(\n\u001b[0;32m    286\u001b[0m     method,\n\u001b[0;32m    287\u001b[0m     target,\n\u001b[0;32m    288\u001b[0m     headers\u001b[39m=\u001b[39;49mrequest_headers,\n\u001b[0;32m    289\u001b[0m     body\u001b[39m=\u001b[39;49mbody,\n\u001b[0;32m    290\u001b[0m     request_timeout\u001b[39m=\u001b[39;49m\u001b[39mself\u001b[39;49m\u001b[39m.\u001b[39;49m_request_timeout,\n\u001b[0;32m    291\u001b[0m     max_retries\u001b[39m=\u001b[39;49m\u001b[39mself\u001b[39;49m\u001b[39m.\u001b[39;49m_max_retries,\n\u001b[0;32m    292\u001b[0m     retry_on_status\u001b[39m=\u001b[39;49m\u001b[39mself\u001b[39;49m\u001b[39m.\u001b[39;49m_retry_on_status,\n\u001b[0;32m    293\u001b[0m     retry_on_timeout\u001b[39m=\u001b[39;49m\u001b[39mself\u001b[39;49m\u001b[39m.\u001b[39;49m_retry_on_timeout,\n\u001b[0;32m    294\u001b[0m     client_meta\u001b[39m=\u001b[39;49m\u001b[39mself\u001b[39;49m\u001b[39m.\u001b[39;49m_client_meta,\n\u001b[0;32m    295\u001b[0m )\n\u001b[0;32m    297\u001b[0m \u001b[39m# HEAD with a 404 is returned as a normal response\u001b[39;00m\n\u001b[0;32m    298\u001b[0m \u001b[39m# since this is used as an 'exists' functionality.\u001b[39;00m\n\u001b[0;32m    299\u001b[0m \u001b[39mif\u001b[39;00m \u001b[39mnot\u001b[39;00m (method \u001b[39m==\u001b[39m \u001b[39m\"\u001b[39m\u001b[39mHEAD\u001b[39m\u001b[39m\"\u001b[39m \u001b[39mand\u001b[39;00m meta\u001b[39m.\u001b[39mstatus \u001b[39m==\u001b[39m \u001b[39m404\u001b[39m) \u001b[39mand\u001b[39;00m (\n\u001b[0;32m    300\u001b[0m     \u001b[39mnot\u001b[39;00m \u001b[39m200\u001b[39m \u001b[39m<\u001b[39m\u001b[39m=\u001b[39m meta\u001b[39m.\u001b[39mstatus \u001b[39m<\u001b[39m \u001b[39m299\u001b[39m\n\u001b[0;32m    301\u001b[0m     \u001b[39mand\u001b[39;00m (\n\u001b[1;32m   (...)\u001b[0m\n\u001b[0;32m    305\u001b[0m     )\n\u001b[0;32m    306\u001b[0m ):\n",
      "File \u001b[1;32mc:\\Users\\AhmaDGoly\\AppData\\Local\\Programs\\Python\\Python39\\lib\\site-packages\\elastic_transport\\_transport.py:329\u001b[0m, in \u001b[0;36mTransport.perform_request\u001b[1;34m(self, method, target, body, headers, max_retries, retry_on_status, retry_on_timeout, request_timeout, client_meta)\u001b[0m\n\u001b[0;32m    327\u001b[0m start_time \u001b[39m=\u001b[39m time\u001b[39m.\u001b[39mtime()\n\u001b[0;32m    328\u001b[0m \u001b[39mtry\u001b[39;00m:\n\u001b[1;32m--> 329\u001b[0m     meta, raw_data \u001b[39m=\u001b[39m node\u001b[39m.\u001b[39;49mperform_request(\n\u001b[0;32m    330\u001b[0m         method,\n\u001b[0;32m    331\u001b[0m         target,\n\u001b[0;32m    332\u001b[0m         body\u001b[39m=\u001b[39;49mrequest_body,\n\u001b[0;32m    333\u001b[0m         headers\u001b[39m=\u001b[39;49mrequest_headers,\n\u001b[0;32m    334\u001b[0m         request_timeout\u001b[39m=\u001b[39;49mrequest_timeout,\n\u001b[0;32m    335\u001b[0m     )\n\u001b[0;32m    336\u001b[0m     _logger\u001b[39m.\u001b[39minfo(\n\u001b[0;32m    337\u001b[0m         \u001b[39m\"\u001b[39m\u001b[39m%s\u001b[39;00m\u001b[39m \u001b[39m\u001b[39m%s\u001b[39;00m\u001b[39m%s\u001b[39;00m\u001b[39m [status:\u001b[39m\u001b[39m%s\u001b[39;00m\u001b[39m duration:\u001b[39m\u001b[39m%.3f\u001b[39;00m\u001b[39ms]\u001b[39m\u001b[39m\"\u001b[39m\n\u001b[0;32m    338\u001b[0m         \u001b[39m%\u001b[39m (\n\u001b[1;32m   (...)\u001b[0m\n\u001b[0;32m    344\u001b[0m         )\n\u001b[0;32m    345\u001b[0m     )\n\u001b[0;32m    347\u001b[0m     \u001b[39mif\u001b[39;00m method \u001b[39m!=\u001b[39m \u001b[39m\"\u001b[39m\u001b[39mHEAD\u001b[39m\u001b[39m\"\u001b[39m:\n",
      "File \u001b[1;32mc:\\Users\\AhmaDGoly\\AppData\\Local\\Programs\\Python\\Python39\\lib\\site-packages\\elastic_transport\\_node\\_http_urllib3.py:199\u001b[0m, in \u001b[0;36mUrllib3HttpNode.perform_request\u001b[1;34m(self, method, target, body, headers, request_timeout)\u001b[0m\n\u001b[0;32m    191\u001b[0m         err \u001b[39m=\u001b[39m \u001b[39mConnectionError\u001b[39;00m(\u001b[39mstr\u001b[39m(e), errors\u001b[39m=\u001b[39m(e,))\n\u001b[0;32m    192\u001b[0m     \u001b[39mself\u001b[39m\u001b[39m.\u001b[39m_log_request(\n\u001b[0;32m    193\u001b[0m         method\u001b[39m=\u001b[39mmethod,\n\u001b[0;32m    194\u001b[0m         target\u001b[39m=\u001b[39mtarget,\n\u001b[1;32m   (...)\u001b[0m\n\u001b[0;32m    197\u001b[0m         exception\u001b[39m=\u001b[39merr,\n\u001b[0;32m    198\u001b[0m     )\n\u001b[1;32m--> 199\u001b[0m     \u001b[39mraise\u001b[39;00m err \u001b[39mfrom\u001b[39;00m \u001b[39mNone\u001b[39;00m\n\u001b[0;32m    201\u001b[0m meta \u001b[39m=\u001b[39m ApiResponseMeta(\n\u001b[0;32m    202\u001b[0m     node\u001b[39m=\u001b[39m\u001b[39mself\u001b[39m\u001b[39m.\u001b[39mconfig,\n\u001b[0;32m    203\u001b[0m     duration\u001b[39m=\u001b[39mduration,\n\u001b[1;32m   (...)\u001b[0m\n\u001b[0;32m    206\u001b[0m     headers\u001b[39m=\u001b[39mresponse_headers,\n\u001b[0;32m    207\u001b[0m )\n\u001b[0;32m    208\u001b[0m \u001b[39mself\u001b[39m\u001b[39m.\u001b[39m_log_request(\n\u001b[0;32m    209\u001b[0m     method\u001b[39m=\u001b[39mmethod,\n\u001b[0;32m    210\u001b[0m     target\u001b[39m=\u001b[39mtarget,\n\u001b[1;32m   (...)\u001b[0m\n\u001b[0;32m    214\u001b[0m     response\u001b[39m=\u001b[39mdata,\n\u001b[0;32m    215\u001b[0m )\n",
      "\u001b[1;31mConnectionTimeout\u001b[0m: Connection timed out"
     ]
    }
   ],
   "source": [
    "x = 0\n",
    "for message in consumer:\n",
    "    x = x + 1\n",
    "    print(f\"{current_time()}: {x}: Received a news from Preprocessing_Thread...\")\n",
    "    json_row = message.value.decode('utf-8')\n",
    "    row = json.loads(json_row)\n",
    "    receivedRowDF = pd.DataFrame([row])\n",
    "    #az inja be bad kodetoon ro be ezaye har satre jadidi ke omad piade konin.\n",
    "    receivedRowDF['date'] = receivedRowDF['date'].apply(lambda x: dateutil.parser.parse(x).isoformat())\n",
    "    records = receivedRowDF.to_dict(orient='records')\n",
    "    for record in records:\n",
    "        res = es.index(index=elasticIndex, document=record)\n",
    "    print(f\"{current_time()}: {x}: Saved on Elasticsearch on index = {elasticIndex}\")"
   ]
  }
 ],
 "metadata": {
  "kernelspec": {
   "display_name": "Python 3.9.13 64-bit",
   "language": "python",
   "name": "python3"
  },
  "language_info": {
   "codemirror_mode": {
    "name": "ipython",
    "version": 3
   },
   "file_extension": ".py",
   "mimetype": "text/x-python",
   "name": "python",
   "nbconvert_exporter": "python",
   "pygments_lexer": "ipython3",
   "version": "3.9.13"
  },
  "orig_nbformat": 4,
  "vscode": {
   "interpreter": {
    "hash": "cfe9f1fea70b6f3c892a507b25933db96548476c663a42d0d97c2442f6e3001f"
   }
  }
 },
 "nbformat": 4,
 "nbformat_minor": 2
}
