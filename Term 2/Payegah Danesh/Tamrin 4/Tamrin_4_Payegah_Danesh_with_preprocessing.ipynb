{
  "nbformat": 4,
  "nbformat_minor": 0,
  "metadata": {
    "colab": {
      "provenance": []
    },
    "kernelspec": {
      "name": "python3",
      "display_name": "Python 3"
    },
    "language_info": {
      "name": "python"
    }
  },
  "cells": [
    {
      "cell_type": "code",
      "execution_count": 1,
      "metadata": {
        "colab": {
          "base_uri": "https://localhost:8080/"
        },
        "id": "9Dj8A8zp3hBp",
        "outputId": "11b38ecd-7700-4d4a-f39c-290ee80fdbc3"
      },
      "outputs": [
        {
          "output_type": "stream",
          "name": "stdout",
          "text": [
            "Mounted at /content/drive\n"
          ]
        }
      ],
      "source": [
        "from google.colab import drive\n",
        "drive.mount('/content/drive')\n"
      ]
    },
    {
      "cell_type": "code",
      "source": [
        "!cp /content/drive/MyDrive/NSL-KDD.arff NSL-KDD.arff "
      ],
      "metadata": {
        "id": "kmZ9x0l-9QOD"
      },
      "execution_count": 1,
      "outputs": []
    },
    {
      "cell_type": "code",
      "source": [
        "import pandas as pd\n",
        "from sklearn.model_selection import train_test_split\n",
        "from sklearn.tree import DecisionTreeClassifier\n",
        "from sklearn.naive_bayes import GaussianNB\n",
        "from sklearn.svm import SVC\n",
        "from sklearn.neighbors import KNeighborsClassifier\n",
        "from sklearn.neural_network import MLPClassifier\n",
        "from sklearn.metrics import accuracy_score"
      ],
      "metadata": {
        "id": "SysQCumo4ZV_"
      },
      "execution_count": 2,
      "outputs": []
    },
    {
      "cell_type": "code",
      "source": [
        "with open('NSL-KDD.arff', 'r') as file:\n",
        "    lines = file.readlines()\n",
        "\n",
        "data_lists = []\n",
        "for line in lines:\n",
        "    line = line.strip()\n",
        "    line_list = line.split(',')\n",
        "    data_lists.append(line_list)"
      ],
      "metadata": {
        "id": "ReisIyjo4fCr"
      },
      "execution_count": 3,
      "outputs": []
    },
    {
      "cell_type": "code",
      "source": [
        "# Column names\n",
        "columns = ['duration', 'protocol_type', 'service', 'flag', 'src_bytes', 'dst_bytes', 'land', 'wrong_fragment', 'urgent',\n",
        "           'hot', 'num_failed_logins', 'logged_in', 'num_compromised', 'root_shell', 'su_attempted', 'num_root',\n",
        "           'num_file_creations', 'num_shells', 'num_access_files', 'num_outbound_cmds', 'is_host_login',\n",
        "           'is_guest_login', 'count', 'srv_count', 'serror_rate', 'srv_serror_rate', 'rerror_rate', 'srv_rerror_rate',\n",
        "           'same_srv_rate', 'diff_srv_rate', 'srv_diff_host_rate', 'dst_host_count', 'dst_host_srv_count',\n",
        "           'dst_host_same_srv_rate', 'dst_host_diff_srv_rate', 'dst_host_same_src_port_rate',\n",
        "           'dst_host_srv_diff_host_rate', 'dst_host_serror_rate', 'dst_host_srv_serror_rate', 'dst_host_rerror_rate',\n",
        "           'dst_host_srv_rerror_rate', 'class']\n",
        "\n",
        "df = pd.DataFrame(data_lists, columns=columns)\n",
        "\n",
        "# Convert columns to numeric\n",
        "numeric_columns = ['duration', 'src_bytes', 'dst_bytes', 'land', 'wrong_fragment', 'urgent', 'hot',\n",
        "                   'num_failed_logins', 'logged_in', 'num_compromised', 'root_shell', 'su_attempted',\n",
        "                   'num_root', 'num_file_creations', 'num_shells', 'num_access_files', 'num_outbound_cmds',\n",
        "                   'is_host_login', 'is_guest_login', 'count', 'srv_count', 'serror_rate', 'srv_serror_rate',\n",
        "                   'rerror_rate', 'srv_rerror_rate', 'same_srv_rate', 'diff_srv_rate', 'srv_diff_host_rate',\n",
        "                   'dst_host_count', 'dst_host_srv_count', 'dst_host_same_srv_rate', 'dst_host_diff_srv_rate',\n",
        "                   'dst_host_same_src_port_rate', 'dst_host_srv_diff_host_rate', 'dst_host_serror_rate',\n",
        "                   'dst_host_srv_serror_rate', 'dst_host_rerror_rate', 'dst_host_srv_rerror_rate']\n",
        "\n",
        "df[numeric_columns] = df[numeric_columns].apply(pd.to_numeric)"
      ],
      "metadata": {
        "id": "OyRDPgrE4fp_"
      },
      "execution_count": 4,
      "outputs": []
    },
    {
      "cell_type": "code",
      "source": [
        "from sklearn.preprocessing import LabelEncoder, MinMaxScaler\n",
        "\n",
        "# 1. Drop missing values:\n",
        "df.dropna(inplace=True)  \n",
        "\n",
        "# 2. Scale Numerical Variables for these 3 columns:\n",
        "numerical_cols = [\"duration\", \"src_bytes\", \"dst_bytes\"]\n",
        "scaler = MinMaxScaler()\n",
        "df[numerical_cols] = scaler.fit_transform(df[numerical_cols])\n",
        "\n",
        "# 3. String to Numerical:\n",
        "protocol_mapping = {'udp': 0, 'tcp': 1, 'icmp': 2}\n",
        "service_mapping = {'other': 0, 'private': 1, 'http': 2, 'remote_job': 3, 'ftp_data': 4, 'name': 5, 'netbios_ns': 6, 'eco_i': 7, 'mtp': 8, 'telnet': 9, 'finger': 10, 'domain_u': 11, 'supdup': 12, 'uucp_path': 13, 'Z39_50': 14, 'smtp': 15, 'csnet_ns': 16, 'uucp': 17, 'netbios_dgm': 18, 'urp_i': 19, 'auth': 20, 'domain': 21, 'ftp': 22, 'bgp': 23, 'ldap': 24, 'ecr_i': 25, 'gopher': 26, 'vmnet': 27, 'systat': 28, 'http_443': 29, 'efs': 30, 'whois': 31, 'imap4': 32, 'iso_tsap': 33, 'echo': 34, 'klogin': 35, 'link': 36, 'sunrpc': 37, 'login': 38, 'kshell': 39, 'sql_net': 40, 'time': 41, 'hostnames': 42, 'exec': 43, 'ntp_u': 44, 'discard': 45, 'nntp': 46, 'courier': 47, 'ctf': 48, 'ssh': 49, 'daytime': 50, 'shell': 51, 'netstat': 52, 'pop_3': 53, 'nnsp': 54, 'IRC': 55, 'pop_2': 56, 'printer': 57, 'tim_i': 58, 'pm_dump': 59, 'red_i': 60, 'netbios_ssn': 61, 'rje': 62, 'X11': 63, 'urh_i': 64, 'http_8001': 65, 'aol': 66, 'http_2784': 67, 'tftp_u': 68, 'harvest': 69}\n",
        "flag_mapping = {'SF': 0, 'S0': 1, 'REJ': 2, 'RSTR': 3, 'SH': 4, 'RSTO': 5, 'S1': 6, 'RSTOS0': 7, 'S3': 8, 'S2': 9, 'OTH': 10}\n",
        "class_mapping = {'normal':0 , 'anomaly':1}\n",
        "df['protocol_type'] = df['protocol_type'].map(protocol_mapping)\n",
        "df['service'] = df['service'].map(service_mapping)\n",
        "df['flag'] = df['flag'].map(flag_mapping)\n",
        "df['class'] = df['class'].map(class_mapping)"
      ],
      "metadata": {
        "id": "akL_SyqF4hjx"
      },
      "execution_count": 5,
      "outputs": []
    },
    {
      "cell_type": "code",
      "source": [
        "print(df.dtypes)\n"
      ],
      "metadata": {
        "colab": {
          "base_uri": "https://localhost:8080/"
        },
        "id": "-02TM81p64V8",
        "outputId": "1e10aef2-a161-432a-ea3a-a5beaddb0917"
      },
      "execution_count": 6,
      "outputs": [
        {
          "output_type": "stream",
          "name": "stdout",
          "text": [
            "duration                       float64\n",
            "protocol_type                    int64\n",
            "service                          int64\n",
            "flag                             int64\n",
            "src_bytes                      float64\n",
            "dst_bytes                      float64\n",
            "land                             int64\n",
            "wrong_fragment                   int64\n",
            "urgent                           int64\n",
            "hot                              int64\n",
            "num_failed_logins                int64\n",
            "logged_in                        int64\n",
            "num_compromised                  int64\n",
            "root_shell                       int64\n",
            "su_attempted                     int64\n",
            "num_root                         int64\n",
            "num_file_creations               int64\n",
            "num_shells                       int64\n",
            "num_access_files                 int64\n",
            "num_outbound_cmds                int64\n",
            "is_host_login                    int64\n",
            "is_guest_login                   int64\n",
            "count                            int64\n",
            "srv_count                        int64\n",
            "serror_rate                    float64\n",
            "srv_serror_rate                float64\n",
            "rerror_rate                    float64\n",
            "srv_rerror_rate                float64\n",
            "same_srv_rate                  float64\n",
            "diff_srv_rate                  float64\n",
            "srv_diff_host_rate             float64\n",
            "dst_host_count                   int64\n",
            "dst_host_srv_count               int64\n",
            "dst_host_same_srv_rate         float64\n",
            "dst_host_diff_srv_rate         float64\n",
            "dst_host_same_src_port_rate    float64\n",
            "dst_host_srv_diff_host_rate    float64\n",
            "dst_host_serror_rate           float64\n",
            "dst_host_srv_serror_rate       float64\n",
            "dst_host_rerror_rate           float64\n",
            "dst_host_srv_rerror_rate       float64\n",
            "class                            int64\n",
            "dtype: object\n"
          ]
        }
      ]
    },
    {
      "cell_type": "code",
      "source": [
        "import pandas as pd\n",
        "null_counts = df.isnull().sum()\n",
        "columns_with_nulls = null_counts[null_counts > 0]\n",
        "print(columns_with_nulls)"
      ],
      "metadata": {
        "colab": {
          "base_uri": "https://localhost:8080/"
        },
        "id": "n3vy_L4K7X8i",
        "outputId": "1a4d31ce-fe7e-4fc8-e235-ccc04418915f"
      },
      "execution_count": 7,
      "outputs": [
        {
          "output_type": "stream",
          "name": "stdout",
          "text": [
            "Series([], dtype: int64)\n"
          ]
        }
      ]
    },
    {
      "cell_type": "code",
      "source": [
        "import seaborn as sns\n",
        "import matplotlib.pyplot as plt\n",
        "correlation_matrix = df.corr()[['class']]\n",
        "plt.figure(figsize=(10, 8))\n",
        "sns.heatmap(correlation_matrix, annot=True, cmap=\"coolwarm\")\n",
        "plt.title('Correlation with Class')\n",
        "plt.show()\n"
      ],
      "metadata": {
        "colab": {
          "base_uri": "https://localhost:8080/",
          "height": 699
        },
        "id": "tYIOI5Im56Wf",
        "outputId": "9887c6b9-3fa7-464e-8eb7-8b90b3dfc275"
      },
      "execution_count": 8,
      "outputs": [
        {
          "output_type": "display_data",
          "data": {
            "text/plain": [
              "<Figure size 1000x800 with 2 Axes>"
            ],
            "image/png": "[encoded data removed]"
          },
          "metadata": {}
        }
      ]
    },
    {
      "cell_type": "code",
      "source": [
        "correlation_filter = (correlation_matrix['class'] > -0.1) & (correlation_matrix['class'] < 0.1)\n",
        "filtered_columns = correlation_matrix[correlation_filter].index\n",
        "print(\"Columns with correlations between -0.1 and +0.1:\")\n",
        "print(filtered_columns)"
      ],
      "metadata": {
        "colab": {
          "base_uri": "https://localhost:8080/"
        },
        "id": "1FLZqjMn8FFy",
        "outputId": "a73dc6c4-f520-41d7-e0f3-d8ed2b8283f1"
      },
      "execution_count": 9,
      "outputs": [
        {
          "output_type": "stream",
          "name": "stdout",
          "text": [
            "Columns with correlations between -0.1 and +0.1:\n",
            "Index(['duration', 'src_bytes', 'dst_bytes', 'land', 'wrong_fragment',\n",
            "       'urgent', 'hot', 'num_failed_logins', 'num_compromised', 'root_shell',\n",
            "       'su_attempted', 'num_root', 'num_file_creations', 'num_shells',\n",
            "       'num_access_files', 'is_host_login', 'is_guest_login', 'srv_count',\n",
            "       'dst_host_same_src_port_rate', 'dst_host_srv_diff_host_rate'],\n",
            "      dtype='object')\n"
          ]
        }
      ]
    },
    {
      "cell_type": "code",
      "source": [
        "df_filtered = df.drop(filtered_columns, axis=1)\n",
        "#df_filtered = df_filtered.drop(filtered_columns, axis=1)"
      ],
      "metadata": {
        "id": "0vzEdodQ-0vt"
      },
      "execution_count": 10,
      "outputs": []
    },
    {
      "cell_type": "code",
      "source": [
        "df_filtered = df_filtered.drop('num_outbound_cmds', axis=1)"
      ],
      "metadata": {
        "id": "JzMFya2IAPeN"
      },
      "execution_count": 11,
      "outputs": []
    },
    {
      "cell_type": "code",
      "source": [
        "print(df_filtered)"
      ],
      "metadata": {
        "colab": {
          "base_uri": "https://localhost:8080/"
        },
        "id": "ACnYrfQC-2JK",
        "outputId": "42499974-b1ff-4652-f18f-0ba78a42693c"
      },
      "execution_count": 12,
      "outputs": [
        {
          "output_type": "stream",
          "name": "stdout",
          "text": [
            "        protocol_type  service  flag  logged_in  count  serror_rate  \\\n",
            "0                   1        4     0          0      2          0.0   \n",
            "1                   0        0     0          0     13          0.0   \n",
            "2                   1        1     1          0    123          1.0   \n",
            "3                   1        2     0          1      5          0.2   \n",
            "4                   1        2     0          1     30          0.0   \n",
            "...               ...      ...   ...        ...    ...          ...   \n",
            "125968              1        1     1          0    184          1.0   \n",
            "125969              0        1     0          0      2          0.0   \n",
            "125970              1       15     0          1      1          0.0   \n",
            "125971              1       35     1          0    144          1.0   \n",
            "125972              1        4     0          1      1          0.0   \n",
            "\n",
            "        srv_serror_rate  rerror_rate  srv_rerror_rate  same_srv_rate  ...  \\\n",
            "0                   0.0          0.0              0.0           1.00  ...   \n",
            "1                   0.0          0.0              0.0           0.08  ...   \n",
            "2                   1.0          0.0              0.0           0.05  ...   \n",
            "3                   0.2          0.0              0.0           1.00  ...   \n",
            "4                   0.0          0.0              0.0           1.00  ...   \n",
            "...                 ...          ...              ...            ...  ...   \n",
            "125968              1.0          0.0              0.0           0.14  ...   \n",
            "125969              0.0          0.0              0.0           1.00  ...   \n",
            "125970              0.0          0.0              0.0           1.00  ...   \n",
            "125971              1.0          0.0              0.0           0.06  ...   \n",
            "125972              0.0          0.0              0.0           1.00  ...   \n",
            "\n",
            "        srv_diff_host_rate  dst_host_count  dst_host_srv_count  \\\n",
            "0                     0.00             150                  25   \n",
            "1                     0.00             255                   1   \n",
            "2                     0.00             255                  26   \n",
            "3                     0.00              30                 255   \n",
            "4                     0.09             255                 255   \n",
            "...                    ...             ...                 ...   \n",
            "125968                0.00             255                  25   \n",
            "125969                0.00             255                 244   \n",
            "125970                0.00             255                  30   \n",
            "125971                0.00             255                   8   \n",
            "125972                0.00             255                  77   \n",
            "\n",
            "        dst_host_same_srv_rate  dst_host_diff_srv_rate  dst_host_serror_rate  \\\n",
            "0                         0.17                    0.03                  0.00   \n",
            "1                         0.00                    0.60                  0.00   \n",
            "2                         0.10                    0.05                  1.00   \n",
            "3                         1.00                    0.00                  0.03   \n",
            "4                         1.00                    0.00                  0.00   \n",
            "...                        ...                     ...                   ...   \n",
            "125968                    0.10                    0.06                  1.00   \n",
            "125969                    0.96                    0.01                  0.00   \n",
            "125970                    0.12                    0.06                  0.72   \n",
            "125971                    0.03                    0.05                  1.00   \n",
            "125972                    0.30                    0.03                  0.00   \n",
            "\n",
            "        dst_host_srv_serror_rate  dst_host_rerror_rate  \\\n",
            "0                           0.00                  0.05   \n",
            "1                           0.00                  0.00   \n",
            "2                           1.00                  0.00   \n",
            "3                           0.01                  0.00   \n",
            "4                           0.00                  0.00   \n",
            "...                          ...                   ...   \n",
            "125968                      1.00                  0.00   \n",
            "125969                      0.00                  0.00   \n",
            "125970                      0.00                  0.01   \n",
            "125971                      1.00                  0.00   \n",
            "125972                      0.00                  0.00   \n",
            "\n",
            "        dst_host_srv_rerror_rate  class  \n",
            "0                           0.00      0  \n",
            "1                           0.00      0  \n",
            "2                           0.00      1  \n",
            "3                           0.01      0  \n",
            "4                           0.00      0  \n",
            "...                          ...    ...  \n",
            "125968                      0.00      1  \n",
            "125969                      0.00      0  \n",
            "125970                      0.00      0  \n",
            "125971                      0.00      1  \n",
            "125972                      0.00      0  \n",
            "\n",
            "[125973 rows x 21 columns]\n"
          ]
        }
      ]
    },
    {
      "cell_type": "code",
      "source": [
        "#Now lets make the model:\n",
        "X = df_filtered.drop('class', axis=1)\n",
        "y = df_filtered['class']\n",
        "X_train, X_test, y_train, y_test = train_test_split(X, y, test_size=0.2, random_state=42)"
      ],
      "metadata": {
        "id": "sUyd0-ar-6NR"
      },
      "execution_count": 13,
      "outputs": []
    },
    {
      "cell_type": "code",
      "source": [
        "# Decision Tree\n",
        "dt_model = DecisionTreeClassifier()\n",
        "dt_model.fit(X_train, y_train)\n",
        "dt_pred = dt_model.predict(X_test)\n",
        "dt_accuracy = accuracy_score(y_test, dt_pred)"
      ],
      "metadata": {
        "id": "FQHXTk4urh75"
      },
      "execution_count": 14,
      "outputs": []
    },
    {
      "cell_type": "code",
      "source": [
        "# Gaussian Naive Bayes\n",
        "nb_model = GaussianNB()\n",
        "nb_model.fit(X_train, y_train)\n",
        "nb_pred = nb_model.predict(X_test)\n",
        "nb_accuracy = accuracy_score(y_test, nb_pred)"
      ],
      "metadata": {
        "id": "KD3HXbtBt-7q"
      },
      "execution_count": 15,
      "outputs": []
    },
    {
      "cell_type": "code",
      "source": [
        "# K-Nearest Neighbors\n",
        "knn_model = KNeighborsClassifier()\n",
        "knn_model.fit(X_train, y_train)\n",
        "knn_pred = knn_model.predict(X_test)\n",
        "knn_accuracy = accuracy_score(y_test, knn_pred)"
      ],
      "metadata": {
        "id": "I0E4GLyEt_aB"
      },
      "execution_count": 16,
      "outputs": []
    },
    {
      "cell_type": "code",
      "source": [
        "# Backpropagation\n",
        "bp_model = MLPClassifier()\n",
        "bp_model.fit(X_train, y_train)\n",
        "bp_pred = bp_model.predict(X_test)\n",
        "bp_accuracy = accuracy_score(y_test, bp_pred)"
      ],
      "metadata": {
        "id": "eeCiXHn4t_qh"
      },
      "execution_count": 17,
      "outputs": []
    },
    {
      "cell_type": "code",
      "source": [
        "# Support Vector Machine Classifier\n",
        "svm_model = SVC()\n",
        "svm_model.fit(X_train, y_train)\n",
        "svm_pred = svm_model.predict(X_test)\n",
        "svm_accuracy = accuracy_score(y_test, svm_pred)"
      ],
      "metadata": {
        "id": "mwhPQR7ls91J"
      },
      "execution_count": 18,
      "outputs": []
    },
    {
      "cell_type": "code",
      "source": [
        "from sklearn.metrics import accuracy_score, precision_score, recall_score, roc_auc_score, classification_report\n",
        "\n",
        "dt_accuracy = accuracy_score(y_test, dt_pred)\n",
        "dt_precision = precision_score(y_test, dt_pred)\n",
        "dt_recall = recall_score(y_test, dt_pred)\n",
        "dt_classification_report = classification_report(y_test, dt_pred)\n",
        "dt_roc_auc = roc_auc_score(y_test, dt_pred)\n",
        "\n",
        "nb_accuracy = accuracy_score(y_test, nb_pred)\n",
        "nb_precision = precision_score(y_test, nb_pred)\n",
        "nb_recall = recall_score(y_test, nb_pred)\n",
        "nb_classification_report = classification_report(y_test, nb_pred)\n",
        "nb_roc_auc = roc_auc_score(y_test, nb_pred)\n",
        "\n",
        "knn_accuracy = accuracy_score(y_test, knn_pred)\n",
        "knn_precision = precision_score(y_test, knn_pred)\n",
        "knn_recall = recall_score(y_test, knn_pred)\n",
        "knn_classification_report = classification_report(y_test, knn_pred)\n",
        "knn_roc_auc = roc_auc_score(y_test, knn_pred)\n",
        "\n",
        "bp_accuracy = accuracy_score(y_test, bp_pred)\n",
        "bp_precision = precision_score(y_test, bp_pred)\n",
        "bp_recall = recall_score(y_test, bp_pred)\n",
        "bp_classification_report = classification_report(y_test, bp_pred)\n",
        "bp_roc_auc = roc_auc_score(y_test, bp_pred)\n",
        "\n",
        "svm_accuracy = accuracy_score(y_test, svm_pred)\n",
        "svm_precision = precision_score(y_test, svm_pred)\n",
        "svm_recall = recall_score(y_test, svm_pred)\n",
        "svm_classification_report = classification_report(y_test, svm_pred)\n",
        "svm_roc_auc = roc_auc_score(y_test, svm_pred)"
      ],
      "metadata": {
        "id": "uTO6KQ9WsaBx"
      },
      "execution_count": 19,
      "outputs": []
    },
    {
      "cell_type": "code",
      "source": [
        "metrics = {\n",
        "    'Decision Tree': {'Accuracy': dt_accuracy, 'Precision': dt_precision, 'Recall': dt_recall, 'ROC AUC': dt_roc_auc, 'Classification Report': dt_classification_report},\n",
        "    'Naive Bayes': {'Accuracy': nb_accuracy, 'Precision': nb_precision, 'Recall': nb_recall, 'ROC AUC': nb_roc_auc, 'Classification Report': nb_classification_report},\n",
        "    'K-Nearest Neighbors': {'Accuracy': knn_accuracy, 'Precision': knn_precision, 'Recall': knn_recall, 'ROC AUC': knn_roc_auc, 'Classification Report': knn_classification_report},\n",
        "    'Backpropagation': {'Accuracy': bp_accuracy, 'Precision': bp_precision, 'Recall': bp_recall, 'ROC AUC': bp_roc_auc, 'Classification Report': bp_classification_report},\n",
        "    'SVM': {'Accuracy': svm_accuracy, 'Precision': svm_precision, 'Recall': svm_recall, 'ROC AUC': svm_roc_auc, 'Classification Report': svm_classification_report}\n",
        "}\n",
        "\n",
        "print(\"Metrics Comparison:\")\n",
        "for model, metrics_dict in metrics.items():\n",
        "    print(\"-------------------------------------------------------\")\n",
        "    print(f\"Model: {model}\")\n",
        "    print(f\"Accuracy: {metrics_dict['Accuracy']}\")\n",
        "    print(f\"Precision: {metrics_dict['Precision']}\")\n",
        "    print(f\"Recall: {metrics_dict['Recall']}\")\n",
        "    print(f\"ROC AUC: {metrics_dict['ROC AUC']}\")\n",
        "    print(f\"Classification Report:\\n{metrics_dict['Classification Report']}\\n\")\n"
      ],
      "metadata": {
        "colab": {
          "base_uri": "https://localhost:8080/"
        },
        "id": "IockM9_Xse_B",
        "outputId": "e6f9c48a-73be-41ff-de2a-d279817290d7"
      },
      "execution_count": 20,
      "outputs": [
        {
          "output_type": "stream",
          "name": "stdout",
          "text": [
            "Metrics Comparison:\n",
            "-------------------------------------------------------\n",
            "Model: Decision Tree\n",
            "Accuracy: 0.9934510815638024\n",
            "Precision: 0.9930343187223921\n",
            "Recall: 0.992949970270959\n",
            "ROC AUC: 0.993420298799613\n",
            "Classification Report:\n",
            "              precision    recall  f1-score   support\n",
            "\n",
            "           0       0.99      0.99      0.99     13422\n",
            "           1       0.99      0.99      0.99     11773\n",
            "\n",
            "    accuracy                           0.99     25195\n",
            "   macro avg       0.99      0.99      0.99     25195\n",
            "weighted avg       0.99      0.99      0.99     25195\n",
            "\n",
            "\n",
            "-------------------------------------------------------\n",
            "Model: Naive Bayes\n",
            "Accuracy: 0.8783488787457829\n",
            "Precision: 0.8886805927512944\n",
            "Recall: 0.8455788668988363\n",
            "ROC AUC: 0.8763358497808145\n",
            "Classification Report:\n",
            "              precision    recall  f1-score   support\n",
            "\n",
            "           0       0.87      0.91      0.89     13422\n",
            "           1       0.89      0.85      0.87     11773\n",
            "\n",
            "    accuracy                           0.88     25195\n",
            "   macro avg       0.88      0.88      0.88     25195\n",
            "weighted avg       0.88      0.88      0.88     25195\n",
            "\n",
            "\n",
            "-------------------------------------------------------\n",
            "Model: K-Nearest Neighbors\n",
            "Accuracy: 0.9836078587021234\n",
            "Precision: 0.9814375317850483\n",
            "Recall: 0.9835216172598318\n",
            "ROC AUC: 0.9836025609768091\n",
            "Classification Report:\n",
            "              precision    recall  f1-score   support\n",
            "\n",
            "           0       0.99      0.98      0.98     13422\n",
            "           1       0.98      0.98      0.98     11773\n",
            "\n",
            "    accuracy                           0.98     25195\n",
            "   macro avg       0.98      0.98      0.98     25195\n",
            "weighted avg       0.98      0.98      0.98     25195\n",
            "\n",
            "\n",
            "-------------------------------------------------------\n",
            "Model: Backpropagation\n",
            "Accuracy: 0.9882913276443739\n",
            "Precision: 0.9927026098901099\n",
            "Recall: 0.982162575384354\n",
            "ROC AUC: 0.9879148445391448\n",
            "Classification Report:\n",
            "              precision    recall  f1-score   support\n",
            "\n",
            "           0       0.98      0.99      0.99     13422\n",
            "           1       0.99      0.98      0.99     11773\n",
            "\n",
            "    accuracy                           0.99     25195\n",
            "   macro avg       0.99      0.99      0.99     25195\n",
            "weighted avg       0.99      0.99      0.99     25195\n",
            "\n",
            "\n",
            "-------------------------------------------------------\n",
            "Model: SVM\n",
            "Accuracy: 0.93292319904743\n",
            "Precision: 0.9299786780383795\n",
            "Recall: 0.9261870381381127\n",
            "ROC AUC: 0.9325094034380028\n",
            "Classification Report:\n",
            "              precision    recall  f1-score   support\n",
            "\n",
            "           0       0.94      0.94      0.94     13422\n",
            "           1       0.93      0.93      0.93     11773\n",
            "\n",
            "    accuracy                           0.93     25195\n",
            "   macro avg       0.93      0.93      0.93     25195\n",
            "weighted avg       0.93      0.93      0.93     25195\n",
            "\n",
            "\n"
          ]
        }
      ]
    },
    {
      "cell_type": "code",
      "source": [
        "from sklearn.metrics import confusion_matrix\n",
        "#dt nb knn bp\n",
        "cm_dt = confusion_matrix(y_test, dt_pred)\n",
        "cm_nb = confusion_matrix(y_test, nb_pred)\n",
        "cm_knn = confusion_matrix(y_test, knn_pred)\n",
        "cm_bp = confusion_matrix(y_test, bp_pred)\n",
        "cm_svm = confusion_matrix(y_test, svm_pred)\n",
        "\n",
        "cm_dt_df = pd.DataFrame(cm_dt, columns=['Predicted 0', 'Predicted 1'], index=['True 0', 'True 1'])\n",
        "cm_nb_df = pd.DataFrame(cm_nb, columns=['Predicted 0', 'Predicted 1'], index=['True 0', 'True 1'])\n",
        "cm_knn_df = pd.DataFrame(cm_knn, columns=['Predicted 0', 'Predicted 1'], index=['True 0', 'True 1'])\n",
        "cm_bp_df = pd.DataFrame(cm_bp, columns=['Predicted 0', 'Predicted 1'], index=['True 0', 'True 1'])\n",
        "cm_svm_df = pd.DataFrame(cm_svm, columns=['Predicted 0', 'Predicted 1'], index=['True 0', 'True 1'])\n",
        "\n",
        "print(\"Confusion Matrix for each model:\")\n",
        "print(\"---------------------------\\nDT:\")\n",
        "print(cm_dt_df)\n",
        "print(\"---------------------------\\nNB:\")\n",
        "print(cm_nb_df)\n",
        "print(\"---------------------------\\nKNN:\")\n",
        "print(cm_knn_df)\n",
        "print(\"---------------------------\\nBP:\")\n",
        "print(cm_bp_df)\n",
        "print(\"---------------------------\\nBP:\")\n",
        "print(cm_svm_df)"
      ],
      "metadata": {
        "colab": {
          "base_uri": "https://localhost:8080/"
        },
        "id": "vvmAVS4fssMZ",
        "outputId": "d40e56a1-317f-40ae-e6e6-d9bbea4e7548"
      },
      "execution_count": 21,
      "outputs": [
        {
          "output_type": "stream",
          "name": "stdout",
          "text": [
            "Confusion Matrix for each model:\n",
            "---------------------------\n",
            "DT:\n",
            "        Predicted 0  Predicted 1\n",
            "True 0        13340           82\n",
            "True 1           83        11690\n",
            "---------------------------\n",
            "NB:\n",
            "        Predicted 0  Predicted 1\n",
            "True 0        12175         1247\n",
            "True 1         1818         9955\n",
            "---------------------------\n",
            "KNN:\n",
            "        Predicted 0  Predicted 1\n",
            "True 0        13203          219\n",
            "True 1          194        11579\n",
            "---------------------------\n",
            "BP:\n",
            "        Predicted 0  Predicted 1\n",
            "True 0        13337           85\n",
            "True 1          210        11563\n"
          ]
        }
      ]
    },
    {
      "cell_type": "code",
      "source": [
        "#PCA:\n",
        "from sklearn.decomposition import PCA\n",
        "from sklearn.preprocessing import StandardScaler\n",
        "X = df_filtered.drop('class', axis=1)\n",
        "y = df_filtered['class']\n",
        "\n",
        "scaler = StandardScaler()\n",
        "X_scaled = scaler.fit_transform(X)\n"
      ],
      "metadata": {
        "id": "L2YcGS4O2wvs"
      },
      "execution_count": 22,
      "outputs": []
    },
    {
      "cell_type": "code",
      "source": [
        "pca = PCA(n_components=14)  \n",
        "X_pca = pca.fit_transform(X_scaled)"
      ],
      "metadata": {
        "id": "j2WVCXxN24eR"
      },
      "execution_count": 23,
      "outputs": []
    },
    {
      "cell_type": "code",
      "source": [
        "X_train_pca, X_test_pca, y_train, y_test = train_test_split(X_pca, y, test_size=0.2, random_state=42)"
      ],
      "metadata": {
        "id": "1Cw8wqO727gZ"
      },
      "execution_count": 24,
      "outputs": []
    },
    {
      "cell_type": "code",
      "source": [
        "# Support Vector Machine Classifier\n",
        "svm_model = SVC()\n",
        "svm_model.fit(X_train_pca, y_train)\n",
        "svm_pred = svm_model.predict(X_test_pca)\n",
        "svm_accuracy = accuracy_score(y_test, svm_pred)"
      ],
      "metadata": {
        "id": "tcy-p1812_XZ"
      },
      "execution_count": 25,
      "outputs": []
    },
    {
      "cell_type": "code",
      "source": [
        "# Backpropagation\n",
        "bp_model = MLPClassifier()\n",
        "bp_model.fit(X_train_pca, y_train)\n",
        "bp_pred = bp_model.predict(X_test_pca)\n",
        "bp_accuracy = accuracy_score(y_test, bp_pred)"
      ],
      "metadata": {
        "id": "VbirAaLn42Hi"
      },
      "execution_count": 26,
      "outputs": []
    },
    {
      "cell_type": "code",
      "source": [
        "# K-Nearest Neighbors\n",
        "knn_model = KNeighborsClassifier()\n",
        "knn_model.fit(X_train_pca, y_train)\n",
        "knn_pred = knn_model.predict(X_test_pca)\n",
        "knn_accuracy = accuracy_score(y_test, knn_pred)"
      ],
      "metadata": {
        "id": "-PxqKXLZ4yvz"
      },
      "execution_count": 27,
      "outputs": []
    },
    {
      "cell_type": "code",
      "source": [
        "# Gaussian Naive Bayes\n",
        "nb_model = GaussianNB()\n",
        "nb_model.fit(X_train_pca, y_train)\n",
        "nb_pred = nb_model.predict(X_test_pca)\n",
        "nb_accuracy = accuracy_score(y_test, nb_pred)"
      ],
      "metadata": {
        "id": "nVAxd8X-4yoa"
      },
      "execution_count": 28,
      "outputs": []
    },
    {
      "cell_type": "code",
      "source": [
        "# Decision Tree\n",
        "dt_model = DecisionTreeClassifier()\n",
        "dt_model.fit(X_train_pca, y_train)\n",
        "dt_pred = dt_model.predict(X_test_pca)\n",
        "dt_accuracy = accuracy_score(y_test, dt_pred)"
      ],
      "metadata": {
        "id": "ExcbqiK84yRZ"
      },
      "execution_count": 29,
      "outputs": []
    },
    {
      "cell_type": "code",
      "source": [
        "from sklearn.metrics import accuracy_score, precision_score, recall_score, roc_auc_score, classification_report\n",
        "\n",
        "dt_accuracy = accuracy_score(y_test, dt_pred)\n",
        "dt_precision = precision_score(y_test, dt_pred)\n",
        "dt_recall = recall_score(y_test, dt_pred)\n",
        "dt_classification_report = classification_report(y_test, dt_pred)\n",
        "dt_roc_auc = roc_auc_score(y_test, dt_pred)\n",
        "\n",
        "nb_accuracy = accuracy_score(y_test, nb_pred)\n",
        "nb_precision = precision_score(y_test, nb_pred)\n",
        "nb_recall = recall_score(y_test, nb_pred)\n",
        "nb_classification_report = classification_report(y_test, nb_pred)\n",
        "nb_roc_auc = roc_auc_score(y_test, nb_pred)\n",
        "\n",
        "knn_accuracy = accuracy_score(y_test, knn_pred)\n",
        "knn_precision = precision_score(y_test, knn_pred)\n",
        "knn_recall = recall_score(y_test, knn_pred)\n",
        "knn_classification_report = classification_report(y_test, knn_pred)\n",
        "knn_roc_auc = roc_auc_score(y_test, knn_pred)\n",
        "\n",
        "bp_accuracy = accuracy_score(y_test, bp_pred)\n",
        "bp_precision = precision_score(y_test, bp_pred)\n",
        "bp_recall = recall_score(y_test, bp_pred)\n",
        "bp_classification_report = classification_report(y_test, bp_pred)\n",
        "bp_roc_auc = roc_auc_score(y_test, bp_pred)\n",
        "\n",
        "svm_accuracy = accuracy_score(y_test, svm_pred)\n",
        "svm_precision = precision_score(y_test, svm_pred)\n",
        "svm_recall = recall_score(y_test, svm_pred)\n",
        "svm_classification_report = classification_report(y_test, svm_pred)\n",
        "svm_roc_auc = roc_auc_score(y_test, svm_pred)"
      ],
      "metadata": {
        "id": "SlDbppwY3PpK"
      },
      "execution_count": 30,
      "outputs": []
    },
    {
      "cell_type": "code",
      "source": [
        "metrics = {\n",
        "    'Decision Tree (PCA)': {'Accuracy': dt_accuracy, 'Precision': dt_precision, 'Recall': dt_recall, 'ROC AUC': dt_roc_auc, 'Classification Report': dt_classification_report},\n",
        "    'Naive Bayes (PCA)': {'Accuracy': nb_accuracy, 'Precision': nb_precision, 'Recall': nb_recall, 'ROC AUC': nb_roc_auc, 'Classification Report': nb_classification_report},\n",
        "    'K-Nearest Neighbors (PCA)': {'Accuracy': knn_accuracy, 'Precision': knn_precision, 'Recall': knn_recall, 'ROC AUC': knn_roc_auc, 'Classification Report': knn_classification_report},\n",
        "    'Backpropagation (PCA)': {'Accuracy': bp_accuracy, 'Precision': bp_precision, 'Recall': bp_recall, 'ROC AUC': bp_roc_auc, 'Classification Report': bp_classification_report},\n",
        "    'SVM (PCA)': {'Accuracy': svm_accuracy, 'Precision': svm_precision, 'Recall': svm_recall, 'ROC AUC': svm_roc_auc, 'Classification Report': svm_classification_report}\n",
        "}\n",
        "\n",
        "print(\"Metrics Comparison After using PCA:\")\n",
        "for model, metrics_dict in metrics.items():\n",
        "    print(\"-------------------------------------------------------\")\n",
        "    print(f\"Model: {model}\")\n",
        "    print(f\"Accuracy: {metrics_dict['Accuracy']}\")\n",
        "    print(f\"Precision: {metrics_dict['Precision']}\")\n",
        "    print(f\"Recall: {metrics_dict['Recall']}\")\n",
        "    print(f\"ROC AUC: {metrics_dict['ROC AUC']}\")\n",
        "    print(f\"Classification Report:\\n{metrics_dict['Classification Report']}\\n\")\n"
      ],
      "metadata": {
        "colab": {
          "base_uri": "https://localhost:8080/"
        },
        "id": "sah__gZ03SWS",
        "outputId": "efa1bb1d-60e7-4d01-bc45-06ab233c352a"
      },
      "execution_count": 31,
      "outputs": [
        {
          "output_type": "stream",
          "name": "stdout",
          "text": [
            "Metrics Comparison After using PCA:\n",
            "-------------------------------------------------------\n",
            "Model: Decision Tree (PCA)\n",
            "Accuracy: 0.9914268704107958\n",
            "Precision: 0.990659760550225\n",
            "Recall: 0.9909963475749597\n",
            "ROC AUC: 0.9914004238247321\n",
            "Classification Report:\n",
            "              precision    recall  f1-score   support\n",
            "\n",
            "           0       0.99      0.99      0.99     13422\n",
            "           1       0.99      0.99      0.99     11773\n",
            "\n",
            "    accuracy                           0.99     25195\n",
            "   macro avg       0.99      0.99      0.99     25195\n",
            "weighted avg       0.99      0.99      0.99     25195\n",
            "\n",
            "\n",
            "-------------------------------------------------------\n",
            "Model: Naive Bayes (PCA)\n",
            "Accuracy: 0.8884699345108157\n",
            "Precision: 0.8923225072222709\n",
            "Recall: 0.8657946147965684\n",
            "ROC AUC: 0.8870770123602869\n",
            "Classification Report:\n",
            "              precision    recall  f1-score   support\n",
            "\n",
            "           0       0.89      0.91      0.90     13422\n",
            "           1       0.89      0.87      0.88     11773\n",
            "\n",
            "    accuracy                           0.89     25195\n",
            "   macro avg       0.89      0.89      0.89     25195\n",
            "weighted avg       0.89      0.89      0.89     25195\n",
            "\n",
            "\n",
            "-------------------------------------------------------\n",
            "Model: K-Nearest Neighbors (PCA)\n",
            "Accuracy: 0.9924191307799166\n",
            "Precision: 0.9905964079972891\n",
            "Recall: 0.993204790622611\n",
            "ROC AUC: 0.992467393076169\n",
            "Classification Report:\n",
            "              precision    recall  f1-score   support\n",
            "\n",
            "           0       0.99      0.99      0.99     13422\n",
            "           1       0.99      0.99      0.99     11773\n",
            "\n",
            "    accuracy                           0.99     25195\n",
            "   macro avg       0.99      0.99      0.99     25195\n",
            "weighted avg       0.99      0.99      0.99     25195\n",
            "\n",
            "\n",
            "-------------------------------------------------------\n",
            "Model: Backpropagation (PCA)\n",
            "Accuracy: 0.9911093470926772\n",
            "Precision: 0.9935048286471242\n",
            "Recall: 0.9874288626518305\n",
            "ROC AUC: 0.9908832586243804\n",
            "Classification Report:\n",
            "              precision    recall  f1-score   support\n",
            "\n",
            "           0       0.99      0.99      0.99     13422\n",
            "           1       0.99      0.99      0.99     11773\n",
            "\n",
            "    accuracy                           0.99     25195\n",
            "   macro avg       0.99      0.99      0.99     25195\n",
            "weighted avg       0.99      0.99      0.99     25195\n",
            "\n",
            "\n",
            "-------------------------------------------------------\n",
            "Model: SVM (PCA)\n",
            "Accuracy: 0.977733677316928\n",
            "Precision: 0.9907212885154062\n",
            "Recall: 0.9613522466661004\n",
            "ROC AUC: 0.9767273824598569\n",
            "Classification Report:\n",
            "              precision    recall  f1-score   support\n",
            "\n",
            "           0       0.97      0.99      0.98     13422\n",
            "           1       0.99      0.96      0.98     11773\n",
            "\n",
            "    accuracy                           0.98     25195\n",
            "   macro avg       0.98      0.98      0.98     25195\n",
            "weighted avg       0.98      0.98      0.98     25195\n",
            "\n",
            "\n"
          ]
        }
      ]
    },
    {
      "cell_type": "code",
      "source": [
        "from sklearn.metrics import confusion_matrix\n",
        "#dt nb knn bp\n",
        "cm_dt = confusion_matrix(y_test, dt_pred)\n",
        "cm_nb = confusion_matrix(y_test, nb_pred)\n",
        "cm_knn = confusion_matrix(y_test, knn_pred)\n",
        "cm_bp = confusion_matrix(y_test, bp_pred)\n",
        "cm_svm = confusion_matrix(y_test, svm_pred)\n",
        "\n",
        "cm_dt_df = pd.DataFrame(cm_dt, columns=['Predicted 0', 'Predicted 1'], index=['True 0', 'True 1'])\n",
        "cm_nb_df = pd.DataFrame(cm_nb, columns=['Predicted 0', 'Predicted 1'], index=['True 0', 'True 1'])\n",
        "cm_knn_df = pd.DataFrame(cm_knn, columns=['Predicted 0', 'Predicted 1'], index=['True 0', 'True 1'])\n",
        "cm_bp_df = pd.DataFrame(cm_bp, columns=['Predicted 0', 'Predicted 1'], index=['True 0', 'True 1'])\n",
        "cm_svm_df = pd.DataFrame(cm_svm, columns=['Predicted 0', 'Predicted 1'], index=['True 0', 'True 1'])\n",
        "\n",
        "print(\"Confusion Matrix for each model:\")\n",
        "print(\"---------------------------\\nDT:\")\n",
        "print(cm_dt_df)\n",
        "print(\"---------------------------\\nNB:\")\n",
        "print(cm_nb_df)\n",
        "print(\"---------------------------\\nKNN:\")\n",
        "print(cm_knn_df)\n",
        "print(\"---------------------------\\nBP:\")\n",
        "print(cm_bp_df)\n",
        "print(\"---------------------------\\nBP:\")\n",
        "print(cm_svm_df)\n"
      ],
      "metadata": {
        "colab": {
          "base_uri": "https://localhost:8080/"
        },
        "id": "AA0z2shb8xkz",
        "outputId": "73b1e67c-917c-4810-b937-a2cd04a85b2b"
      },
      "execution_count": 33,
      "outputs": [
        {
          "output_type": "stream",
          "name": "stdout",
          "text": [
            "Confusion Matrix for each model:\n",
            "---------------------------\n",
            "DT:\n",
            "        Predicted 0  Predicted 1\n",
            "True 0        13312          110\n",
            "True 1          106        11667\n",
            "---------------------------\n",
            "NB:\n",
            "        Predicted 0  Predicted 1\n",
            "True 0        12192         1230\n",
            "True 1         1580        10193\n",
            "---------------------------\n",
            "KNN:\n",
            "        Predicted 0  Predicted 1\n",
            "True 0        13311          111\n",
            "True 1           80        11693\n",
            "---------------------------\n",
            "BP:\n",
            "        Predicted 0  Predicted 1\n",
            "True 0        13346           76\n",
            "True 1          148        11625\n",
            "---------------------------\n",
            "BP:\n",
            "        Predicted 0  Predicted 1\n",
            "True 0        13316          106\n",
            "True 1          455        11318\n"
          ]
        }
      ]
    }
  ]
}