{
  "cells": [
    {
      "cell_type": "code",
      "execution_count": 1,
      "metadata": {
        "colab": {
          "base_uri": "https://localhost:8080/"
        },
        "id": "yvTyc_EQhQCo",
        "outputId": "e14810d7-30f2-4da9-d7aa-dc8b4b9a5641"
      },
      "outputs": [
        {
          "name": "stdout",
          "output_type": "stream",
          "text": [
            "Requirement already satisfied: rouge in /usr/local/lib/python3.10/dist-packages (1.0.1)\n",
            "Requirement already satisfied: six in /usr/local/lib/python3.10/dist-packages (from rouge) (1.16.0)\n",
            "Requirement already satisfied: hazm in /usr/local/lib/python3.10/dist-packages (0.9.1)\n",
            "Requirement already satisfied: gensim<5.0.0,>=4.3.1 in /usr/local/lib/python3.10/dist-packages (from hazm) (4.3.1)\n",
            "Requirement already satisfied: nltk<4.0.0,>=3.8.1 in /usr/local/lib/python3.10/dist-packages (from hazm) (3.8.1)\n",
            "Requirement already satisfied: numpy<2.0.0,>=1.24.3 in /usr/local/lib/python3.10/dist-packages (from hazm) (1.25.0)\n",
            "Requirement already satisfied: python-crfsuite<0.10.0,>=0.9.9 in /usr/local/lib/python3.10/dist-packages (from hazm) (0.9.9)\n",
            "Requirement already satisfied: scikit-learn<2.0.0,>=1.2.2 in /usr/local/lib/python3.10/dist-packages (from hazm) (1.2.2)\n",
            "Requirement already satisfied: scipy>=1.7.0 in /usr/local/lib/python3.10/dist-packages (from gensim<5.0.0,>=4.3.1->hazm) (1.10.1)\n",
            "Requirement already satisfied: smart-open>=1.8.1 in /usr/local/lib/python3.10/dist-packages (from gensim<5.0.0,>=4.3.1->hazm) (6.3.0)\n",
            "Requirement already satisfied: click in /usr/local/lib/python3.10/dist-packages (from nltk<4.0.0,>=3.8.1->hazm) (8.1.3)\n",
            "Requirement already satisfied: joblib in /usr/local/lib/python3.10/dist-packages (from nltk<4.0.0,>=3.8.1->hazm) (1.2.0)\n",
            "Requirement already satisfied: regex>=2021.8.3 in /usr/local/lib/python3.10/dist-packages (from nltk<4.0.0,>=3.8.1->hazm) (2022.10.31)\n",
            "Requirement already satisfied: tqdm in /usr/local/lib/python3.10/dist-packages (from nltk<4.0.0,>=3.8.1->hazm) (4.65.0)\n",
            "Requirement already satisfied: threadpoolctl>=2.0.0 in /usr/local/lib/python3.10/dist-packages (from scikit-learn<2.0.0,>=1.2.2->hazm) (3.1.0)\n"
          ]
        }
      ],
      "source": [
        "!pip install rouge\n",
        "!pip install hazm"
      ]
    },
    {
      "cell_type": "code",
      "execution_count": 2,
      "metadata": {
        "colab": {
          "base_uri": "https://localhost:8080/"
        },
        "id": "_92sPmawhZm8",
        "outputId": "fa6a6364-f8b3-4573-c560-94e389944cb1"
      },
      "outputs": [
        {
          "name": "stderr",
          "output_type": "stream",
          "text": [
            "Downloading...\n",
            "From: https://drive.google.com/uc?id=1xz_YBI8B4fHqAmxlb_3JE5ecJZS5V5z8\n",
            "To: /content/file_1xz_YBI8B4fHqAmxlb_3JE5ecJZS5V5z8.zip\n",
            "100%|██████████| 271M/271M [00:00<00:00, 277MB/s]\n",
            "Downloading...\n",
            "From: https://drive.google.com/uc?id=1z9nYQM2wYVQ7zChtShR6ZaHBSxst_UkK\n",
            "To: /content/file_1z9nYQM2wYVQ7zChtShR6ZaHBSxst_UkK.zip\n",
            "100%|██████████| 18.3M/18.3M [00:00<00:00, 199MB/s]\n",
            "Downloading...\n",
            "From: https://drive.google.com/uc?id=1--sCAcmSeUiJm0dcqQJNBg1fS-CjC-C4\n",
            "To: /content/file_1--sCAcmSeUiJm0dcqQJNBg1fS-CjC-C4.zip\n",
            "100%|██████████| 25.9M/25.9M [00:00<00:00, 138MB/s]\n",
            "Downloading...\n",
            "From: https://drive.google.com/uc?id=1-3DbkWdIjC8BtvqZCQVtZQyrDGNcn4oH\n",
            "To: /content/file_1-3DbkWdIjC8BtvqZCQVtZQyrDGNcn4oH.zip\n",
            "100%|██████████| 96.4M/96.4M [00:00<00:00, 161MB/s]\n"
          ]
        }
      ],
      "source": [
        "import gdown\n",
        "import time\n",
        "from sklearn.model_selection import train_test_split\n",
        "\n",
        "# Define the file URLs\n",
        "file_urls = [\n",
        "    \"https://drive.google.com/file/d/1xz_YBI8B4fHqAmxlb_3JE5ecJZS5V5z8/view?usp=sharing\",\n",
        "    \"https://drive.google.com/file/d/1z9nYQM2wYVQ7zChtShR6ZaHBSxst_UkK/view?usp=sharing\",\n",
        "    \"https://drive.google.com/file/d/1--sCAcmSeUiJm0dcqQJNBg1fS-CjC-C4/view?usp=sharing\",\n",
        "    \"https://drive.google.com/file/d/1-3DbkWdIjC8BtvqZCQVtZQyrDGNcn4oH/view?usp=sharing\"\n",
        "]\n",
        "\n",
        "# Download files\n",
        "for url in file_urls:\n",
        "    file_id = url.split(\"/\")[5]\n",
        "    output_file = f\"file_{file_id}.zip\"  # Customize the output file name if needed\n",
        "    gdown.download(f\"https://drive.google.com/uc?id={file_id}\", output_file, quiet=False)\n"
      ]
    },
    {
      "cell_type": "code",
      "execution_count": 2,
      "metadata": {
        "id": "pUsR3j_zj4ik"
      },
      "outputs": [],
      "source": []
    },
    {
      "cell_type": "code",
      "execution_count": 3,
      "metadata": {
        "id": "UCiWj1jxiE5w"
      },
      "outputs": [],
      "source": [
        "import os\n",
        "os.rename('/content/file_1z9nYQM2wYVQ7zChtShR6ZaHBSxst_UkK.zip', '/content/test_cleaned.csv')\n",
        "os.rename('/content/file_1xz_YBI8B4fHqAmxlb_3JE5ecJZS5V5z8.zip', '/content/train_cleaned.csv')\n",
        "os.rename('/content/file_1--sCAcmSeUiJm0dcqQJNBg1fS-CjC-C4.zip', '/content/word2vec-model.bin')\n",
        "os.rename('/content/file_1-3DbkWdIjC8BtvqZCQVtZQyrDGNcn4oH.zip', '/content/allInputs.pickle')"
      ]
    },
    {
      "cell_type": "code",
      "execution_count": 4,
      "metadata": {
        "id": "YCcSrdJmioD6"
      },
      "outputs": [],
      "source": [
        "import pickle\n",
        "with open(\"allInputs.pickle\", \"rb\") as f:\n",
        "    inputs = pickle.load(f)"
      ]
    },
    {
      "cell_type": "code",
      "execution_count": 5,
      "metadata": {
        "id": "SrX-jwl-i7TS"
      },
      "outputs": [],
      "source": [
        "padded_inputs = inputs['input1']\n",
        "padded_targets = inputs['output1']\n",
        "padded_inputs_test = inputs['input2']\n",
        "padded_targets_test = inputs['output2']\n",
        "padded_inputs_valid = inputs['input3']\n",
        "padded_targets_valid = inputs['output3']\n",
        "info = inputs['info']"
      ]
    },
    {
      "cell_type": "code",
      "execution_count": 6,
      "metadata": {
        "id": "5VstD28FkLyg"
      },
      "outputs": [],
      "source": [
        "import pandas as pd\n",
        "import numpy as np\n",
        "from gensim.models import Word2Vec\n",
        "from tensorflow.keras.preprocessing.sequence import pad_sequences\n",
        "from keras.models import Model\n",
        "from keras.layers import Input, Embedding, GRU, Dense\n",
        "from keras.layers import RepeatVector,TimeDistributed"
      ]
    },
    {
      "cell_type": "code",
      "execution_count": 7,
      "metadata": {
        "id": "0FJJyvOvkB5A"
      },
      "outputs": [],
      "source": [
        "word2vec_model = Word2Vec.load('/content/word2vec-model.bin')"
      ]
    },
    {
      "cell_type": "code",
      "execution_count": 8,
      "metadata": {
        "colab": {
          "base_uri": "https://localhost:8080/"
        },
        "id": "TQgiFpVUkXIY",
        "outputId": "bbd28f0d-303e-409e-8a08-2eadcfec988d"
      },
      "outputs": [
        {
          "name": "stdout",
          "output_type": "stream",
          "text": [
            "[250, 25, 82013, 4755, 838]\n"
          ]
        }
      ],
      "source": [
        "print(info)"
      ]
    },
    {
      "cell_type": "code",
      "execution_count": 9,
      "metadata": {
        "id": "ogkH09fckSyq"
      },
      "outputs": [],
      "source": [
        "word_vectors = word2vec_model.wv\n",
        "vocab_size = len(word_vectors.key_to_index)\n",
        "embedding_dim = word2vec_model.vector_size\n",
        "max_length_input = info[0]\n",
        "max_length_output = info[1]"
      ]
    },
    {
      "cell_type": "code",
      "execution_count": 10,
      "metadata": {
        "id": "I7rLdsUI1z-w"
      },
      "outputs": [],
      "source": [
        "special_end_token = '<SPECIAL_END>'\n",
        "special_end_token_index = len(word_vectors.key_to_index)\n",
        "special_end_token_vector = np.random.random((embedding_dim,))\n",
        "word_vectors.add_vectors([special_end_token], [special_end_token_vector])\n",
        "vocab_size = len(word_vectors.key_to_index)\n",
        "word_vectors = word2vec_model.wv"
      ]
    },
    {
      "cell_type": "code",
      "execution_count": 11,
      "metadata": {
        "id": "mC0wVKEk18En"
      },
      "outputs": [],
      "source": [
        "def find_end_token(sequence):\n",
        "    special_end_token_index=15810\n",
        "    checkingloc = sequence.shape[0] - 1\n",
        "    if sequence[checkingloc] != 0:\n",
        "      sequence[checkingloc] = special_end_token_index\n",
        "      return sequence\n",
        "    while True:\n",
        "      checkingloc = checkingloc - 1\n",
        "      if sequence[checkingloc] != 0:\n",
        "        sequence[checkingloc+1] = special_end_token_index\n",
        "        return sequence\n",
        "      if checkingloc == 0:\n",
        "        return sequence"
      ]
    },
    {
      "cell_type": "code",
      "execution_count": 12,
      "metadata": {
        "id": "XpndU4oZ18sp"
      },
      "outputs": [],
      "source": [
        "special_end_token_index = len(word_vectors.key_to_index) - 1"
      ]
    },
    {
      "cell_type": "code",
      "execution_count": 13,
      "metadata": {
        "colab": {
          "base_uri": "https://localhost:8080/"
        },
        "id": "3t82qeT_2HkH",
        "outputId": "17b42c42-c4a9-4798-ca58-4d43eafffdb7"
      },
      "outputs": [
        {
          "name": "stdout",
          "output_type": "stream",
          "text": [
            "[  609 10023    61   803  1885   791  8120  1707    75  1208   123  1054\n",
            "     5    19     4     6  5385  1159    75   123  1054  2158    83   123\n",
            "    36 14411    75     5    19     4     6   695   823  3528   361     1\n",
            "  5215   382    72  1013   341   123  1054  3066  8826   171    27   145\n",
            "    90   402  1499   808   899   692  1931    83   341 10318  2897 10023\n",
            "  1334  3402  1707   270    83   123  1054     5    32  2721    24    83\n",
            "   270   141     0   656    83     5    19     4     6    57    83   123\n",
            "  1054   636   139 11027  7711  2054   276    75   200  3482 14740    24\n",
            "   459  1623    75    83  1956   649  9113  3000  1129  3556   139  1136\n",
            "  1085    83   123  1054     5    19     4     6   202     0     0     0\n",
            "     0     0     0     0     0     0     0     0     0     0     0     0\n",
            "     0     0     0     0     0     0     0     0     0     0     0     0\n",
            "     0     0     0     0     0     0     0     0     0     0     0     0\n",
            "     0     0     0     0     0     0     0     0     0     0     0     0\n",
            "     0     0     0     0     0     0     0     0     0     0     0     0\n",
            "     0     0     0     0     0     0     0     0     0     0     0     0\n",
            "     0     0     0     0     0     0     0     0     0     0     0     0\n",
            "     0     0     0     0     0     0     0     0     0     0     0     0\n",
            "     0     0     0     0     0     0     0     0     0     0     0     0\n",
            "     0     0     0     0     0     0     0     0     0     0     0     0\n",
            "     0     0     0     0     0     0     0     0     0     0]\n"
          ]
        }
      ],
      "source": [
        "print(padded_inputs[0])"
      ]
    },
    {
      "cell_type": "code",
      "execution_count": 14,
      "metadata": {
        "id": "wZX42TPE2CC3"
      },
      "outputs": [],
      "source": [
        "padded_inputs = np.apply_along_axis(find_end_token, axis=1, arr=padded_inputs)\n",
        "padded_targets = np.apply_along_axis(find_end_token, axis=1, arr=padded_targets)\n",
        "padded_inputs_test = np.apply_along_axis(find_end_token, axis=1, arr=padded_inputs_test)\n",
        "padded_targets_test = np.apply_along_axis(find_end_token, axis=1, arr=padded_targets_test)\n",
        "padded_inputs_valid = np.apply_along_axis(find_end_token, axis=1, arr=padded_inputs_valid)\n",
        "padded_targets_valid = np.apply_along_axis(find_end_token, axis=1, arr=padded_targets_valid)"
      ]
    },
    {
      "cell_type": "code",
      "execution_count": 15,
      "metadata": {
        "colab": {
          "base_uri": "https://localhost:8080/"
        },
        "id": "K9t24eEe2GdJ",
        "outputId": "56c5fb68-33cf-472d-a804-e3693da57baf"
      },
      "outputs": [
        {
          "name": "stdout",
          "output_type": "stream",
          "text": [
            "[  609 10023    61   803  1885   791  8120  1707    75  1208   123  1054\n",
            "     5    19     4     6  5385  1159    75   123  1054  2158    83   123\n",
            "    36 14411    75     5    19     4     6   695   823  3528   361     1\n",
            "  5215   382    72  1013   341   123  1054  3066  8826   171    27   145\n",
            "    90   402  1499   808   899   692  1931    83   341 10318  2897 10023\n",
            "  1334  3402  1707   270    83   123  1054     5    32  2721    24    83\n",
            "   270   141     0   656    83     5    19     4     6    57    83   123\n",
            "  1054   636   139 11027  7711  2054   276    75   200  3482 14740    24\n",
            "   459  1623    75    83  1956   649  9113  3000  1129  3556   139  1136\n",
            "  1085    83   123  1054     5    19     4     6   202 15810     0     0\n",
            "     0     0     0     0     0     0     0     0     0     0     0     0\n",
            "     0     0     0     0     0     0     0     0     0     0     0     0\n",
            "     0     0     0     0     0     0     0     0     0     0     0     0\n",
            "     0     0     0     0     0     0     0     0     0     0     0     0\n",
            "     0     0     0     0     0     0     0     0     0     0     0     0\n",
            "     0     0     0     0     0     0     0     0     0     0     0     0\n",
            "     0     0     0     0     0     0     0     0     0     0     0     0\n",
            "     0     0     0     0     0     0     0     0     0     0     0     0\n",
            "     0     0     0     0     0     0     0     0     0     0     0     0\n",
            "     0     0     0     0     0     0     0     0     0     0     0     0\n",
            "     0     0     0     0     0     0     0     0     0     0]\n"
          ]
        }
      ],
      "source": [
        "print(padded_inputs[0])"
      ]
    },
    {
      "cell_type": "code",
      "execution_count": 16,
      "metadata": {
        "id": "-YYrIhzHj2nh"
      },
      "outputs": [],
      "source": [
        "# encoder input model\n",
        "inputs = Input(shape=(max_length_input,))\n",
        "encoder1 = Embedding(vocab_size, embedding_dim, weights=[word2vec_model.wv.vectors], trainable=False)(inputs)\n",
        "encoder2 = GRU(512)(encoder1)\n",
        "encoder3 = RepeatVector(max_length_output)(encoder2)\n",
        "# decoder output model\n",
        "decoder1 = GRU(512, return_sequences=True)(encoder3)\n",
        "outputs = TimeDistributed(Dense(vocab_size, activation='softmax'))(decoder1)\n",
        "# tie it together\n",
        "model = Model(inputs=inputs, outputs=outputs)"
      ]
    },
    {
      "cell_type": "code",
      "execution_count": 17,
      "metadata": {
        "colab": {
          "base_uri": "https://localhost:8080/"
        },
        "id": "9AVEHFnzkpDv",
        "outputId": "1fcb5d9d-efa9-44ae-9286-2ba89b9e986d"
      },
      "outputs": [
        {
          "name": "stdout",
          "output_type": "stream",
          "text": [
            "Model: \"model\"\n",
            "_________________________________________________________________\n",
            " Layer (type)                Output Shape              Param #   \n",
            "=================================================================\n",
            " input_1 (InputLayer)        [(None, 250)]             0         \n",
            "                                                                 \n",
            " embedding (Embedding)       (None, 250, 200)          3162200   \n",
            "                                                                 \n",
            " gru (GRU)                   (None, 512)               1096704   \n",
            "                                                                 \n",
            " repeat_vector (RepeatVector  (None, 25, 512)          0         \n",
            " )                                                               \n",
            "                                                                 \n",
            " gru_1 (GRU)                 (None, 25, 512)           1575936   \n",
            "                                                                 \n",
            " time_distributed (TimeDistr  (None, 25, 15811)        8111043   \n",
            " ibuted)                                                         \n",
            "                                                                 \n",
            "=================================================================\n",
            "Total params: 13,945,883\n",
            "Trainable params: 10,783,683\n",
            "Non-trainable params: 3,162,200\n",
            "_________________________________________________________________\n"
          ]
        }
      ],
      "source": [
        "model.summary()"
      ]
    },
    {
      "cell_type": "code",
      "execution_count": 18,
      "metadata": {
        "colab": {
          "base_uri": "https://localhost:8080/",
          "height": 564
        },
        "id": "HDnJyJj3ktaI",
        "outputId": "953da675-a758-4424-d567-28abd76fa791"
      },
      "outputs": [
        {
          "data": {
            "image/png": "[encoded data removed]",
            "text/plain": [
              "<IPython.core.display.Image object>"
            ]
          },
          "execution_count": 18,
          "metadata": {},
          "output_type": "execute_result"
        }
      ],
      "source": [
        "from tensorflow.keras.utils import plot_model\n",
        "plot_model(model)"
      ]
    },
    {
      "cell_type": "code",
      "execution_count": 19,
      "metadata": {
        "colab": {
          "base_uri": "https://localhost:8080/"
        },
        "id": "4c0AMR1SlZHJ",
        "outputId": "101c9167-f9c0-4db2-bc21-b99f0a3c5da1"
      },
      "outputs": [
        {
          "name": "stdout",
          "output_type": "stream",
          "text": [
            "Epoch 1/10\n",
            "1282/1282 [==============================] - 144s 105ms/step - loss: 5.8926 - accuracy: 0.2508 - val_loss: 5.6151 - val_accuracy: 0.2558\n",
            "Epoch 2/10\n",
            "1282/1282 [==============================] - 136s 106ms/step - loss: 5.3642 - accuracy: 0.2670 - val_loss: 5.2375 - val_accuracy: 0.2696\n",
            "Epoch 3/10\n",
            "1282/1282 [==============================] - 137s 107ms/step - loss: 5.0558 - accuracy: 0.2767 - val_loss: 5.0777 - val_accuracy: 0.2761\n",
            "Epoch 4/10\n",
            "1282/1282 [==============================] - 137s 107ms/step - loss: 4.8498 - accuracy: 0.2836 - val_loss: 4.8815 - val_accuracy: 0.2813\n",
            "Epoch 5/10\n",
            "1282/1282 [==============================] - 137s 107ms/step - loss: 4.7091 - accuracy: 0.2888 - val_loss: 4.8259 - val_accuracy: 0.2854\n",
            "Epoch 6/10\n",
            "1282/1282 [==============================] - 137s 107ms/step - loss: 4.5942 - accuracy: 0.2930 - val_loss: 4.7712 - val_accuracy: 0.2877\n",
            "Epoch 7/10\n",
            "1282/1282 [==============================] - 136s 106ms/step - loss: 4.4936 - accuracy: 0.2969 - val_loss: 4.7612 - val_accuracy: 0.2883\n",
            "Epoch 8/10\n",
            "1282/1282 [==============================] - 137s 107ms/step - loss: 4.3953 - accuracy: 0.3007 - val_loss: 4.7893 - val_accuracy: 0.2874\n",
            "Epoch 9/10\n",
            "1282/1282 [==============================] - 137s 107ms/step - loss: 4.3095 - accuracy: 0.3042 - val_loss: 4.7680 - val_accuracy: 0.2867\n",
            "Epoch 10/10\n",
            "1282/1282 [==============================] - 137s 107ms/step - loss: 4.2291 - accuracy: 0.3081 - val_loss: 4.7889 - val_accuracy: 0.2850\n"
          ]
        }
      ],
      "source": [
        "model.compile(optimizer='adam', loss='sparse_categorical_crossentropy', metrics=['accuracy'])\n",
        "history= model.fit(padded_inputs, padded_targets, epochs=10, batch_size=64, validation_data=(padded_inputs_valid, padded_targets_valid))"
      ]
    },
    {
      "cell_type": "code",
      "execution_count": 20,
      "metadata": {
        "id": "BvVldUMhlfTp"
      },
      "outputs": [],
      "source": [
        "model.save(\"/content/drive/MyDrive/FinalFilesForPD/SimpleGRU.h5\")"
      ]
    },
    {
      "cell_type": "code",
      "execution_count": 21,
      "metadata": {
        "colab": {
          "base_uri": "https://localhost:8080/",
          "height": 472
        },
        "id": "g9H1vUPKl6u5",
        "outputId": "338e8c27-afc5-48f4-e76d-1fbf22d05496"
      },
      "outputs": [
        {
          "data": {
            "image/png": "[encoded data removed]",
            "text/plain": [
              "<Figure size 640x480 with 1 Axes>"
            ]
          },
          "metadata": {},
          "output_type": "display_data"
        }
      ],
      "source": [
        "import matplotlib.pyplot as plt\n",
        "train_loss = history.history['loss']\n",
        "val_loss = history.history['val_loss']\n",
        "epochs = range(1, len(train_loss) + 1)\n",
        "plt.plot(epochs, train_loss, 'b', label='Training loss')\n",
        "plt.plot(epochs, val_loss, 'r', label='Validation loss')\n",
        "plt.title('Training and Validation Loss')\n",
        "plt.xlabel('Epochs')\n",
        "plt.ylabel('Loss')\n",
        "plt.legend()\n",
        "plt.show()"
      ]
    },
    {
      "cell_type": "code",
      "execution_count": 22,
      "metadata": {
        "id": "mHBitcQrmene"
      },
      "outputs": [],
      "source": [
        "from rouge import Rouge\n",
        "\n",
        "def indices_to_summary(indices, index_to_word):\n",
        "    return ' '.join([index_to_word[idx] for idx in indices if idx != 0])"
      ]
    },
    {
      "cell_type": "code",
      "execution_count": 23,
      "metadata": {
        "colab": {
          "base_uri": "https://localhost:8080/"
        },
        "id": "iU8xrDxJmh2n",
        "outputId": "7c754b0c-5154-4df5-9e11-52d9b04b2724"
      },
      "outputs": [
        {
          "name": "stdout",
          "output_type": "stream",
          "text": [
            "8/8 [==============================] - 1s 27ms/step\n",
            "8/8 [==============================] - 0s 18ms/step\n",
            "8/8 [==============================] - 0s 17ms/step\n",
            "8/8 [==============================] - 0s 17ms/step\n",
            "8/8 [==============================] - 0s 17ms/step\n",
            "8/8 [==============================] - 0s 18ms/step\n",
            "8/8 [==============================] - 0s 17ms/step\n",
            "8/8 [==============================] - 0s 17ms/step\n",
            "8/8 [==============================] - 0s 17ms/step\n",
            "8/8 [==============================] - 0s 17ms/step\n",
            "8/8 [==============================] - 0s 17ms/step\n",
            "8/8 [==============================] - 0s 17ms/step\n",
            "8/8 [==============================] - 0s 17ms/step\n",
            "8/8 [==============================] - 0s 17ms/step\n",
            "8/8 [==============================] - 0s 17ms/step\n",
            "8/8 [==============================] - 0s 17ms/step\n",
            "8/8 [==============================] - 0s 16ms/step\n",
            "8/8 [==============================] - 0s 17ms/step\n",
            "5/5 [==============================] - 1s 15ms/step\n"
          ]
        }
      ],
      "source": [
        "batch_size = 256\n",
        "\n",
        "num_samples = padded_inputs_test.shape[0]\n",
        "num_batches = (num_samples + batch_size - 1) // batch_size\n",
        "predicted_summaries = []\n",
        "for i in range(num_batches):\n",
        "    start_idx = i * batch_size\n",
        "    end_idx = min((i + 1) * batch_size, num_samples)\n",
        "\n",
        "    batch_inputs = padded_inputs_test[start_idx:end_idx]\n",
        "\n",
        "    batch_predictions = model.predict(batch_inputs)\n",
        "\n",
        "    batch_predicted_indices = np.argmax(batch_predictions, axis=2)\n",
        "    batch_predicted_summaries = [\n",
        "        ' '.join([word_vectors.index_to_key[idx] for idx in indices if idx != 0])\n",
        "        for indices in batch_predicted_indices\n",
        "    ]\n",
        "\n",
        "    predicted_summaries.extend(batch_predicted_summaries)\n"
      ]
    },
    {
      "cell_type": "code",
      "execution_count": 24,
      "metadata": {
        "id": "ffHwQ7OQmy4h"
      },
      "outputs": [],
      "source": [
        "predicted_summaries_list = [summary.strip() for summary in predicted_summaries]"
      ]
    },
    {
      "cell_type": "code",
      "execution_count": 25,
      "metadata": {
        "id": "xFJUhP6Am7ip"
      },
      "outputs": [],
      "source": [
        "target_summaries = []\n",
        "for targets in padded_targets_test:\n",
        "    summary = ' '.join([word2vec_model.wv.index_to_key[idx] for idx in targets if idx != 0])\n",
        "    target_summaries.append(summary)"
      ]
    },
    {
      "cell_type": "code",
      "execution_count": 26,
      "metadata": {
        "id": "MK4rw5b7m9s_"
      },
      "outputs": [],
      "source": [
        "rouge = Rouge()\n",
        "null_indices = [index for index, summary in enumerate(predicted_summaries_list) if summary is None or summary == \"\"]\n",
        "#null check:\n",
        "predicted_summaries_list = [summary for index, summary in enumerate(predicted_summaries_list) if index not in null_indices]\n",
        "target_summaries = [summary for index, summary in enumerate(target_summaries) if index not in null_indices]"
      ]
    },
    {
      "cell_type": "code",
      "execution_count": 27,
      "metadata": {
        "colab": {
          "base_uri": "https://localhost:8080/"
        },
        "id": "TilqTywunIVv",
        "outputId": "0745a894-db5c-4fac-ee73-a9a59385d81c"
      },
      "outputs": [
        {
          "name": "stdout",
          "output_type": "stream",
          "text": [
            "ROUGE Scores:\n",
            "ROUGE-1: {'r': 0.1625463384878176, 'p': 0.597901305600785, 'f': 0.24689928453114812}\n",
            "ROUGE-2: {'r': 0.03414242223720644, 'p': 0.07769322470536442, 'f': 0.04500148502350825}\n",
            "ROUGE-L: {'r': 0.15485584302979383, 'p': 0.5699340689584691, 'f': 0.23510045341339422}\n"
          ]
        }
      ],
      "source": [
        "scores = rouge.get_scores(predicted_summaries_list, target_summaries, avg=True)\n",
        "print(\"ROUGE Scores:\")\n",
        "print(f\"ROUGE-1: {scores['rouge-1']}\")\n",
        "print(f\"ROUGE-2: {scores['rouge-2']}\")\n",
        "print(f\"ROUGE-L: {scores['rouge-l']}\")"
      ]
    },
    {
      "cell_type": "code",
      "execution_count": 28,
      "metadata": {
        "colab": {
          "base_uri": "https://localhost:8080/"
        },
        "id": "CLP9DzAjnJuB",
        "outputId": "8b378c69-6f9f-4463-a214-1dfea8074945"
      },
      "outputs": [
        {
          "name": "stdout",
          "output_type": "stream",
          "text": [
            "hi\n"
          ]
        }
      ],
      "source": [
        "print('hi')"
      ]
    }
  ],
  "metadata": {
    "accelerator": "GPU",
    "colab": {
      "gpuType": "T4",
      "provenance": []
    },
    "kernelspec": {
      "display_name": "Python 3.9.13 64-bit",
      "language": "python",
      "name": "python3"
    },
    "language_info": {
      "name": "python",
      "version": "3.9.13"
    },
    "vscode": {
      "interpreter": {
        "hash": "cfe9f1fea70b6f3c892a507b25933db96548476c663a42d0d97c2442f6e3001f"
      }
    }
  },
  "nbformat": 4,
  "nbformat_minor": 0
}
