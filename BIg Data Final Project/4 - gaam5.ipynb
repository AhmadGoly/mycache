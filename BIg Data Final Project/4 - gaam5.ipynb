{
 "cells": [
  {
   "cell_type": "code",
   "execution_count": null,
   "metadata": {},
   "outputs": [],
   "source": [
    "#age in code ro nafahmidin khodetoon ye code joda ba estefade az StreamData_preprocessed.csv benevisin. yani\n",
    "#ye code benevisin ke StreamData_preprocessed.csv ro load kone va satr hasho yeki yeki pass bede be codetoon.\n",
    "#input: 7-column-rows\n",
    "#output: show it in the application in the way you like :p\n",
    "import json,datetime\n",
    "from kafka import KafkaConsumer\n",
    "import pandas as pd\n",
    "\n",
    "topicToReceive = 'gaam5'\n",
    "kafkaPort = 19092"
   ]
  },
  {
   "cell_type": "code",
   "execution_count": null,
   "metadata": {},
   "outputs": [],
   "source": [
    "def current_time():\n",
    "    current_datetime = datetime.datetime.now()\n",
    "    return current_datetime.strftime(\"[%Y-%m-%d_%H:%M:%S]\")\n",
    "\n",
    "consumer = KafkaConsumer(topicToReceive, bootstrap_servers=[f'127.0.0.1:{kafkaPort}'])"
   ]
  },
  {
   "cell_type": "code",
   "execution_count": null,
   "metadata": {},
   "outputs": [],
   "source": [
    "x = 0\n",
    "for message in consumer:\n",
    "    x = x + 1\n",
    "    print(f\"{current_time()}: {x}: Received a news from Preprocessing_Thread. Processing...\")\n",
    "    json_row = message.value.decode('utf-8')\n",
    "    row = json.loads(json_row)\n",
    "    receivedRowDF = pd.DataFrame([row])\n",
    "    #az inja be bad kodetoon ro be ezaye har satre jadidi ke omad piade konin.\n"
   ]
  }
 ],
 "metadata": {
  "kernelspec": {
   "display_name": "Python 3.11.0 64-bit",
   "language": "python",
   "name": "python3"
  },
  "language_info": {
   "name": "python",
   "version": "3.11.0"
  },
  "orig_nbformat": 4,
  "vscode": {
   "interpreter": {
    "hash": "c95712bfabc63e189cd34d69fd1057ec01b7f23a5787a558e4bddabadd5c5a72"
   }
  }
 },
 "nbformat": 4,
 "nbformat_minor": 2
}
