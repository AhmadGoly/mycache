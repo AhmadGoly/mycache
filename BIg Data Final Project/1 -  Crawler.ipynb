{
 "cells": [
  {
   "cell_type": "code",
   "execution_count": 5,
   "metadata": {},
   "outputs": [],
   "source": [
    "#input: telegram channel called @Funda_news (for now its just 200 last news from this channel in StreamData.csv\n",
    "# ke yeki yeki bad az 30 sanie stream mishan.)\n",
    "#output: 2-Columns to preprocessing part.\n",
    "from pyspark.sql import SparkSession\n",
    "from pyspark.sql.functions import *\n",
    "from pyspark.sql.types import *\n",
    "from kafka import KafkaProducer,KafkaConsumer\n",
    "import json, datetime , csv, time\n",
    "from pyspark.ml.feature import VectorAssembler\n",
    "import pandas as pd\n",
    "from tqdm import tqdm\n",
    "\n",
    "pathStreamData = r'C:\\Users\\AhmaDGoly\\Desktop\\Arshad\\TERM 2\\Big Data\\Final\\Codes\\StreamData.csv' #moheme.\n",
    "TimeToSendEachRow = 30 #seconds\n",
    "kafkaPort = 19092\n",
    "crawlerTopic = 'crawler'\n"
   ]
  },
  {
   "cell_type": "code",
   "execution_count": 3,
   "metadata": {},
   "outputs": [],
   "source": [
    "def current_time():\n",
    "    current_datetime = datetime.datetime.now()\n",
    "    return current_datetime.strftime(\"[%Y-%m-%d_%H:%M:%S]\")\n",
    "    \n",
    "producer = KafkaProducer(bootstrap_servers=[f'127.0.0.1:{kafkaPort}'])\n",
    "df = pd.read_csv(pathStreamData, encoding='utf-8-sig')"
   ]
  },
  {
   "cell_type": "code",
   "execution_count": 6,
   "metadata": {},
   "outputs": [
    {
     "name": "stdout",
     "output_type": "stream",
     "text": [
      "[2023-07-13_18:58:47]: Started Sending 2-column rows to kafka on topic = crawler.\n",
      "[2023-07-13_18:58:47]: Streamed 200 row(s) on topic = crawler.\n",
      "[2023-07-13_18:58:47]: Streaming data complete.\n"
     ]
    }
   ],
   "source": [
    "i = 1\n",
    "print(f\"{current_time()}: Started Sending 2-column rows to kafka on topic = {crawlerTopic}.\")\n",
    "for index, row in df.iterrows():\n",
    "    print(f\"{current_time()}: Streamed {i} row(s) on topic = {crawlerTopic}.\", end='\\r')\n",
    "    if i == len(df): print(f\"{current_time()}: Streamed {i} row(s) on topic = {crawlerTopic}.\")\n",
    "    json_row = json.dumps(row.to_dict())\n",
    "    producer.send(crawlerTopic, value=json_row.encode('utf-8'))\n",
    "    i = i + 1\n",
    "    time.sleep(TimeToSendEachRow)\n",
    "print(f\"{current_time()}: Streaming data complete.\")\n"
   ]
  },
  {
   "cell_type": "code",
   "execution_count": 18,
   "metadata": {},
   "outputs": [],
   "source": [
    "producer.close()"
   ]
  },
  {
   "cell_type": "code",
   "execution_count": null,
   "metadata": {},
   "outputs": [],
   "source": [
    "#Original Code: getting the last news from channel using Telegram API. it only works on google colab because I don't have a good vpn.\n",
    "#credit: Amir yousefi (https://github.com/amiryousefi/telegram-analysis/tree/master)\n",
    "'''\n",
    "import configparser\n",
    "import json\n",
    "import asyncio\n",
    "from datetime import date, datetime\n",
    "\n",
    "from telethon import TelegramClient\n",
    "from telethon.errors import SessionPasswordNeededError\n",
    "from telethon.tl.functions.messages import (GetHistoryRequest)\n",
    "from telethon.tl.types import (\n",
    "    PeerChannel\n",
    ")\n",
    "\n",
    "\n",
    "# some functions to parse json date\n",
    "class DateTimeEncoder(json.JSONEncoder):\n",
    "    def default(self, o):\n",
    "        if isinstance(o, datetime):\n",
    "            return o.isoformat()\n",
    "\n",
    "        if isinstance(o, bytes):\n",
    "            return list(o)\n",
    "\n",
    "        return json.JSONEncoder.default(self, o)\n",
    "\n",
    "\n",
    "# Setting configuration values\n",
    "api_id = ...\n",
    "api_hash = ...\n",
    "\n",
    "api_hash = str(api_hash)\n",
    "\n",
    "phone = +989910802462\n",
    "username = mrfreak77\n",
    "\n",
    "# Create the client and connect\n",
    "client = TelegramClient(username, api_id, api_hash)\n",
    "\n",
    "async def main(phone):\n",
    "    await client.start()\n",
    "    print(\"Client Created\")\n",
    "    # Ensure you're authorized\n",
    "    if await client.is_user_authorized() == False:\n",
    "        await client.send_code_request(phone)\n",
    "        try:\n",
    "            await client.sign_in(phone, input('Enter the code: '))\n",
    "        except SessionPasswordNeededError:\n",
    "            await client.sign_in(password=input('Password: '))\n",
    "\n",
    "    me = await client.get_me()\n",
    "\n",
    "    user_input_channel = input('enter entity(telegram URL or entity id):')\n",
    "\n",
    "    if user_input_channel.isdigit():\n",
    "        entity = PeerChannel(int(user_input_channel))\n",
    "    else:\n",
    "        entity = user_input_channel\n",
    "\n",
    "    my_channel = await client.get_entity(entity)\n",
    "\n",
    "    offset_id = 0\n",
    "    limit = 100\n",
    "    all_messages = []\n",
    "    total_messages = 0\n",
    "    total_count_limit = 0\n",
    "\n",
    "    while True:\n",
    "        print(\"Current Offset ID is:\", offset_id, \"; Total Messages:\", total_messages)\n",
    "        history = await client(GetHistoryRequest(\n",
    "            peer=my_channel,\n",
    "            offset_id=offset_id,\n",
    "            offset_date=None,\n",
    "            add_offset=0,\n",
    "            limit=limit,\n",
    "            max_id=0,\n",
    "            min_id=0,\n",
    "            hash=0\n",
    "        ))\n",
    "        if not history.messages:\n",
    "            break\n",
    "        messages = history.messages\n",
    "        for message in messages:\n",
    "            all_messages.append(message.to_dict())\n",
    "        offset_id = messages[len(messages) - 1].id\n",
    "        total_messages = len(all_messages)\n",
    "        if total_count_limit != 0 and total_messages >= total_count_limit:\n",
    "            break\n",
    "\n",
    "    with open('channel_messages.json', 'w') as outfile:\n",
    "        json.dump(all_messages, outfile, cls=DateTimeEncoder)\n",
    "\n",
    "with client:\n",
    "    client.loop.run_until_complete(main(phone))\n",
    "\n",
    "'''\n"
   ]
  }
 ],
 "metadata": {
  "kernelspec": {
   "display_name": "Python 3.9.13 64-bit",
   "language": "python",
   "name": "python3"
  },
  "language_info": {
   "codemirror_mode": {
    "name": "ipython",
    "version": 3
   },
   "file_extension": ".py",
   "mimetype": "text/x-python",
   "name": "python",
   "nbconvert_exporter": "python",
   "pygments_lexer": "ipython3",
   "version": "3.9.13"
  },
  "orig_nbformat": 4,
  "vscode": {
   "interpreter": {
    "hash": "cfe9f1fea70b6f3c892a507b25933db96548476c663a42d0d97c2442f6e3001f"
   }
  }
 },
 "nbformat": 4,
 "nbformat_minor": 2
}
