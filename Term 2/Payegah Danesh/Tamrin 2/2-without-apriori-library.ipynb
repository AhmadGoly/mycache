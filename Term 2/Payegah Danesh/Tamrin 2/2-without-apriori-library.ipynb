{
  "nbformat": 4,
  "nbformat_minor": 0,
  "metadata": {
    "colab": {
      "provenance": []
    },
    "kernelspec": {
      "name": "python3",
      "display_name": "Python 3"
    },
    "language_info": {
      "name": "python"
    }
  },
  "cells": [
    {
      "cell_type": "code",
      "execution_count": 28,
      "metadata": {
        "id": "hsSVqP7qiPA0"
      },
      "outputs": [],
      "source": [
        "import pandas as pd\n",
        "import itertools\n",
        "class Arules:\n",
        "  def __init__(self):\n",
        "    ...\n",
        "  def get_frequent_item_sets(self,transactions,min_support,min_confidence):\n",
        "      print(f\"get_frequent_item_sets Running for Min Support {min_support}\")\n",
        "      totalrows=transactions.shape[0]\n",
        "      min_support_int=totalrows*min_support\n",
        "      print(f\"Running for K=1\")\n",
        "      #for start, we calculate the C1 and L1:\n",
        "      final_list=[]\n",
        "      #C1\n",
        "      for i in range(0,transactions.shape[1]):\n",
        "          count=0.0\n",
        "          col_name=transactions.columns[i]\n",
        "          for j in range(0,transactions.shape[0]):\n",
        "              if transactions.loc[j, col_name] != 0:\n",
        "                  count+=1\n",
        "          #L1\n",
        "          if (count)>min_support_int:\n",
        "              final_list.append([[col_name],count])\n",
        "      #lets do the K(N)\n",
        "      last_list=final_list.copy()\n",
        "      k=2\n",
        "      while(True):\n",
        "          print(f\"--------------------------------\\nRunning for k={k}\")\n",
        "          cachelist=Arules().KN(transactions,last_list,k,min_support_int)\n",
        "          print(f\"\\nk({k}) frequent_item_sets size is {len(cachelist)}. passing it to k={(k+1)} (if it's not empty).\")\n",
        "          if cachelist==[]:\n",
        "              break\n",
        "          else:\n",
        "              for i in range(0,len(cachelist)):\n",
        "                  final_list.append(cachelist[i])\n",
        "              last_list=cachelist.copy()\n",
        "              k=k+1\n",
        "      return final_list\n",
        "\n",
        "  def get_arules(self,transactions,min_support=0,min_confidence=0,min_lift=0,sort_by='lift',FrequentItemsets=None):\n",
        "    print(f\"get_arules Running for Min_sup={min_support} Min_Conf={min_confidence} and Min_Lift={min_lift}. Sort_by={sort_by}.\")\n",
        "    totalrowsnumber=len(transactions)\n",
        "    Rules = []\n",
        "    i=0\n",
        "    # sort_by: lift , confidence, support\n",
        "    if sort_by not in ['lift', 'confidence', 'support']:\n",
        "      raise ValueError(\"Invalid parameter for sort_by. Allowed Strings for sort_by are 'lift', 'confidence', and 'support'.\")\n",
        "    totalrows=transactions.shape[0]\n",
        "    min_support_int=totalrows*min_support\n",
        "    if FrequentItemsets==None:\n",
        "      load_frequent_item_sets=Arules().get_frequent_item_sets(transactions,min_support,min_confidence)\n",
        "    else:\n",
        "      load_frequent_item_sets=FrequentItemsets\n",
        "    for firstitem in load_frequent_item_sets:\n",
        "      i=i+1\n",
        "      print(f\"\\rProcessing get_arules on frequent_item_sets:{i} out of {len(load_frequent_item_sets)}.\", end=\"\")\n",
        "      #tamoome tarkibate momken ba baghie ro ba sharte min_conf peyda kon.\n",
        "      #hint: firstitem (ya seconditem) yek list ast ke firstitem[0] liste itemha va firstitem[1] supporte on itemha hast. type(firstitem[0])=list and type(firstitem[1])=int\n",
        "      for seconditem in load_frequent_item_sets:\n",
        "        if len(seconditem[0])>1:\n",
        "          continue\n",
        "        if seconditem[0][0] in firstitem[0]:\n",
        "          continue\n",
        "        #find conf:\n",
        "        cols=firstitem[0]+seconditem[0]\n",
        "        #print(type(cols))\n",
        "        #print(transactions.columns)\n",
        "        new_df = transactions.loc[:, cols]\n",
        "        rows_with_firstitemset_df=new_df[(new_df[firstitem[0]] != 0).all(axis=1)]\n",
        "        rows_with_firstitemset_and_2nditemset_count = rows_with_firstitemset_df[rows_with_firstitemset_df[seconditem[0][0]] != 0].shape[0]\n",
        "        conf = float(rows_with_firstitemset_and_2nditemset_count/(len(rows_with_firstitemset_df)))\n",
        "        if conf<min_confidence:\n",
        "          continue\n",
        "        #in tarkib khoobe. lift ro hesab kon va in rule ro too Rules[] zakhire kon.\n",
        "        support=Arules().calculateSupportOfC(cols,transactions)\n",
        "        if support<min_support_int:\n",
        "          continue\n",
        "        #Lift = support/(firstitem[1]*seconditem[1]). vali inja bayad hame support ha taghsim bar tedad kole row ha dar transaction shavand.\n",
        "        lift = (support/(firstitem[1]*seconditem[1]) )*totalrowsnumber\n",
        "        if lift<min_lift:\n",
        "          continue\n",
        "        Rules.append([firstitem[0],seconditem[0],firstitem[1],seconditem[1],support,conf,lift])\n",
        "        #each rule has 7 parameters: [list1,list2,support1,support2,supportboth,conf,lift]\n",
        "    rows = []\n",
        "    for l1, l2, s1, s2, sb, c, l in Rules:\n",
        "      row = {\"antecedent\": l1, \"outcome\": l2, \"support_antecedent\": s1, \"support_outcome\": s2, \"support\": sb, \"confidence\": c, \"lift\": l}\n",
        "      rows.append(row)\n",
        "    FinalDF = pd.DataFrame(rows)\n",
        "    FinalDF_sorted = FinalDF.sort_values(by=sort_by, ascending=False)\n",
        "    return FinalDF_sorted\n",
        "\n",
        "  def KN(self,transactions,last_list,k,min_support_int):\n",
        "      #C(n)\n",
        "      print(f\"Calculating k({k}) from k({(k-1)}). k({(k-1)}) size is {len(last_list)}\")\n",
        "      new_list=[]\n",
        "      for l1 in range(0,len(last_list)-1):\n",
        "          print(f\"\\rProcessing Last_list {(l1+2)} out of {len(last_list)}\", end=\"\")\n",
        "          for l2 in range (l1+1,len(last_list)):\n",
        "              #comparing this 2 list to merge if possible.\n",
        "              first_list_cols=last_list[l1][0]\n",
        "              sec_list_cols=last_list[l2][0]\n",
        "              these2ListsAreUseless=False\n",
        "              #compare l1 and l2:\n",
        "              #Test 1: check all products in 2 list expect the last ones.\n",
        "              for i in range(0,len(first_list_cols)-1):\n",
        "                  if first_list_cols[i]!=sec_list_cols[i]:\n",
        "                      these2ListsAreUseless=True\n",
        "                      break\n",
        "              #Test 2: test the last ones: L2's last product should be bigger.\n",
        "              if not these2ListsAreUseless:\n",
        "                  if not transactions.columns.get_loc(first_list_cols[len(first_list_cols)-1]) < transactions.columns.get_loc(sec_list_cols[len(sec_list_cols)-1]):\n",
        "                      #these 2 are not good to merge\n",
        "                      these2ListsAreUseless=True\n",
        "              #Test 3:has_infrequent_subsets?\n",
        "              c = []\n",
        "              for i in range(0,len(first_list_cols)):\n",
        "                  c.append(first_list_cols[i])\n",
        "              c.append(sec_list_cols[len(sec_list_cols)-1])\n",
        "              #check if c is already in new_list (sometimes there is duplicates in new_list and idk why. ik there is a bug but I didnt find bug. so I had to add this.)\n",
        "              c_is_already_in_new_list=False\n",
        "              for lst in new_list:\n",
        "                if lst[0]==c:\n",
        "                  c_is_already_in_new_list=True\n",
        "                  break\n",
        "              if not c_is_already_in_new_list:\n",
        "                if not Arules().c_has_infrequent_subnet(c,last_list):\n",
        "                    #add C to new List.\n",
        "                    new_list.append([c,Arules().calculateSupportOfC(c,transactions)])\n",
        "      #LN -> remove the noobs based on min_sup\n",
        "      totalrows=transactions.shape[0]\n",
        "      final_list=[]\n",
        "      for sub in new_list:\n",
        "          if sub[1]>=min_support_int:\n",
        "              #print(f\"{sub} is good\")\n",
        "              final_list.append(sub)\n",
        "      return final_list\n",
        "\n",
        "  def calculateSupportOfC(self,c,transactions):\n",
        "      #print(c)\n",
        "      new_df = transactions.loc[:,c]\n",
        "      #count = len(df[(df == 1).all(axis=1)])\n",
        "      return len(new_df[(new_df != 0).all(axis=1)])\n",
        "\n",
        "  def c_has_infrequent_subnet(self,c,last_list):\n",
        "      #all of the subsets must exist in last_list.\n",
        "      #print(f\"Running c_has_infrequent_subnet for {c}\")\n",
        "      #print(last_list)\n",
        "      subsets = list(itertools.combinations(c, len(c)-1))\n",
        "      for i in range(0,len(subsets)):\n",
        "          cache=list(subsets[i])\n",
        "          sublist_exists = False\n",
        "          for lst in last_list:\n",
        "              #print(f\"comparing {lst[0]} and {cache}\")\n",
        "              if lst[0] == cache:\n",
        "                  sublist_exists = True\n",
        "                  break\n",
        "          if not sublist_exists:\n",
        "              return True\n",
        "      return False"
      ]
    },
    {
      "cell_type": "code",
      "source": [
        "#3\n",
        "import csv\n",
        "Purchases = []\n",
        "with open('/content/drive/MyDrive/groceries.csv', 'r') as csvfile:\n",
        "    reader = csv.reader(csvfile)\n",
        "    for row in reader:\n",
        "        row = [item.strip() for item in row if item.strip()]\n",
        "        if row:\n",
        "            Purchases.append(row)\n",
        "dataset = pd.DataFrame({'Transaction': ['T{}'.format(i) for i in range(1, len(Purchases)+1)],'Items': Purchases})\n",
        "basket_sets = pd.get_dummies(dataset['Items'].apply(pd.Series).stack()).groupby(level=0).sum()\n",
        "\n",
        "\n",
        "myFrequentList = Arules().get_frequent_item_sets(basket_sets,0.005,1)"
      ],
      "metadata": {
        "colab": {
          "base_uri": "https://localhost:8080/"
        },
        "id": "xtud_OYVjuM7",
        "outputId": "3c510a10-3cf5-4625-95fd-9d6fbca61a0a"
      },
      "execution_count": 12,
      "outputs": [
        {
          "output_type": "stream",
          "name": "stdout",
          "text": [
            "get_frequent_item_sets Running for Min Support 0.005\n",
            "Running for K=1\n",
            "--------------------------------\n",
            "Running for k=2\n",
            "Calculating k(2) from k(1). k(1) size is 120\n",
            "Processing Last_list 120 out of 120\n",
            "k(2) frequent_item_sets size is 605. passing it to k=3 (if it's not empty).\n",
            "--------------------------------\n",
            "Running for k=3\n",
            "Calculating k(3) from k(2). k(2) size is 605\n",
            "Processing Last_list 605 out of 605\n",
            "k(3) frequent_item_sets size is 264. passing it to k=4 (if it's not empty).\n",
            "--------------------------------\n",
            "Running for k=4\n",
            "Calculating k(4) from k(3). k(3) size is 264\n",
            "Processing Last_list 264 out of 264\n",
            "k(4) frequent_item_sets size is 12. passing it to k=5 (if it's not empty).\n",
            "--------------------------------\n",
            "Running for k=5\n",
            "Calculating k(5) from k(4). k(4) size is 12\n",
            "Processing Last_list 12 out of 12\n",
            "k(5) frequent_item_sets size is 0. passing it to k=6 (if it's not empty).\n"
          ]
        }
      ]
    },
    {
      "cell_type": "code",
      "source": [
        "print(f\"myFrequentList size is {len(myFrequentList)}\")\n",
        "sorted_list = sorted(myFrequentList, key=lambda x: x[1], reverse=True)\n",
        "top_10 = sorted_list[:10]\n",
        "i=1\n",
        "for item in top_10:\n",
        "    print(f\"{i}:{item[0]} , {item[1]}\", )\n",
        "    i=i+1 #i'm noob in python."
      ],
      "metadata": {
        "colab": {
          "base_uri": "https://localhost:8080/"
        },
        "id": "b-FOjZNIsmcP",
        "outputId": "62a35355-b0a3-47f0-87ba-c62af671ffcc"
      },
      "execution_count": 19,
      "outputs": [
        {
          "output_type": "stream",
          "name": "stdout",
          "text": [
            "myFrequentList size is 1001\n",
            "1:['whole milk'] , 2513.0\n",
            "2:['other vegetables'] , 1903.0\n",
            "3:['rolls/buns'] , 1809.0\n",
            "4:['soda'] , 1715.0\n",
            "5:['yogurt'] , 1372.0\n",
            "6:['bottled water'] , 1087.0\n",
            "7:['root vegetables'] , 1072.0\n",
            "8:['tropical fruit'] , 1032.0\n",
            "9:['shopping bags'] , 969.0\n",
            "10:['sausage'] , 924.0\n"
          ]
        }
      ]
    },
    {
      "cell_type": "code",
      "source": [
        "#4\n",
        "myRules = Arules().get_arules(basket_sets,0.005,0.2,0,'lift',None)"
      ],
      "metadata": {
        "colab": {
          "base_uri": "https://localhost:8080/"
        },
        "id": "Wy0SqnsYtpV1",
        "outputId": "0cb840f2-9623-4f74-85e8-08db4fb15d85"
      },
      "execution_count": 23,
      "outputs": [
        {
          "output_type": "stream",
          "name": "stdout",
          "text": [
            "get_arules Running for Min_sup=0.005 Min_Conf=0.2 and Min_Lift=0. Sort_by=lift.\n",
            "get_frequent_item_sets Running for Min Support 0.005\n",
            "Running for K=1\n",
            "--------------------------------\n",
            "Running for k=2\n",
            "Calculating k(2) from k(1). k(1) size is 120\n",
            "Processing Last_list 120 out of 120\n",
            "k(2) frequent_item_sets size is 605. passing it to k=3 (if it's not empty).\n",
            "--------------------------------\n",
            "Running for k=3\n",
            "Calculating k(3) from k(2). k(2) size is 605\n",
            "Processing Last_list 605 out of 605\n",
            "k(3) frequent_item_sets size is 264. passing it to k=4 (if it's not empty).\n",
            "--------------------------------\n",
            "Running for k=4\n",
            "Calculating k(4) from k(3). k(3) size is 264\n",
            "Processing Last_list 264 out of 264\n",
            "k(4) frequent_item_sets size is 12. passing it to k=5 (if it's not empty).\n",
            "--------------------------------\n",
            "Running for k=5\n",
            "Calculating k(5) from k(4). k(4) size is 12\n",
            "Processing Last_list 12 out of 12\n",
            "k(5) frequent_item_sets size is 0. passing it to k=6 (if it's not empty).\n",
            "Processing get_arules on frequent_item_sets:1001 out of 1001."
          ]
        }
      ]
    },
    {
      "cell_type": "code",
      "source": [
        "print(len(myRules))\n",
        "print(myRules)"
      ],
      "metadata": {
        "colab": {
          "base_uri": "https://localhost:8080/"
        },
        "id": "INoLEDg-w9ou",
        "outputId": "b5639602-a73b-4335-d0bc-a2351cc08b46"
      },
      "execution_count": 25,
      "outputs": [
        {
          "output_type": "stream",
          "name": "stdout",
          "text": [
            "872\n",
            "                                       antecedent               outcome  \\\n",
            "222                                        [soda]          [whole milk]   \n",
            "695                            [rolls/buns, soda]          [whole milk]   \n",
            "134                                   [ice cream]          [whole milk]   \n",
            "230                               [specialty bar]          [whole milk]   \n",
            "50                                  [chewing gum]          [whole milk]   \n",
            "..                                            ...                   ...   \n",
            "14                                      [berries]  [whipped/sour cream]   \n",
            "388                     [citrus fruit, pip fruit]      [tropical fruit]   \n",
            "125                                       [herbs]     [root vegetables]   \n",
            "348                    [butter, other vegetables]  [whipped/sour cream]   \n",
            "825  [citrus fruit, other vegetables, whole milk]     [root vegetables]   \n",
            "\n",
            "     support_antecedent  support_outcome  support  confidence      lift  \n",
            "222              1715.0           2513.0      394    0.229738  0.899112  \n",
            "695               377.0           2513.0       87    0.230769  0.903150  \n",
            "134               246.0           2513.0       58    0.235772  0.922730  \n",
            "230               269.0           2513.0       64    0.237918  0.931128  \n",
            "50                207.0           2513.0       50    0.241546  0.945326  \n",
            "..                  ...              ...      ...         ...       ...  \n",
            "14                327.0            705.0       89    0.272171  3.796886  \n",
            "388               136.0           1032.0       55    0.404412  3.854060  \n",
            "125               160.0           1072.0       69    0.431250  3.956477  \n",
            "348               197.0            705.0       57    0.289340  4.036397  \n",
            "825               128.0           1072.0       57    0.445312  4.085493  \n",
            "\n",
            "[872 rows x 7 columns]\n"
          ]
        }
      ]
    },
    {
      "cell_type": "code",
      "source": [
        "#5a\n",
        "myRules = Arules().get_arules(basket_sets,0.05,0.3,1,'confidence',None)\n",
        "print(myRules)"
      ],
      "metadata": {
        "colab": {
          "base_uri": "https://localhost:8080/"
        },
        "id": "7pol2DR24rb_",
        "outputId": "d0083490-fba0-4c4b-a09f-7b323e91a463"
      },
      "execution_count": 29,
      "outputs": [
        {
          "output_type": "stream",
          "name": "stdout",
          "text": [
            "get_arules Running for Min_sup=0.05 Min_Conf=0.3 and Min_Lift=1. Sort_by=confidence.\n",
            "get_frequent_item_sets Running for Min Support 0.05\n",
            "Running for K=1\n",
            "--------------------------------\n",
            "Running for k=2\n",
            "Calculating k(2) from k(1). k(1) size is 28\n",
            "Processing Last_list 28 out of 28\n",
            "k(2) frequent_item_sets size is 3. passing it to k=3 (if it's not empty).\n",
            "--------------------------------\n",
            "Running for k=3\n",
            "Calculating k(3) from k(2). k(2) size is 3\n",
            "Processing Last_list 3 out of 3\n",
            "k(3) frequent_item_sets size is 0. passing it to k=4 (if it's not empty).\n",
            "Processing get_arules on frequent_item_sets:31 out of 31.           antecedent       outcome  support_antecedent  support_outcome  \\\n",
            "2            [yogurt]  [whole milk]              1372.0           2513.0   \n",
            "0  [other vegetables]  [whole milk]              1903.0           2513.0   \n",
            "1        [rolls/buns]  [whole milk]              1809.0           2513.0   \n",
            "\n",
            "   support  confidence      lift  \n",
            "2      551    0.401603  1.571735  \n",
            "0      736    0.386758  1.513634  \n",
            "1      557    0.307905  1.205032  \n"
          ]
        }
      ]
    },
    {
      "cell_type": "code",
      "source": [
        "#5b\n",
        "myRules = Arules().get_arules(basket_sets,0.03,0.3,1,'confidence',None)\n",
        "print(myRules)"
      ],
      "metadata": {
        "colab": {
          "base_uri": "https://localhost:8080/"
        },
        "id": "OXRKBJ9w4sA-",
        "outputId": "85292679-f841-418b-e4e7-8a61911979fa"
      },
      "execution_count": 30,
      "outputs": [
        {
          "output_type": "stream",
          "name": "stdout",
          "text": [
            "get_arules Running for Min_sup=0.03 Min_Conf=0.3 and Min_Lift=1. Sort_by=confidence.\n",
            "get_frequent_item_sets Running for Min Support 0.03\n",
            "Running for K=1\n",
            "--------------------------------\n",
            "Running for k=2\n",
            "Calculating k(2) from k(1). k(1) size is 44\n",
            "Processing Last_list 44 out of 44\n",
            "k(2) frequent_item_sets size is 19. passing it to k=3 (if it's not empty).\n",
            "--------------------------------\n",
            "Running for k=3\n",
            "Calculating k(3) from k(2). k(2) size is 19\n",
            "Processing Last_list 19 out of 19\n",
            "k(3) frequent_item_sets size is 0. passing it to k=4 (if it's not empty).\n",
            "Processing get_arules on frequent_item_sets:63 out of 63.              antecedent             outcome  support_antecedent  \\\n",
            "11  [whipped/sour cream]        [whole milk]               705.0   \n",
            "7      [root vegetables]        [whole milk]              1072.0   \n",
            "6      [root vegetables]  [other vegetables]              1072.0   \n",
            "10      [tropical fruit]        [whole milk]              1032.0   \n",
            "13              [yogurt]        [whole milk]              1372.0   \n",
            "4            [pip fruit]        [whole milk]               744.0   \n",
            "2     [other vegetables]        [whole milk]              1903.0   \n",
            "3               [pastry]        [whole milk]               875.0   \n",
            "1         [citrus fruit]        [whole milk]               814.0   \n",
            "9       [tropical fruit]  [other vegetables]              1032.0   \n",
            "8              [sausage]        [rolls/buns]               924.0   \n",
            "12              [yogurt]  [other vegetables]              1372.0   \n",
            "0        [bottled water]        [whole milk]              1087.0   \n",
            "5           [rolls/buns]        [whole milk]              1809.0   \n",
            "\n",
            "    support_outcome  support  confidence      lift  \n",
            "11           2513.0      317    0.449645  1.759754  \n",
            "7            2513.0      481    0.448694  1.756031  \n",
            "6            1903.0      466    0.434701  2.246605  \n",
            "10           2513.0      416    0.403101  1.577595  \n",
            "13           2513.0      551    0.401603  1.571735  \n",
            "4            2513.0      296    0.397849  1.557043  \n",
            "2            2513.0      736    0.386758  1.513634  \n",
            "3            2513.0      327    0.373714  1.462587  \n",
            "1            2513.0      300    0.368550  1.442377  \n",
            "9            1903.0      353    0.342054  1.767790  \n",
            "8            1809.0      301    0.325758  1.771048  \n",
            "12           1903.0      427    0.311224  1.608457  \n",
            "0            2513.0      338    0.310948  1.216940  \n",
            "5            2513.0      557    0.307905  1.205032  \n"
          ]
        }
      ]
    },
    {
      "cell_type": "code",
      "source": [
        "print(len(myRules))"
      ],
      "metadata": {
        "colab": {
          "base_uri": "https://localhost:8080/"
        },
        "id": "gQDTkKOd6R5j",
        "outputId": "02d42c00-7062-4feb-f4e1-02befdb00b39"
      },
      "execution_count": 31,
      "outputs": [
        {
          "output_type": "stream",
          "name": "stdout",
          "text": [
            "14\n"
          ]
        }
      ]
    },
    {
      "cell_type": "code",
      "source": [
        "#5c\n",
        "myRules = Arules().get_arules(basket_sets,0.01,0.3,1,'confidence',None)\n",
        "print(f\"Found {len(myRules)} Rules.\")\n",
        "print(myRules)"
      ],
      "metadata": {
        "colab": {
          "base_uri": "https://localhost:8080/"
        },
        "id": "-ubk2WpC4zol",
        "outputId": "f3593d78-aeb2-4106-ef2a-f0af659e86f2"
      },
      "execution_count": 32,
      "outputs": [
        {
          "output_type": "stream",
          "name": "stdout",
          "text": [
            "get_arules Running for Min_sup=0.01 Min_Conf=0.3 and Min_Lift=1. Sort_by=confidence.\n",
            "get_frequent_item_sets Running for Min Support 0.01\n",
            "Running for K=1\n",
            "--------------------------------\n",
            "Running for k=2\n",
            "Calculating k(2) from k(1). k(1) size is 88\n",
            "Processing Last_list 88 out of 88\n",
            "k(2) frequent_item_sets size is 213. passing it to k=3 (if it's not empty).\n",
            "--------------------------------\n",
            "Running for k=3\n",
            "Calculating k(3) from k(2). k(2) size is 213\n",
            "Processing Last_list 213 out of 213\n",
            "k(3) frequent_item_sets size is 32. passing it to k=4 (if it's not empty).\n",
            "--------------------------------\n",
            "Running for k=4\n",
            "Calculating k(4) from k(3). k(3) size is 32\n",
            "Processing Last_list 32 out of 32\n",
            "k(4) frequent_item_sets size is 0. passing it to k=5 (if it's not empty).\n",
            "Processing get_arules on frequent_item_sets:333 out of 333.Found 125 Rules.\n",
            "                            antecedent             outcome  \\\n",
            "75     [citrus fruit, root vegetables]  [other vegetables]   \n",
            "108  [root vegetables, tropical fruit]  [other vegetables]   \n",
            "80                      [curd, yogurt]        [whole milk]   \n",
            "71          [butter, other vegetables]        [whole milk]   \n",
            "109  [root vegetables, tropical fruit]        [whole milk]   \n",
            "..                                 ...                 ...   \n",
            "67                            [yogurt]  [other vegetables]   \n",
            "6                      [bottled water]        [whole milk]   \n",
            "97      [other vegetables, whole milk]   [root vegetables]   \n",
            "3                            [berries]  [other vegetables]   \n",
            "52                        [rolls/buns]        [whole milk]   \n",
            "\n",
            "     support_antecedent  support_outcome  support  confidence      lift  \n",
            "75                174.0           1903.0      102    0.586207  3.029608  \n",
            "108               207.0           1903.0      121    0.584541  3.020999  \n",
            "80                170.0           2513.0       99    0.582353  2.279125  \n",
            "71                197.0           2513.0      113    0.573604  2.244885  \n",
            "109               207.0           2513.0      118    0.570048  2.230969  \n",
            "..                  ...              ...      ...         ...       ...  \n",
            "67               1372.0           1903.0      427    0.311224  1.608457  \n",
            "6                1087.0           2513.0      338    0.310948  1.216940  \n",
            "97                736.0           1072.0      228    0.309783  2.842082  \n",
            "3                 327.0           1903.0      101    0.308869  1.596280  \n",
            "52               1809.0           2513.0      557    0.307905  1.205032  \n",
            "\n",
            "[125 rows x 7 columns]\n"
          ]
        }
      ]
    }
  ]
}