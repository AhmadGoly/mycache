{
 "cells": [
  {
   "cell_type": "code",
   "execution_count": 3,
   "metadata": {},
   "outputs": [],
   "source": [
    "import pandas as pd\n",
    "path = r'C:\\Users\\AhmaDGoly\\Desktop\\Arshad\\TERM 2\\Big Data\\Final\\Codes\\AllMsgsTill7-10-2023.csv'\n",
    "savepath =r'C:\\Users\\AhmaDGoly\\Desktop\\Arshad\\TERM 2\\Big Data\\Final\\Codes\\\\'\n",
    "df = pd.read_csv(path , encoding='utf-8-sig')\n",
    "first_part = df[:-200]\n",
    "second_part = df[-200:]"
   ]
  },
  {
   "cell_type": "code",
   "execution_count": 10,
   "metadata": {},
   "outputs": [],
   "source": [
    "first_part.to_csv(savepath+'OldData.csv', index=False , encoding='utf-8-sig')\n",
    "second_part.to_csv(savepath+'StreamData.csv', index=False , encoding='utf-8-sig')"
   ]
  }
 ],
 "metadata": {
  "kernelspec": {
   "display_name": "Python 3.9.13 64-bit",
   "language": "python",
   "name": "python3"
  },
  "language_info": {
   "codemirror_mode": {
    "name": "ipython",
    "version": 3
   },
   "file_extension": ".py",
   "mimetype": "text/x-python",
   "name": "python",
   "nbconvert_exporter": "python",
   "pygments_lexer": "ipython3",
   "version": "3.9.13"
  },
  "orig_nbformat": 4,
  "vscode": {
   "interpreter": {
    "hash": "cfe9f1fea70b6f3c892a507b25933db96548476c663a42d0d97c2442f6e3001f"
   }
  }
 },
 "nbformat": 4,
 "nbformat_minor": 2
}
