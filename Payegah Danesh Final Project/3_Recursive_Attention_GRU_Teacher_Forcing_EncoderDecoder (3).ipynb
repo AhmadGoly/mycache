{
  "cells": [
    {
      "cell_type": "code",
      "execution_count": 1,
      "metadata": {
        "colab": {
          "base_uri": "https://localhost:8080/"
        },
        "id": "yvTyc_EQhQCo",
        "outputId": "794d9410-b06b-4a63-bf76-8d77ec8ee60f"
      },
      "outputs": [
        {
          "output_type": "stream",
          "name": "stdout",
          "text": [
            "Requirement already satisfied: rouge in /usr/local/lib/python3.10/dist-packages (1.0.1)\n",
            "Requirement already satisfied: six in /usr/local/lib/python3.10/dist-packages (from rouge) (1.16.0)\n",
            "Requirement already satisfied: hazm in /usr/local/lib/python3.10/dist-packages (0.9.1)\n",
            "Requirement already satisfied: gensim<5.0.0,>=4.3.1 in /usr/local/lib/python3.10/dist-packages (from hazm) (4.3.1)\n",
            "Requirement already satisfied: nltk<4.0.0,>=3.8.1 in /usr/local/lib/python3.10/dist-packages (from hazm) (3.8.1)\n",
            "Requirement already satisfied: numpy<2.0.0,>=1.24.3 in /usr/local/lib/python3.10/dist-packages (from hazm) (1.25.0)\n",
            "Requirement already satisfied: python-crfsuite<0.10.0,>=0.9.9 in /usr/local/lib/python3.10/dist-packages (from hazm) (0.9.9)\n",
            "Requirement already satisfied: scikit-learn<2.0.0,>=1.2.2 in /usr/local/lib/python3.10/dist-packages (from hazm) (1.2.2)\n",
            "Requirement already satisfied: scipy>=1.7.0 in /usr/local/lib/python3.10/dist-packages (from gensim<5.0.0,>=4.3.1->hazm) (1.10.1)\n",
            "Requirement already satisfied: smart-open>=1.8.1 in /usr/local/lib/python3.10/dist-packages (from gensim<5.0.0,>=4.3.1->hazm) (6.3.0)\n",
            "Requirement already satisfied: click in /usr/local/lib/python3.10/dist-packages (from nltk<4.0.0,>=3.8.1->hazm) (8.1.3)\n",
            "Requirement already satisfied: joblib in /usr/local/lib/python3.10/dist-packages (from nltk<4.0.0,>=3.8.1->hazm) (1.2.0)\n",
            "Requirement already satisfied: regex>=2021.8.3 in /usr/local/lib/python3.10/dist-packages (from nltk<4.0.0,>=3.8.1->hazm) (2022.10.31)\n",
            "Requirement already satisfied: tqdm in /usr/local/lib/python3.10/dist-packages (from nltk<4.0.0,>=3.8.1->hazm) (4.65.0)\n",
            "Requirement already satisfied: threadpoolctl>=2.0.0 in /usr/local/lib/python3.10/dist-packages (from scikit-learn<2.0.0,>=1.2.2->hazm) (3.1.0)\n"
          ]
        }
      ],
      "source": [
        "#This is not the final output. code runned in golkarnoor.a.d\n",
        "!pip install rouge\n",
        "!pip install hazm"
      ]
    },
    {
      "cell_type": "code",
      "execution_count": 2,
      "metadata": {
        "colab": {
          "base_uri": "https://localhost:8080/"
        },
        "id": "_92sPmawhZm8",
        "outputId": "95b209b7-9f89-47fb-f47c-2202ba1f4883"
      },
      "outputs": [
        {
          "output_type": "stream",
          "name": "stderr",
          "text": [
            "Downloading...\n",
            "From: https://drive.google.com/uc?id=1xz_YBI8B4fHqAmxlb_3JE5ecJZS5V5z8\n",
            "To: /content/file_1xz_YBI8B4fHqAmxlb_3JE5ecJZS5V5z8.zip\n",
            "100%|██████████| 271M/271M [00:05<00:00, 52.1MB/s]\n",
            "Downloading...\n",
            "From: https://drive.google.com/uc?id=1z9nYQM2wYVQ7zChtShR6ZaHBSxst_UkK\n",
            "To: /content/file_1z9nYQM2wYVQ7zChtShR6ZaHBSxst_UkK.zip\n",
            "100%|██████████| 18.3M/18.3M [00:00<00:00, 25.1MB/s]\n",
            "Downloading...\n",
            "From: https://drive.google.com/uc?id=1--sCAcmSeUiJm0dcqQJNBg1fS-CjC-C4\n",
            "To: /content/file_1--sCAcmSeUiJm0dcqQJNBg1fS-CjC-C4.zip\n",
            "100%|██████████| 25.9M/25.9M [00:00<00:00, 43.4MB/s]\n",
            "Downloading...\n",
            "From: https://drive.google.com/uc?id=1-3DbkWdIjC8BtvqZCQVtZQyrDGNcn4oH\n",
            "To: /content/file_1-3DbkWdIjC8BtvqZCQVtZQyrDGNcn4oH.zip\n",
            "100%|██████████| 96.4M/96.4M [00:01<00:00, 55.1MB/s]\n"
          ]
        }
      ],
      "source": [
        "import gdown\n",
        "import time\n",
        "from sklearn.model_selection import train_test_split\n",
        "\n",
        "# Define the file URLs\n",
        "file_urls = [\n",
        "    \"https://drive.google.com/file/d/1xz_YBI8B4fHqAmxlb_3JE5ecJZS5V5z8/view?usp=sharing\",\n",
        "    \"https://drive.google.com/file/d/1z9nYQM2wYVQ7zChtShR6ZaHBSxst_UkK/view?usp=sharing\",\n",
        "    \"https://drive.google.com/file/d/1--sCAcmSeUiJm0dcqQJNBg1fS-CjC-C4/view?usp=sharing\",\n",
        "    \"https://drive.google.com/file/d/1-3DbkWdIjC8BtvqZCQVtZQyrDGNcn4oH/view?usp=sharing\"\n",
        "]\n",
        "\n",
        "# Download files\n",
        "for url in file_urls:\n",
        "    file_id = url.split(\"/\")[5]\n",
        "    output_file = f\"file_{file_id}.zip\"  # Customize the output file name if needed\n",
        "    gdown.download(f\"https://drive.google.com/uc?id={file_id}\", output_file, quiet=False)\n"
      ]
    },
    {
      "cell_type": "code",
      "execution_count": 2,
      "metadata": {
        "id": "pUsR3j_zj4ik"
      },
      "outputs": [],
      "source": []
    },
    {
      "cell_type": "code",
      "execution_count": 3,
      "metadata": {
        "id": "UCiWj1jxiE5w"
      },
      "outputs": [],
      "source": [
        "import os\n",
        "os.rename('/content/file_1z9nYQM2wYVQ7zChtShR6ZaHBSxst_UkK.zip', '/content/test_cleaned.csv')\n",
        "os.rename('/content/file_1xz_YBI8B4fHqAmxlb_3JE5ecJZS5V5z8.zip', '/content/train_cleaned.csv')\n",
        "os.rename('/content/file_1--sCAcmSeUiJm0dcqQJNBg1fS-CjC-C4.zip', '/content/word2vec-model.bin')\n",
        "os.rename('/content/file_1-3DbkWdIjC8BtvqZCQVtZQyrDGNcn4oH.zip', '/content/allInputs.pickle')"
      ]
    },
    {
      "cell_type": "code",
      "execution_count": 4,
      "metadata": {
        "id": "YCcSrdJmioD6"
      },
      "outputs": [],
      "source": [
        "import pickle\n",
        "with open(\"allInputs.pickle\", \"rb\") as f:\n",
        "    inputs = pickle.load(f)"
      ]
    },
    {
      "cell_type": "code",
      "execution_count": 5,
      "metadata": {
        "id": "SrX-jwl-i7TS"
      },
      "outputs": [],
      "source": [
        "padded_inputs = inputs['input1']\n",
        "padded_targets = inputs['output1']\n",
        "padded_inputs_test = inputs['input2']\n",
        "padded_targets_test = inputs['output2']\n",
        "padded_inputs_valid = inputs['input3']\n",
        "padded_targets_valid = inputs['output3']\n",
        "info = inputs['info']"
      ]
    },
    {
      "cell_type": "code",
      "execution_count": 6,
      "metadata": {
        "id": "5VstD28FkLyg"
      },
      "outputs": [],
      "source": [
        "import pandas as pd\n",
        "import numpy as np\n",
        "from gensim.models import Word2Vec\n",
        "from tensorflow.keras.preprocessing.sequence import pad_sequences\n",
        "from keras.models import Model\n",
        "from keras.layers import Input, Embedding, GRU, Dense\n",
        "from keras.layers import RepeatVector,TimeDistributed"
      ]
    },
    {
      "cell_type": "code",
      "execution_count": 7,
      "metadata": {
        "id": "0FJJyvOvkB5A"
      },
      "outputs": [],
      "source": [
        "word2vec_model = Word2Vec.load('/content/word2vec-model.bin')"
      ]
    },
    {
      "cell_type": "code",
      "execution_count": 8,
      "metadata": {
        "colab": {
          "base_uri": "https://localhost:8080/"
        },
        "id": "TQgiFpVUkXIY",
        "outputId": "5d362bd3-fa71-4b3e-dfee-4486fa6d6436"
      },
      "outputs": [
        {
          "output_type": "stream",
          "name": "stdout",
          "text": [
            "[250, 25, 82013, 4755, 838]\n"
          ]
        }
      ],
      "source": [
        "print(info)"
      ]
    },
    {
      "cell_type": "code",
      "execution_count": 9,
      "metadata": {
        "id": "ogkH09fckSyq"
      },
      "outputs": [],
      "source": [
        "word_vectors = word2vec_model.wv\n",
        "vocab_size = len(word_vectors.key_to_index)\n",
        "embedding_dim = word2vec_model.vector_size\n",
        "max_length_input = info[0]\n",
        "max_length_output = info[1]"
      ]
    },
    {
      "cell_type": "code",
      "source": [
        "special_end_token = '<SPECIAL_END>'\n",
        "special_end_token_index = len(word_vectors.key_to_index)\n",
        "special_end_token_vector = np.random.random((embedding_dim,))\n",
        "word_vectors.add_vectors([special_end_token], [special_end_token_vector])\n",
        "vocab_size = len(word_vectors.key_to_index)\n",
        "word_vectors = word2vec_model.wv"
      ],
      "metadata": {
        "id": "Fdyj80rChE3t"
      },
      "execution_count": 10,
      "outputs": []
    },
    {
      "cell_type": "code",
      "source": [
        "def find_end_token(sequence):\n",
        "    special_end_token_index=15810\n",
        "    checkingloc = sequence.shape[0] - 1\n",
        "    if sequence[checkingloc] != 0:\n",
        "      sequence[checkingloc] = special_end_token_index\n",
        "      return sequence\n",
        "    while True:\n",
        "      checkingloc = checkingloc - 1\n",
        "      if sequence[checkingloc] != 0:\n",
        "        sequence[checkingloc+1] = special_end_token_index\n",
        "        return sequence\n",
        "      if checkingloc == 0:\n",
        "        return sequence"
      ],
      "metadata": {
        "id": "OwKxXZwghGIc"
      },
      "execution_count": 17,
      "outputs": []
    },
    {
      "cell_type": "code",
      "source": [
        "special_end_token_index = len(word_vectors.key_to_index) - 1"
      ],
      "metadata": {
        "id": "BIFnpddGhXd2"
      },
      "execution_count": 12,
      "outputs": []
    },
    {
      "cell_type": "code",
      "source": [
        "print(padded_inputs[0])"
      ],
      "metadata": {
        "colab": {
          "base_uri": "https://localhost:8080/"
        },
        "id": "YTlr5q1mps1a",
        "outputId": "9d30ac0d-41ed-484b-9106-21775ac1689e"
      },
      "execution_count": 13,
      "outputs": [
        {
          "output_type": "stream",
          "name": "stdout",
          "text": [
            "[  609 10023    61   803  1885   791  8120  1707    75  1208   123  1054\n",
            "     5    19     4     6  5385  1159    75   123  1054  2158    83   123\n",
            "    36 14411    75     5    19     4     6   695   823  3528   361     1\n",
            "  5215   382    72  1013   341   123  1054  3066  8826   171    27   145\n",
            "    90   402  1499   808   899   692  1931    83   341 10318  2897 10023\n",
            "  1334  3402  1707   270    83   123  1054     5    32  2721    24    83\n",
            "   270   141     0   656    83     5    19     4     6    57    83   123\n",
            "  1054   636   139 11027  7711  2054   276    75   200  3482 14740    24\n",
            "   459  1623    75    83  1956   649  9113  3000  1129  3556   139  1136\n",
            "  1085    83   123  1054     5    19     4     6   202     0     0     0\n",
            "     0     0     0     0     0     0     0     0     0     0     0     0\n",
            "     0     0     0     0     0     0     0     0     0     0     0     0\n",
            "     0     0     0     0     0     0     0     0     0     0     0     0\n",
            "     0     0     0     0     0     0     0     0     0     0     0     0\n",
            "     0     0     0     0     0     0     0     0     0     0     0     0\n",
            "     0     0     0     0     0     0     0     0     0     0     0     0\n",
            "     0     0     0     0     0     0     0     0     0     0     0     0\n",
            "     0     0     0     0     0     0     0     0     0     0     0     0\n",
            "     0     0     0     0     0     0     0     0     0     0     0     0\n",
            "     0     0     0     0     0     0     0     0     0     0     0     0\n",
            "     0     0     0     0     0     0     0     0     0     0]\n"
          ]
        }
      ]
    },
    {
      "cell_type": "code",
      "source": [
        "padded_inputs = np.apply_along_axis(find_end_token, axis=1, arr=padded_inputs)"
      ],
      "metadata": {
        "id": "5DZJDZMwhJ6P"
      },
      "execution_count": null,
      "outputs": []
    },
    {
      "cell_type": "code",
      "source": [
        "padded_targets = np.apply_along_axis(find_end_token, axis=1, arr=padded_targets)\n",
        "padded_inputs_test = np.apply_along_axis(find_end_token, axis=1, arr=padded_inputs_test)\n",
        "padded_targets_test = np.apply_along_axis(find_end_token, axis=1, arr=padded_targets_test)\n",
        "padded_inputs_valid = np.apply_along_axis(find_end_token, axis=1, arr=padded_inputs_valid)\n",
        "padded_targets_valid = np.apply_along_axis(find_end_token, axis=1, arr=padded_targets_valid)"
      ],
      "metadata": {
        "id": "R11NE8GZ2iwv"
      },
      "execution_count": 18,
      "outputs": []
    },
    {
      "cell_type": "code",
      "source": [
        "print(padded_inputs[0])"
      ],
      "metadata": {
        "colab": {
          "base_uri": "https://localhost:8080/"
        },
        "id": "zDo5nm39hRVl",
        "outputId": "fdfb88ed-238d-49c1-f8fe-c84e820b724b"
      },
      "execution_count": 21,
      "outputs": [
        {
          "output_type": "stream",
          "name": "stdout",
          "text": [
            "[  609 10023    61   803  1885   791  8120  1707    75  1208   123  1054\n",
            "     5    19     4     6  5385  1159    75   123  1054  2158    83   123\n",
            "    36 14411    75     5    19     4     6   695   823  3528   361     1\n",
            "  5215   382    72  1013   341   123  1054  3066  8826   171    27   145\n",
            "    90   402  1499   808   899   692  1931    83   341 10318  2897 10023\n",
            "  1334  3402  1707   270    83   123  1054     5    32  2721    24    83\n",
            "   270   141     0   656    83     5    19     4     6    57    83   123\n",
            "  1054   636   139 11027  7711  2054   276    75   200  3482 14740    24\n",
            "   459  1623    75    83  1956   649  9113  3000  1129  3556   139  1136\n",
            "  1085    83   123  1054     5    19     4     6   202 15810     0     0\n",
            "     0     0     0     0     0     0     0     0     0     0     0     0\n",
            "     0     0     0     0     0     0     0     0     0     0     0     0\n",
            "     0     0     0     0     0     0     0     0     0     0     0     0\n",
            "     0     0     0     0     0     0     0     0     0     0     0     0\n",
            "     0     0     0     0     0     0     0     0     0     0     0     0\n",
            "     0     0     0     0     0     0     0     0     0     0     0     0\n",
            "     0     0     0     0     0     0     0     0     0     0     0     0\n",
            "     0     0     0     0     0     0     0     0     0     0     0     0\n",
            "     0     0     0     0     0     0     0     0     0     0     0     0\n",
            "     0     0     0     0     0     0     0     0     0     0     0     0\n",
            "     0     0     0     0     0     0     0     0     0     0]\n"
          ]
        }
      ]
    },
    {
      "cell_type": "code",
      "source": [
        "from keras.layers import RepeatVector, concatenate\n",
        "from tensorflow.keras.layers import Masking\n",
        "from tensorflow.keras.layers import Dropout"
      ],
      "metadata": {
        "id": "SbYbYm2p7yok"
      },
      "execution_count": 22,
      "outputs": []
    },
    {
      "cell_type": "code",
      "execution_count": 23,
      "metadata": {
        "id": "-YYrIhzHj2nh"
      },
      "outputs": [],
      "source": [
        "# article input model\n",
        "inputs1 = Input(shape=(max_length_input,))\n",
        "mask1 = Masking(mask_value=0)(inputs1)\n",
        "article1 = Embedding(vocab_size, embedding_dim, weights=[word2vec_model.wv.vectors], trainable=False)(mask1)\n",
        "article2 = GRU(200)(article1)\n",
        "article3 = RepeatVector(max_length_output)(article2)\n",
        "# summary input model\n",
        "inputs2 = Input(shape=(max_length_output,))\n",
        "mask2 = Masking(mask_value=0)(inputs2)\n",
        "summ1 = Embedding(vocab_size, embedding_dim, weights=[word2vec_model.wv.vectors], trainable=False)(mask2)\n",
        "# decoder model\n",
        "decoder1 = concatenate([article3, summ1])\n",
        "decoder2 = GRU(200)(decoder1)\n",
        "decoder3 = Dropout(0.1)(decoder2)\n",
        "outputs = Dense(vocab_size, activation='softmax')(decoder3)\n",
        "# tie it together [article, summary] [word]\n",
        "model = Model(inputs=[inputs1, inputs2], outputs=outputs)\n",
        "model.compile(optimizer='adam', loss='sparse_categorical_crossentropy', metrics=['accuracy'])"
      ]
    },
    {
      "cell_type": "code",
      "execution_count": 24,
      "metadata": {
        "colab": {
          "base_uri": "https://localhost:8080/"
        },
        "id": "9AVEHFnzkpDv",
        "outputId": "2c77ab82-f275-4313-a332-051dd8784952"
      },
      "outputs": [
        {
          "output_type": "stream",
          "name": "stdout",
          "text": [
            "Model: \"model\"\n",
            "__________________________________________________________________________________________________\n",
            " Layer (type)                   Output Shape         Param #     Connected to                     \n",
            "==================================================================================================\n",
            " input_1 (InputLayer)           [(None, 250)]        0           []                               \n",
            "                                                                                                  \n",
            " masking (Masking)              (None, 250)          0           ['input_1[0][0]']                \n",
            "                                                                                                  \n",
            " embedding (Embedding)          (None, 250, 200)     3162200     ['masking[0][0]']                \n",
            "                                                                                                  \n",
            " input_2 (InputLayer)           [(None, 25)]         0           []                               \n",
            "                                                                                                  \n",
            " gru (GRU)                      (None, 200)          241200      ['embedding[0][0]']              \n",
            "                                                                                                  \n",
            " masking_1 (Masking)            (None, 25)           0           ['input_2[0][0]']                \n",
            "                                                                                                  \n",
            " repeat_vector (RepeatVector)   (None, 25, 200)      0           ['gru[0][0]']                    \n",
            "                                                                                                  \n",
            " embedding_1 (Embedding)        (None, 25, 200)      3162200     ['masking_1[0][0]']              \n",
            "                                                                                                  \n",
            " concatenate (Concatenate)      (None, 25, 400)      0           ['repeat_vector[0][0]',          \n",
            "                                                                  'embedding_1[0][0]']            \n",
            "                                                                                                  \n",
            " gru_1 (GRU)                    (None, 200)          361200      ['concatenate[0][0]']            \n",
            "                                                                                                  \n",
            " dropout (Dropout)              (None, 200)          0           ['gru_1[0][0]']                  \n",
            "                                                                                                  \n",
            " dense (Dense)                  (None, 15811)        3178011     ['dropout[0][0]']                \n",
            "                                                                                                  \n",
            "==================================================================================================\n",
            "Total params: 10,104,811\n",
            "Trainable params: 3,780,411\n",
            "Non-trainable params: 6,324,400\n",
            "__________________________________________________________________________________________________\n"
          ]
        }
      ],
      "source": [
        "model.summary()"
      ]
    },
    {
      "cell_type": "code",
      "execution_count": 25,
      "metadata": {
        "colab": {
          "base_uri": "https://localhost:8080/",
          "height": 856
        },
        "id": "HDnJyJj3ktaI",
        "outputId": "0cd33eb2-03f2-4efc-c89b-66122a68734e"
      },
      "outputs": [
        {
          "output_type": "execute_result",
          "data": {
            "image/png": "[encoded data removed]",
            "text/plain": [
              "<IPython.core.display.Image object>"
            ]
          },
          "metadata": {},
          "execution_count": 25
        }
      ],
      "source": [
        "from tensorflow.keras.utils import plot_model\n",
        "plot_model(model)"
      ]
    },
    {
      "cell_type": "code",
      "source": [
        "model.compile(optimizer='adam', loss='sparse_categorical_crossentropy', metrics=['accuracy'])"
      ],
      "metadata": {
        "id": "4tDHK8FW9Pps"
      },
      "execution_count": 26,
      "outputs": []
    },
    {
      "cell_type": "code",
      "source": [
        "history_train_loss=[]\n",
        "history_val_loss=[]\n",
        "predicts_generated_sofar = pad_sequences([[0]]*82013, maxlen=max_length_output, padding='post')\n",
        "predicts_generated_sofar_for_valid = pad_sequences([[0]]*838, maxlen=max_length_output, padding='post')"
      ],
      "metadata": {
        "id": "ugrXiMqQ9fLZ"
      },
      "execution_count": 27,
      "outputs": []
    },
    {
      "cell_type": "code",
      "source": [
        "for i in range(13):\n",
        "    print(f\"Fitting for word {i+1}:\")\n",
        "    #Fit:\n",
        "\n",
        "    #Before:\n",
        "    #h = model.fit([padded_inputs, predicts_generated_sofar], padded_targets[:, i] , batch_size=64, epochs=7,\n",
        "    #              validation_data=([padded_inputs_valid,predicts_generated_sofar_for_valid], padded_targets_valid[:, i]))\n",
        "\n",
        "    #After: Teacher Forcing:\n",
        "    padded_targets_sliced = pad_sequences(padded_targets[:, :i], maxlen=max_length_output, padding='post')\n",
        "\n",
        "    h = model.fit([padded_inputs, padded_targets_sliced], padded_targets[:, i], batch_size=64, epochs=7,\n",
        "                  validation_data=([padded_inputs_valid, predicts_generated_sofar_for_valid], padded_targets_valid[:, i]))\n",
        "    #Predict: (We don't need this part anymore because we are Teacher forcing with the real output)\n",
        "    '''\n",
        "    print(f\"Predicting word number {i+1}... and saving it in predicts_generated_sofar\")\n",
        "    batch_size = 5000\n",
        "    num_samples = padded_inputs.shape[0]\n",
        "    num_batches = (num_samples + batch_size - 1) // batch_size\n",
        "    predicted_summaries = []\n",
        "    for j in range(num_batches):\n",
        "        start_idx = j * batch_size\n",
        "        end_idx = min((j + 1) * batch_size, num_samples)\n",
        "        batch_inputs = padded_inputs[start_idx:end_idx]\n",
        "        batch_inputs2 = predicts_generated_sofar[start_idx:end_idx]\n",
        "        batch_predictions = model.predict([batch_inputs,batch_inputs2], verbose=0)\n",
        "        batch_predictions[:, 0] = -np.inf\n",
        "        for x in batch_predictions:\n",
        "          batch_predicted_indices = np.argmax(x)\n",
        "          predicted_summaries.append(batch_predicted_indices)\n",
        "          del batch_predicted_indices\n",
        "        del batch_inputs, batch_inputs2, batch_predictions,start_idx,end_idx\n",
        "    time.sleep(1)\n",
        "    predicts_generated_sofar[:, i] = predicted_summaries\n",
        "    time.sleep(1)\n",
        "    del batch_size,num_samples,num_batches,predicted_summaries\n",
        "    print(f\"Predicting word number {i+1} for valid... and saving it in predicts_generated_sofar_valid\")\n",
        "    '''\n",
        "    #Predict for valid data:\n",
        "    batch_size = 5000\n",
        "    num_samples = padded_inputs_valid.shape[0]\n",
        "    num_batches = (num_samples + batch_size - 1) // batch_size\n",
        "    predicted_summaries = []\n",
        "    for j in range(num_batches):\n",
        "        start_idx = j * batch_size\n",
        "        end_idx = min((j + 1) * batch_size, num_samples)\n",
        "        batch_inputs = padded_inputs_valid[start_idx:end_idx]\n",
        "        batch_inputs2 = predicts_generated_sofar_for_valid[start_idx:end_idx]\n",
        "        batch_predictions = model.predict([batch_inputs,batch_inputs2], verbose=0)\n",
        "        #batch_predictions[:, 0] = -np.inf\n",
        "        for x in batch_predictions:\n",
        "          batch_predicted_indices = np.argmax(x)\n",
        "          predicted_summaries.append(batch_predicted_indices)\n",
        "          del batch_predicted_indices\n",
        "        del batch_inputs, batch_inputs2, batch_predictions,start_idx,end_idx\n",
        "    predicts_generated_sofar_for_valid[:, i] = predicted_summaries\n",
        "    del batch_size,num_samples,num_batches,predicted_summaries\n",
        "    #save History\n",
        "    train_loss = h.history['loss']\n",
        "    val_loss = h.history['val_loss']\n",
        "    for x in train_loss:\n",
        "      history_train_loss.append(x)\n",
        "    for x in val_loss:\n",
        "      history_val_loss.append(x)\n",
        "    del train_loss,h\n",
        "    del val_loss"
      ],
      "metadata": {
        "colab": {
          "base_uri": "https://localhost:8080/"
        },
        "id": "gyzZX4HE9fnC",
        "outputId": "127de3e1-018a-4587-a76b-6ee1eb7594e4"
      },
      "execution_count": 30,
      "outputs": [
        {
          "output_type": "stream",
          "name": "stdout",
          "text": [
            "Fitting for word 1:\n",
            "Epoch 1/7\n",
            "1282/1282 [==============================] - 40s 22ms/step - loss: 6.3741 - accuracy: 0.0602 - val_loss: 6.1076 - val_accuracy: 0.0752\n",
            "Epoch 2/7\n",
            "1282/1282 [==============================] - 27s 21ms/step - loss: 5.6849 - accuracy: 0.1646 - val_loss: 5.4100 - val_accuracy: 0.2399\n",
            "Epoch 3/7\n",
            "1282/1282 [==============================] - 28s 22ms/step - loss: 5.0851 - accuracy: 0.2818 - val_loss: 5.0315 - val_accuracy: 0.2888\n",
            "Epoch 4/7\n",
            "1282/1282 [==============================] - 28s 22ms/step - loss: 4.7378 - accuracy: 0.3217 - val_loss: 4.8260 - val_accuracy: 0.3425\n",
            "Epoch 5/7\n",
            "1282/1282 [==============================] - 28s 22ms/step - loss: 4.5047 - accuracy: 0.3419 - val_loss: 4.7283 - val_accuracy: 0.3675\n",
            "Epoch 6/7\n",
            "1282/1282 [==============================] - 28s 22ms/step - loss: 4.3279 - accuracy: 0.3544 - val_loss: 4.6991 - val_accuracy: 0.3544\n",
            "Epoch 7/7\n",
            "1282/1282 [==============================] - 29s 22ms/step - loss: 4.1635 - accuracy: 0.3671 - val_loss: 4.6678 - val_accuracy: 0.3640\n",
            "Fitting for word 2:\n",
            "Epoch 1/7\n",
            "1282/1282 [==============================] - 29s 22ms/step - loss: 5.1749 - accuracy: 0.3016 - val_loss: 6.0488 - val_accuracy: 0.2530\n",
            "Epoch 2/7\n",
            "1282/1282 [==============================] - 29s 22ms/step - loss: 4.0678 - accuracy: 0.3938 - val_loss: 6.1167 - val_accuracy: 0.2745\n",
            "Epoch 3/7\n",
            "1282/1282 [==============================] - 28s 22ms/step - loss: 3.5455 - accuracy: 0.4333 - val_loss: 6.2427 - val_accuracy: 0.2816\n",
            "Epoch 4/7\n",
            "1282/1282 [==============================] - 29s 22ms/step - loss: 3.1792 - accuracy: 0.4621 - val_loss: 6.3015 - val_accuracy: 0.2852\n",
            "Epoch 5/7\n",
            "1282/1282 [==============================] - 28s 22ms/step - loss: 2.8883 - accuracy: 0.4863 - val_loss: 6.4837 - val_accuracy: 0.3031\n",
            "Epoch 6/7\n",
            "1282/1282 [==============================] - 28s 22ms/step - loss: 2.6495 - accuracy: 0.5080 - val_loss: 6.5553 - val_accuracy: 0.2876\n",
            "Epoch 7/7\n",
            "1282/1282 [==============================] - 28s 22ms/step - loss: 2.4339 - accuracy: 0.5309 - val_loss: 6.7026 - val_accuracy: 0.2924\n",
            "Fitting for word 3:\n",
            "Epoch 1/7\n",
            "1282/1282 [==============================] - 28s 22ms/step - loss: 5.2513 - accuracy: 0.3011 - val_loss: 6.4735 - val_accuracy: 0.2220\n",
            "Epoch 2/7\n",
            "1282/1282 [==============================] - 28s 22ms/step - loss: 4.2612 - accuracy: 0.3709 - val_loss: 6.5460 - val_accuracy: 0.2243\n",
            "Epoch 3/7\n",
            "1282/1282 [==============================] - 28s 22ms/step - loss: 3.7227 - accuracy: 0.4070 - val_loss: 6.6652 - val_accuracy: 0.2351\n",
            "Epoch 4/7\n",
            "1282/1282 [==============================] - 28s 22ms/step - loss: 3.3188 - accuracy: 0.4365 - val_loss: 6.7755 - val_accuracy: 0.2327\n",
            "Epoch 5/7\n",
            "1282/1282 [==============================] - 28s 22ms/step - loss: 2.9795 - accuracy: 0.4635 - val_loss: 6.9491 - val_accuracy: 0.2411\n",
            "Epoch 6/7\n",
            "1282/1282 [==============================] - 28s 22ms/step - loss: 2.6865 - accuracy: 0.4907 - val_loss: 6.9897 - val_accuracy: 0.2399\n",
            "Epoch 7/7\n",
            "1282/1282 [==============================] - 28s 22ms/step - loss: 2.4385 - accuracy: 0.5219 - val_loss: 7.1672 - val_accuracy: 0.2422\n",
            "Fitting for word 4:\n",
            "Epoch 1/7\n",
            "1282/1282 [==============================] - 29s 22ms/step - loss: 5.4437 - accuracy: 0.2819 - val_loss: 6.8413 - val_accuracy: 0.1778\n",
            "Epoch 2/7\n",
            "1282/1282 [==============================] - 29s 22ms/step - loss: 4.4924 - accuracy: 0.3398 - val_loss: 6.8657 - val_accuracy: 0.1766\n",
            "Epoch 3/7\n",
            "1282/1282 [==============================] - 28s 22ms/step - loss: 3.9377 - accuracy: 0.3755 - val_loss: 6.9387 - val_accuracy: 0.1909\n",
            "Epoch 4/7\n",
            "1282/1282 [==============================] - 29s 22ms/step - loss: 3.5010 - accuracy: 0.4043 - val_loss: 7.0992 - val_accuracy: 0.1909\n",
            "Epoch 5/7\n",
            "1282/1282 [==============================] - 29s 22ms/step - loss: 3.1287 - accuracy: 0.4346 - val_loss: 7.2617 - val_accuracy: 0.1921\n",
            "Epoch 6/7\n",
            "1282/1282 [==============================] - 29s 22ms/step - loss: 2.8163 - accuracy: 0.4683 - val_loss: 7.4005 - val_accuracy: 0.1933\n",
            "Epoch 7/7\n",
            "1282/1282 [==============================] - 29s 22ms/step - loss: 2.5430 - accuracy: 0.5038 - val_loss: 7.6580 - val_accuracy: 0.1981\n",
            "Fitting for word 5:\n",
            "Epoch 1/7\n",
            "1282/1282 [==============================] - 29s 22ms/step - loss: 5.8031 - accuracy: 0.2400 - val_loss: 7.1629 - val_accuracy: 0.1456\n",
            "Epoch 2/7\n",
            "1282/1282 [==============================] - 29s 22ms/step - loss: 4.9031 - accuracy: 0.2867 - val_loss: 7.2294 - val_accuracy: 0.1516\n",
            "Epoch 3/7\n",
            "1282/1282 [==============================] - 28s 22ms/step - loss: 4.3512 - accuracy: 0.3177 - val_loss: 7.3521 - val_accuracy: 0.1504\n",
            "Epoch 4/7\n",
            "1282/1282 [==============================] - 29s 22ms/step - loss: 3.9161 - accuracy: 0.3452 - val_loss: 7.2879 - val_accuracy: 0.1480\n",
            "Epoch 5/7\n",
            "1282/1282 [==============================] - 29s 23ms/step - loss: 3.5264 - accuracy: 0.3728 - val_loss: 7.3918 - val_accuracy: 0.1432\n",
            "Epoch 6/7\n",
            "1282/1282 [==============================] - 28s 22ms/step - loss: 3.1847 - accuracy: 0.4068 - val_loss: 7.5897 - val_accuracy: 0.1551\n",
            "Epoch 7/7\n",
            "1282/1282 [==============================] - 28s 22ms/step - loss: 2.8852 - accuracy: 0.4462 - val_loss: 7.7723 - val_accuracy: 0.1563\n",
            "Fitting for word 6:\n",
            "Epoch 1/7\n",
            "1282/1282 [==============================] - 28s 22ms/step - loss: 6.2117 - accuracy: 0.1963 - val_loss: 7.7380 - val_accuracy: 0.0943\n",
            "Epoch 2/7\n",
            "1282/1282 [==============================] - 28s 22ms/step - loss: 5.3369 - accuracy: 0.2346 - val_loss: 7.7553 - val_accuracy: 0.0979\n",
            "Epoch 3/7\n",
            "1282/1282 [==============================] - 29s 22ms/step - loss: 4.7709 - accuracy: 0.2598 - val_loss: 7.8087 - val_accuracy: 0.0990\n",
            "Epoch 4/7\n",
            "1282/1282 [==============================] - 29s 23ms/step - loss: 4.3070 - accuracy: 0.2862 - val_loss: 7.9502 - val_accuracy: 0.0979\n",
            "Epoch 5/7\n",
            "1282/1282 [==============================] - 28s 22ms/step - loss: 3.9097 - accuracy: 0.3164 - val_loss: 7.9987 - val_accuracy: 0.1026\n",
            "Epoch 6/7\n",
            "1282/1282 [==============================] - 28s 22ms/step - loss: 3.5443 - accuracy: 0.3495 - val_loss: 8.2465 - val_accuracy: 0.0990\n",
            "Epoch 7/7\n",
            "1282/1282 [==============================] - 28s 22ms/step - loss: 3.2344 - accuracy: 0.3878 - val_loss: 8.4150 - val_accuracy: 0.1086\n",
            "Fitting for word 7:\n",
            "Epoch 1/7\n",
            "1282/1282 [==============================] - 29s 22ms/step - loss: 6.4212 - accuracy: 0.1650 - val_loss: 7.9191 - val_accuracy: 0.0621\n",
            "Epoch 2/7\n",
            "1282/1282 [==============================] - 29s 22ms/step - loss: 5.5737 - accuracy: 0.1995 - val_loss: 7.9316 - val_accuracy: 0.0740\n",
            "Epoch 3/7\n",
            "1282/1282 [==============================] - 29s 22ms/step - loss: 5.0301 - accuracy: 0.2230 - val_loss: 8.1150 - val_accuracy: 0.0716\n",
            "Epoch 4/7\n",
            "1282/1282 [==============================] - 29s 22ms/step - loss: 4.5731 - accuracy: 0.2506 - val_loss: 8.2531 - val_accuracy: 0.0656\n",
            "Epoch 5/7\n",
            "1282/1282 [==============================] - 29s 22ms/step - loss: 4.1615 - accuracy: 0.2775 - val_loss: 8.4449 - val_accuracy: 0.0680\n",
            "Epoch 6/7\n",
            "1282/1282 [==============================] - 29s 22ms/step - loss: 3.8011 - accuracy: 0.3109 - val_loss: 8.5251 - val_accuracy: 0.0668\n",
            "Epoch 7/7\n",
            "1282/1282 [==============================] - 28s 22ms/step - loss: 3.4743 - accuracy: 0.3477 - val_loss: 8.7108 - val_accuracy: 0.0680\n",
            "Fitting for word 8:\n",
            "Epoch 1/7\n",
            "1282/1282 [==============================] - 28s 22ms/step - loss: 6.5681 - accuracy: 0.1466 - val_loss: 8.1278 - val_accuracy: 0.0561\n",
            "Epoch 2/7\n",
            "1282/1282 [==============================] - 28s 22ms/step - loss: 5.7576 - accuracy: 0.1773 - val_loss: 8.2069 - val_accuracy: 0.0513\n",
            "Epoch 3/7\n",
            "1282/1282 [==============================] - 28s 22ms/step - loss: 5.2171 - accuracy: 0.2008 - val_loss: 8.2613 - val_accuracy: 0.0561\n",
            "Epoch 4/7\n",
            "1282/1282 [==============================] - 28s 22ms/step - loss: 4.7643 - accuracy: 0.2247 - val_loss: 8.4190 - val_accuracy: 0.0525\n",
            "Epoch 5/7\n",
            "1282/1282 [==============================] - 28s 22ms/step - loss: 4.3528 - accuracy: 0.2512 - val_loss: 8.5230 - val_accuracy: 0.0501\n",
            "Epoch 6/7\n",
            "1282/1282 [==============================] - 29s 22ms/step - loss: 3.9811 - accuracy: 0.2838 - val_loss: 8.8265 - val_accuracy: 0.0561\n",
            "Epoch 7/7\n",
            "1282/1282 [==============================] - 28s 22ms/step - loss: 3.6536 - accuracy: 0.3199 - val_loss: 8.8887 - val_accuracy: 0.0501\n",
            "Fitting for word 9:\n",
            "Epoch 1/7\n",
            "1282/1282 [==============================] - 28s 22ms/step - loss: 6.6585 - accuracy: 0.1403 - val_loss: 8.1483 - val_accuracy: 0.0442\n",
            "Epoch 2/7\n",
            "1282/1282 [==============================] - 29s 22ms/step - loss: 5.8555 - accuracy: 0.1697 - val_loss: 8.1102 - val_accuracy: 0.0394\n",
            "Epoch 3/7\n",
            "1282/1282 [==============================] - 28s 22ms/step - loss: 5.3077 - accuracy: 0.1930 - val_loss: 8.1662 - val_accuracy: 0.0453\n",
            "Epoch 4/7\n",
            "1282/1282 [==============================] - 28s 22ms/step - loss: 4.8377 - accuracy: 0.2150 - val_loss: 8.3530 - val_accuracy: 0.0418\n",
            "Epoch 5/7\n",
            "1282/1282 [==============================] - 29s 22ms/step - loss: 4.4386 - accuracy: 0.2425 - val_loss: 8.3913 - val_accuracy: 0.0394\n",
            "Epoch 6/7\n",
            "1282/1282 [==============================] - 29s 22ms/step - loss: 4.0792 - accuracy: 0.2710 - val_loss: 8.6192 - val_accuracy: 0.0394\n",
            "Epoch 7/7\n",
            "1282/1282 [==============================] - 29s 22ms/step - loss: 3.7667 - accuracy: 0.3049 - val_loss: 8.8853 - val_accuracy: 0.0394\n",
            "Fitting for word 10:\n",
            "Epoch 1/7\n",
            "1282/1282 [==============================] - 29s 22ms/step - loss: 6.5543 - accuracy: 0.1458 - val_loss: 8.1307 - val_accuracy: 0.0263\n",
            "Epoch 2/7\n",
            "1282/1282 [==============================] - 29s 22ms/step - loss: 5.7792 - accuracy: 0.1746 - val_loss: 8.1766 - val_accuracy: 0.0263\n",
            "Epoch 3/7\n",
            "1282/1282 [==============================] - 28s 22ms/step - loss: 5.2700 - accuracy: 0.1952 - val_loss: 8.2312 - val_accuracy: 0.0298\n",
            "Epoch 4/7\n",
            "1282/1282 [==============================] - 28s 22ms/step - loss: 4.8453 - accuracy: 0.2175 - val_loss: 8.3373 - val_accuracy: 0.0298\n",
            "Epoch 5/7\n",
            "1282/1282 [==============================] - 28s 22ms/step - loss: 4.4602 - accuracy: 0.2410 - val_loss: 8.4781 - val_accuracy: 0.0274\n",
            "Epoch 6/7\n",
            "1282/1282 [==============================] - 29s 22ms/step - loss: 4.1059 - accuracy: 0.2697 - val_loss: 8.6440 - val_accuracy: 0.0251\n",
            "Epoch 7/7\n",
            "1282/1282 [==============================] - 28s 22ms/step - loss: 3.7897 - accuracy: 0.3033 - val_loss: 8.8396 - val_accuracy: 0.0227\n",
            "Fitting for word 11:\n",
            "Epoch 1/7\n",
            "1282/1282 [==============================] - 28s 22ms/step - loss: 6.3294 - accuracy: 0.1692 - val_loss: 8.3906 - val_accuracy: 0.0298\n",
            "Epoch 2/7\n",
            "1282/1282 [==============================] - 29s 22ms/step - loss: 5.6446 - accuracy: 0.1958 - val_loss: 8.4548 - val_accuracy: 0.0251\n",
            "Epoch 3/7\n",
            "1282/1282 [==============================] - 29s 22ms/step - loss: 5.1614 - accuracy: 0.2147 - val_loss: 8.4652 - val_accuracy: 0.0382\n",
            "Epoch 4/7\n",
            "1282/1282 [==============================] - 28s 22ms/step - loss: 4.7474 - accuracy: 0.2353 - val_loss: 8.4748 - val_accuracy: 0.0346\n",
            "Epoch 5/7\n",
            "1282/1282 [==============================] - 28s 22ms/step - loss: 4.3781 - accuracy: 0.2577 - val_loss: 8.7079 - val_accuracy: 0.0286\n",
            "Epoch 6/7\n",
            "1282/1282 [==============================] - 28s 22ms/step - loss: 4.0458 - accuracy: 0.2856 - val_loss: 8.7602 - val_accuracy: 0.0346\n",
            "Epoch 7/7\n",
            "1282/1282 [==============================] - 28s 22ms/step - loss: 3.7484 - accuracy: 0.3130 - val_loss: 8.9645 - val_accuracy: 0.0334\n",
            "Fitting for word 12:\n",
            "Epoch 1/7\n",
            "1282/1282 [==============================] - 28s 22ms/step - loss: 6.0966 - accuracy: 0.2007 - val_loss: 8.8547 - val_accuracy: 0.0346\n",
            "Epoch 2/7\n",
            "1282/1282 [==============================] - 29s 22ms/step - loss: 5.4330 - accuracy: 0.2252 - val_loss: 8.8552 - val_accuracy: 0.0370\n",
            "Epoch 3/7\n",
            "1282/1282 [==============================] - 28s 22ms/step - loss: 4.9802 - accuracy: 0.2435 - val_loss: 8.9506 - val_accuracy: 0.0358\n",
            "Epoch 4/7\n",
            "1282/1282 [==============================] - 29s 22ms/step - loss: 4.6069 - accuracy: 0.2618 - val_loss: 8.9359 - val_accuracy: 0.0298\n",
            "Epoch 5/7\n",
            "1282/1282 [==============================] - 28s 22ms/step - loss: 4.2692 - accuracy: 0.2819 - val_loss: 9.1543 - val_accuracy: 0.0346\n",
            "Epoch 6/7\n",
            "1282/1282 [==============================] - 29s 22ms/step - loss: 3.9571 - accuracy: 0.3050 - val_loss: 9.4675 - val_accuracy: 0.0310\n",
            "Epoch 7/7\n",
            "1282/1282 [==============================] - 28s 22ms/step - loss: 3.6772 - accuracy: 0.3310 - val_loss: 9.5024 - val_accuracy: 0.0346\n",
            "Fitting for word 13:\n",
            "Epoch 1/7\n",
            "1282/1282 [==============================] - 29s 22ms/step - loss: 5.7610 - accuracy: 0.2430 - val_loss: 9.2726 - val_accuracy: 0.0406\n",
            "Epoch 2/7\n",
            "1282/1282 [==============================] - 29s 22ms/step - loss: 5.1498 - accuracy: 0.2645 - val_loss: 9.2338 - val_accuracy: 0.0394\n",
            "Epoch 3/7\n",
            "1282/1282 [==============================] - 28s 22ms/step - loss: 4.7459 - accuracy: 0.2820 - val_loss: 9.5746 - val_accuracy: 0.0358\n",
            "Epoch 4/7\n",
            "1282/1282 [==============================] - 28s 22ms/step - loss: 4.3985 - accuracy: 0.2971 - val_loss: 9.4933 - val_accuracy: 0.0394\n",
            "Epoch 5/7\n",
            "1282/1282 [==============================] - 28s 22ms/step - loss: 4.0871 - accuracy: 0.3145 - val_loss: 9.5963 - val_accuracy: 0.0394\n",
            "Epoch 6/7\n",
            "1282/1282 [==============================] - 28s 22ms/step - loss: 3.8058 - accuracy: 0.3365 - val_loss: 9.9240 - val_accuracy: 0.0382\n",
            "Epoch 7/7\n",
            "1282/1282 [==============================] - 28s 22ms/step - loss: 3.5540 - accuracy: 0.3581 - val_loss: 9.8683 - val_accuracy: 0.0382\n"
          ]
        }
      ]
    },
    {
      "cell_type": "code",
      "source": [
        "model.save(\"/content/drive/MyDrive/Recursive_Attention_GRU_TeacherForcing_13words.h5\")"
      ],
      "metadata": {
        "id": "ogvmWgu8-xA4"
      },
      "execution_count": 31,
      "outputs": []
    },
    {
      "cell_type": "code",
      "source": [
        "predicts_generated_sofar_test = pad_sequences([[0]]*4755, maxlen=max_length_output, padding='post')\n",
        "#predicts_generated_sofar_test = predicts_generated_sofar_test[:5593]\n",
        "for i in range(13):\n",
        "    batch_size = 5000\n",
        "    num_samples = padded_inputs_test.shape[0]\n",
        "    num_batches = (num_samples + batch_size - 1) // batch_size\n",
        "    predicted_summaries = []\n",
        "    for j in range(num_batches):\n",
        "        start_idx = j * batch_size\n",
        "        end_idx = min((j + 1) * batch_size, num_samples)\n",
        "        batch_inputs = padded_inputs_test[start_idx:end_idx]\n",
        "        batch_inputs2 = predicts_generated_sofar_test[start_idx:end_idx]\n",
        "        batch_predictions = model.predict([batch_inputs,batch_inputs2], verbose=0)\n",
        "        #batch_predictions[:, 0] = -np.inf\n",
        "        for x in batch_predictions:\n",
        "          batch_predicted_indices = np.argmax(x)\n",
        "          predicted_summaries.append(batch_predicted_indices)\n",
        "          del batch_predicted_indices\n",
        "        del batch_inputs, batch_inputs2, batch_predictions,start_idx,end_idx\n",
        "    predicts_generated_sofar_test[:, i] = predicted_summaries\n",
        "    print('showing an example of output for row 0:')\n",
        "    print(predicts_generated_sofar_test[0])\n",
        "    del batch_size,num_samples,num_batches,predicted_summaries"
      ],
      "metadata": {
        "colab": {
          "base_uri": "https://localhost:8080/"
        },
        "id": "Z-NWOUkHAxjH",
        "outputId": "6c69583f-f1ca-4bdf-ce71-1e9ca3a7c06a"
      },
      "execution_count": 32,
      "outputs": [
        {
          "output_type": "stream",
          "name": "stdout",
          "text": [
            "showing an example of output for row 0:\n",
            "[379   0   0   0   0   0   0   0   0   0   0   0   0   0   0   0   0   0\n",
            "   0   0   0   0   0   0   0]\n",
            "showing an example of output for row 0:\n",
            "[379 199   0   0   0   0   0   0   0   0   0   0   0   0   0   0   0   0\n",
            "   0   0   0   0   0   0   0]\n",
            "showing an example of output for row 0:\n",
            "[379 199  87   0   0   0   0   0   0   0   0   0   0   0   0   0   0   0\n",
            "   0   0   0   0   0   0   0]\n",
            "showing an example of output for row 0:\n",
            "[ 379  199   87 8038    0    0    0    0    0    0    0    0    0    0\n",
            "    0    0    0    0    0    0    0    0    0    0    0]\n",
            "showing an example of output for row 0:\n",
            "[ 379  199   87 8038 3959    0    0    0    0    0    0    0    0    0\n",
            "    0    0    0    0    0    0    0    0    0    0    0]\n",
            "showing an example of output for row 0:\n",
            "[ 379  199   87 8038 3959    4    0    0    0    0    0    0    0    0\n",
            "    0    0    0    0    0    0    0    0    0    0    0]\n",
            "showing an example of output for row 0:\n",
            "[ 379  199   87 8038 3959    4   10    0    0    0    0    0    0    0\n",
            "    0    0    0    0    0    0    0    0    0    0    0]\n",
            "showing an example of output for row 0:\n",
            "[ 379  199   87 8038 3959    4   10 4101    0    0    0    0    0    0\n",
            "    0    0    0    0    0    0    0    0    0    0    0]\n",
            "showing an example of output for row 0:\n",
            "[ 379  199   87 8038 3959    4   10 4101    4    0    0    0    0    0\n",
            "    0    0    0    0    0    0    0    0    0    0    0]\n",
            "showing an example of output for row 0:\n",
            "[ 379  199   87 8038 3959    4   10 4101    4   10    0    0    0    0\n",
            "    0    0    0    0    0    0    0    0    0    0    0]\n",
            "showing an example of output for row 0:\n",
            "[ 379  199   87 8038 3959    4   10 4101    4   10 4101    0    0    0\n",
            "    0    0    0    0    0    0    0    0    0    0    0]\n",
            "showing an example of output for row 0:\n",
            "[ 379  199   87 8038 3959    4   10 4101    4   10 4101    4    0    0\n",
            "    0    0    0    0    0    0    0    0    0    0    0]\n",
            "showing an example of output for row 0:\n",
            "[ 379  199   87 8038 3959    4   10 4101    4   10 4101    4   10    0\n",
            "    0    0    0    0    0    0    0    0    0    0    0]\n"
          ]
        }
      ]
    },
    {
      "cell_type": "code",
      "execution_count": 33,
      "metadata": {
        "colab": {
          "base_uri": "https://localhost:8080/",
          "height": 472
        },
        "id": "g9H1vUPKl6u5",
        "outputId": "e57ad5af-fc9c-4030-c19d-72fa3748fdd5"
      },
      "outputs": [
        {
          "output_type": "display_data",
          "data": {
            "text/plain": [
              "<Figure size 640x480 with 1 Axes>"
            ],
            "image/png": "[encoded data removed]"
          },
          "metadata": {}
        }
      ],
      "source": [
        "import matplotlib.pyplot as plt\n",
        "train_loss = history_train_loss\n",
        "val_loss = history_val_loss\n",
        "epochs = range(1, len(train_loss) + 1)\n",
        "plt.plot(epochs, train_loss, 'b', label='Training loss')\n",
        "plt.plot(epochs, val_loss, 'r', label='Validation loss')\n",
        "plt.title('Training and Validation Loss')\n",
        "plt.xlabel('Epochs')\n",
        "plt.ylabel('Loss')\n",
        "plt.legend()\n",
        "plt.show()"
      ]
    },
    {
      "cell_type": "code",
      "source": [
        "predicted_summary = []\n",
        "for i in range (len(predicts_generated_sofar_test)):\n",
        "  predicted_summary.append(' '.join([word_vectors.index_to_key[idx] for idx in predicts_generated_sofar_test[i] if idx != 0]))\n"
      ],
      "metadata": {
        "id": "0D7oeyiAaR3D"
      },
      "execution_count": 34,
      "outputs": []
    },
    {
      "cell_type": "code",
      "source": [
        "from rouge import Rouge"
      ],
      "metadata": {
        "id": "y2WrQzSmapGB"
      },
      "execution_count": 35,
      "outputs": []
    },
    {
      "cell_type": "code",
      "source": [
        "target_summaries = []\n",
        "for targets in padded_targets_test:\n",
        "    summary = ' '.join([word2vec_model.wv.index_to_key[idx] for idx in targets if idx != 0])\n",
        "    target_summaries.append(summary)\n",
        "# Calculate the ROUGE score\n",
        "rouge = Rouge()\n",
        "scores = rouge.get_scores(predicted_summary, target_summaries, avg=True)\n",
        "\n",
        "#print(scores)"
      ],
      "metadata": {
        "id": "kIwqzeqrDV_l"
      },
      "execution_count": 36,
      "outputs": []
    },
    {
      "cell_type": "code",
      "source": [
        "#scores = rouge.get_scores(generated_summaries_words, target_summaries, avg=True)\n",
        "print(\"ROUGE Scores:\")\n",
        "print(f\"ROUGE-1: {scores['rouge-1']}\")\n",
        "print(f\"ROUGE-2: {scores['rouge-2']}\")\n",
        "print(f\"ROUGE-L: {scores['rouge-l']}\")"
      ],
      "metadata": {
        "colab": {
          "base_uri": "https://localhost:8080/"
        },
        "id": "PnPp5Op6DrJU",
        "outputId": "0ba14aa0-615d-4b57-bf8a-4a7b69c55f63"
      },
      "execution_count": 37,
      "outputs": [
        {
          "output_type": "stream",
          "name": "stdout",
          "text": [
            "ROUGE Scores:\n",
            "ROUGE-1: {'r': 0.08356922662847699, 'p': 0.34602437520418494, 'f': 0.1246932825662166}\n",
            "ROUGE-2: {'r': 0.011647856461480144, 'p': 0.035683475888523226, 'f': 0.016660789859856733}\n",
            "ROUGE-L: {'r': 0.08049175588532356, 'p': 0.33784390396377706, 'f': 0.12038144712614776}\n"
          ]
        }
      ]
    },
    {
      "cell_type": "code",
      "source": [
        "for i in range(13,25):\n",
        "    print(f\"Fitting for word {i+1}:\")\n",
        "    #Fit:\n",
        "\n",
        "    #Before:\n",
        "    #h = model.fit([padded_inputs, predicts_generated_sofar], padded_targets[:, i] , batch_size=64, epochs=7,\n",
        "    #              validation_data=([padded_inputs_valid,predicts_generated_sofar_for_valid], padded_targets_valid[:, i]))\n",
        "\n",
        "    #After: Teacher Forcing:\n",
        "    padded_targets_sliced = pad_sequences(padded_targets[:, :i], maxlen=max_length_output, padding='post')\n",
        "\n",
        "    h = model.fit([padded_inputs, padded_targets_sliced], padded_targets[:, i], batch_size=64, epochs=7,\n",
        "                  validation_data=([padded_inputs_valid, predicts_generated_sofar_for_valid], padded_targets_valid[:, i]))\n",
        "    #Predict: (We don't need this part anymore because we are Teacher forcing with the real output)\n",
        "    '''\n",
        "    print(f\"Predicting word number {i+1}... and saving it in predicts_generated_sofar\")\n",
        "    batch_size = 5000\n",
        "    num_samples = padded_inputs.shape[0]\n",
        "    num_batches = (num_samples + batch_size - 1) // batch_size\n",
        "    predicted_summaries = []\n",
        "    for j in range(num_batches):\n",
        "        start_idx = j * batch_size\n",
        "        end_idx = min((j + 1) * batch_size, num_samples)\n",
        "        batch_inputs = padded_inputs[start_idx:end_idx]\n",
        "        batch_inputs2 = predicts_generated_sofar[start_idx:end_idx]\n",
        "        batch_predictions = model.predict([batch_inputs,batch_inputs2], verbose=0)\n",
        "        batch_predictions[:, 0] = -np.inf\n",
        "        for x in batch_predictions:\n",
        "          batch_predicted_indices = np.argmax(x)\n",
        "          predicted_summaries.append(batch_predicted_indices)\n",
        "          del batch_predicted_indices\n",
        "        del batch_inputs, batch_inputs2, batch_predictions,start_idx,end_idx\n",
        "    time.sleep(1)\n",
        "    predicts_generated_sofar[:, i] = predicted_summaries\n",
        "    time.sleep(1)\n",
        "    del batch_size,num_samples,num_batches,predicted_summaries\n",
        "    print(f\"Predicting word number {i+1} for valid... and saving it in predicts_generated_sofar_valid\")\n",
        "    '''\n",
        "    #Predict for valid data:\n",
        "    batch_size = 5000\n",
        "    num_samples = padded_inputs_valid.shape[0]\n",
        "    num_batches = (num_samples + batch_size - 1) // batch_size\n",
        "    predicted_summaries = []\n",
        "    for j in range(num_batches):\n",
        "        start_idx = j * batch_size\n",
        "        end_idx = min((j + 1) * batch_size, num_samples)\n",
        "        batch_inputs = padded_inputs_valid[start_idx:end_idx]\n",
        "        batch_inputs2 = predicts_generated_sofar_for_valid[start_idx:end_idx]\n",
        "        batch_predictions = model.predict([batch_inputs,batch_inputs2], verbose=0)\n",
        "        #batch_predictions[:, 0] = -np.inf\n",
        "        for x in batch_predictions:\n",
        "          batch_predicted_indices = np.argmax(x)\n",
        "          predicted_summaries.append(batch_predicted_indices)\n",
        "          del batch_predicted_indices\n",
        "        del batch_inputs, batch_inputs2, batch_predictions,start_idx,end_idx\n",
        "    predicts_generated_sofar_for_valid[:, i] = predicted_summaries\n",
        "    del batch_size,num_samples,num_batches,predicted_summaries\n",
        "    #save History\n",
        "    train_loss = h.history['loss']\n",
        "    val_loss = h.history['val_loss']\n",
        "    for x in train_loss:\n",
        "      history_train_loss.append(x)\n",
        "    for x in val_loss:\n",
        "      history_val_loss.append(x)\n",
        "    del train_loss,h\n",
        "    del val_loss"
      ],
      "metadata": {
        "colab": {
          "base_uri": "https://localhost:8080/"
        },
        "id": "t3Np93ajEzll",
        "outputId": "403e5989-40b1-4d6b-ef40-67ef7c6e92e9"
      },
      "execution_count": 38,
      "outputs": [
        {
          "output_type": "stream",
          "name": "stdout",
          "text": [
            "Fitting for word 14:\n",
            "Epoch 1/7\n",
            "1282/1282 [==============================] - 29s 23ms/step - loss: 5.3898 - accuracy: 0.2921 - val_loss: 9.5103 - val_accuracy: 0.0656\n",
            "Epoch 2/7\n",
            "1282/1282 [==============================] - 29s 22ms/step - loss: 4.8123 - accuracy: 0.3109 - val_loss: 9.5275 - val_accuracy: 0.0656\n",
            "Epoch 3/7\n",
            "1282/1282 [==============================] - 29s 22ms/step - loss: 4.4330 - accuracy: 0.3255 - val_loss: 9.7490 - val_accuracy: 0.0644\n",
            "Epoch 4/7\n",
            "1282/1282 [==============================] - 29s 22ms/step - loss: 4.1203 - accuracy: 0.3409 - val_loss: 9.9799 - val_accuracy: 0.0597\n",
            "Epoch 5/7\n",
            "1282/1282 [==============================] - 29s 22ms/step - loss: 3.8281 - accuracy: 0.3560 - val_loss: 9.9322 - val_accuracy: 0.0656\n",
            "Epoch 6/7\n",
            "1282/1282 [==============================] - 29s 22ms/step - loss: 3.5616 - accuracy: 0.3749 - val_loss: 10.2375 - val_accuracy: 0.0573\n",
            "Epoch 7/7\n",
            "1282/1282 [==============================] - 29s 22ms/step - loss: 3.3217 - accuracy: 0.3981 - val_loss: 10.2313 - val_accuracy: 0.0609\n",
            "Fitting for word 15:\n",
            "Epoch 1/7\n",
            "1282/1282 [==============================] - 29s 23ms/step - loss: 4.9213 - accuracy: 0.3487 - val_loss: 9.9174 - val_accuracy: 0.0979\n",
            "Epoch 2/7\n",
            "1282/1282 [==============================] - 29s 22ms/step - loss: 4.4163 - accuracy: 0.3668 - val_loss: 9.9247 - val_accuracy: 0.1014\n",
            "Epoch 3/7\n",
            "1282/1282 [==============================] - 29s 22ms/step - loss: 4.0649 - accuracy: 0.3793 - val_loss: 10.0036 - val_accuracy: 0.1050\n",
            "Epoch 4/7\n",
            "1282/1282 [==============================] - 29s 22ms/step - loss: 3.7726 - accuracy: 0.3934 - val_loss: 10.1511 - val_accuracy: 0.1050\n",
            "Epoch 5/7\n",
            "1282/1282 [==============================] - 29s 23ms/step - loss: 3.5118 - accuracy: 0.4079 - val_loss: 10.4633 - val_accuracy: 0.1002\n",
            "Epoch 6/7\n",
            "1282/1282 [==============================] - 29s 23ms/step - loss: 3.2726 - accuracy: 0.4246 - val_loss: 10.4585 - val_accuracy: 0.1026\n",
            "Epoch 7/7\n",
            "1282/1282 [==============================] - 29s 23ms/step - loss: 3.0538 - accuracy: 0.4461 - val_loss: 10.6735 - val_accuracy: 0.1026\n",
            "Fitting for word 16:\n",
            "Epoch 1/7\n",
            "1282/1282 [==============================] - 29s 23ms/step - loss: 4.4401 - accuracy: 0.4134 - val_loss: 10.4694 - val_accuracy: 0.1611\n",
            "Epoch 2/7\n",
            "1282/1282 [==============================] - 29s 23ms/step - loss: 3.9783 - accuracy: 0.4288 - val_loss: 10.3689 - val_accuracy: 0.1647\n",
            "Epoch 3/7\n",
            "1282/1282 [==============================] - 29s 22ms/step - loss: 3.6658 - accuracy: 0.4401 - val_loss: 10.4409 - val_accuracy: 0.1623\n",
            "Epoch 4/7\n",
            "1282/1282 [==============================] - 29s 22ms/step - loss: 3.4055 - accuracy: 0.4539 - val_loss: 10.6707 - val_accuracy: 0.1599\n",
            "Epoch 5/7\n",
            "1282/1282 [==============================] - 29s 23ms/step - loss: 3.1789 - accuracy: 0.4652 - val_loss: 10.5251 - val_accuracy: 0.1599\n",
            "Epoch 6/7\n",
            "1282/1282 [==============================] - 29s 23ms/step - loss: 2.9714 - accuracy: 0.4797 - val_loss: 11.0294 - val_accuracy: 0.1563\n",
            "Epoch 7/7\n",
            "1282/1282 [==============================] - 29s 22ms/step - loss: 2.7705 - accuracy: 0.4958 - val_loss: 10.9785 - val_accuracy: 0.1575\n",
            "Fitting for word 17:\n",
            "Epoch 1/7\n",
            "1282/1282 [==============================] - 29s 22ms/step - loss: 4.0387 - accuracy: 0.4742 - val_loss: 10.2485 - val_accuracy: 0.2148\n",
            "Epoch 2/7\n",
            "1282/1282 [==============================] - 29s 23ms/step - loss: 3.6323 - accuracy: 0.4891 - val_loss: 10.4891 - val_accuracy: 0.2208\n",
            "Epoch 3/7\n",
            "1282/1282 [==============================] - 29s 23ms/step - loss: 3.3464 - accuracy: 0.5009 - val_loss: 10.6813 - val_accuracy: 0.2196\n",
            "Epoch 4/7\n",
            "1282/1282 [==============================] - 29s 22ms/step - loss: 3.0847 - accuracy: 0.5114 - val_loss: 10.6927 - val_accuracy: 0.2196\n",
            "Epoch 5/7\n",
            "1282/1282 [==============================] - 29s 22ms/step - loss: 2.8548 - accuracy: 0.5227 - val_loss: 11.0759 - val_accuracy: 0.2160\n",
            "Epoch 6/7\n",
            "1282/1282 [==============================] - 29s 22ms/step - loss: 2.6640 - accuracy: 0.5359 - val_loss: 11.0365 - val_accuracy: 0.2160\n",
            "Epoch 7/7\n",
            "1282/1282 [==============================] - 28s 22ms/step - loss: 2.4787 - accuracy: 0.5525 - val_loss: 11.3471 - val_accuracy: 0.2184\n",
            "Fitting for word 18:\n",
            "Epoch 1/7\n",
            "1282/1282 [==============================] - 28s 22ms/step - loss: 3.6040 - accuracy: 0.5336 - val_loss: 10.5181 - val_accuracy: 0.3031\n",
            "Epoch 2/7\n",
            "1282/1282 [==============================] - 28s 22ms/step - loss: 3.2334 - accuracy: 0.5465 - val_loss: 10.0533 - val_accuracy: 0.3007\n",
            "Epoch 3/7\n",
            "1282/1282 [==============================] - 28s 22ms/step - loss: 2.9749 - accuracy: 0.5567 - val_loss: 10.7654 - val_accuracy: 0.3019\n",
            "Epoch 4/7\n",
            "1282/1282 [==============================] - 29s 22ms/step - loss: 2.7536 - accuracy: 0.5660 - val_loss: 10.6540 - val_accuracy: 0.3007\n",
            "Epoch 5/7\n",
            "1282/1282 [==============================] - 32s 25ms/step - loss: 2.5550 - accuracy: 0.5769 - val_loss: 10.5698 - val_accuracy: 0.3031\n",
            "Epoch 6/7\n",
            "1282/1282 [==============================] - 28s 22ms/step - loss: 2.3746 - accuracy: 0.5885 - val_loss: 11.0863 - val_accuracy: 0.2995\n",
            "Epoch 7/7\n",
            "1282/1282 [==============================] - 31s 24ms/step - loss: 2.2099 - accuracy: 0.6031 - val_loss: 11.1185 - val_accuracy: 0.3007\n",
            "Fitting for word 19:\n",
            "Epoch 1/7\n",
            "1282/1282 [==============================] - 29s 22ms/step - loss: 3.1248 - accuracy: 0.5939 - val_loss: 9.6741 - val_accuracy: 0.3914\n",
            "Epoch 2/7\n",
            "1282/1282 [==============================] - 28s 22ms/step - loss: 2.7780 - accuracy: 0.6049 - val_loss: 9.7831 - val_accuracy: 0.3890\n",
            "Epoch 3/7\n",
            "1282/1282 [==============================] - 29s 23ms/step - loss: 2.5465 - accuracy: 0.6152 - val_loss: 10.2516 - val_accuracy: 0.3926\n",
            "Epoch 4/7\n",
            "1282/1282 [==============================] - 28s 22ms/step - loss: 2.3524 - accuracy: 0.6231 - val_loss: 10.0937 - val_accuracy: 0.3902\n",
            "Epoch 5/7\n",
            "1282/1282 [==============================] - 28s 22ms/step - loss: 2.1787 - accuracy: 0.6321 - val_loss: 10.2308 - val_accuracy: 0.3878\n",
            "Epoch 6/7\n",
            "1282/1282 [==============================] - 28s 22ms/step - loss: 2.0297 - accuracy: 0.6433 - val_loss: 10.5655 - val_accuracy: 0.3902\n",
            "Epoch 7/7\n",
            "1282/1282 [==============================] - 28s 22ms/step - loss: 1.8903 - accuracy: 0.6554 - val_loss: 10.0196 - val_accuracy: 0.3854\n",
            "Fitting for word 20:\n",
            "Epoch 1/7\n",
            "1282/1282 [==============================] - 28s 22ms/step - loss: 2.6992 - accuracy: 0.6482 - val_loss: 8.5100 - val_accuracy: 0.4630\n",
            "Epoch 2/7\n",
            "1282/1282 [==============================] - 29s 22ms/step - loss: 2.4047 - accuracy: 0.6583 - val_loss: 9.1706 - val_accuracy: 0.4642\n",
            "Epoch 3/7\n",
            "1282/1282 [==============================] - 28s 22ms/step - loss: 2.1888 - accuracy: 0.6658 - val_loss: 9.5611 - val_accuracy: 0.4642\n",
            "Epoch 4/7\n",
            "1282/1282 [==============================] - 28s 22ms/step - loss: 2.0087 - accuracy: 0.6736 - val_loss: 9.4360 - val_accuracy: 0.4630\n",
            "Epoch 5/7\n",
            "1282/1282 [==============================] - 28s 22ms/step - loss: 1.8546 - accuracy: 0.6823 - val_loss: 9.8309 - val_accuracy: 0.4630\n",
            "Epoch 6/7\n",
            "1282/1282 [==============================] - 28s 22ms/step - loss: 1.7207 - accuracy: 0.6921 - val_loss: 9.5543 - val_accuracy: 0.4642\n",
            "Epoch 7/7\n",
            "1282/1282 [==============================] - 29s 22ms/step - loss: 1.6000 - accuracy: 0.7028 - val_loss: 9.5766 - val_accuracy: 0.4630\n",
            "Fitting for word 21:\n",
            "Epoch 1/7\n",
            "1282/1282 [==============================] - 28s 22ms/step - loss: 2.2855 - accuracy: 0.7015 - val_loss: 8.4058 - val_accuracy: 0.5334\n",
            "Epoch 2/7\n",
            "1282/1282 [==============================] - 28s 22ms/step - loss: 2.0290 - accuracy: 0.7095 - val_loss: 8.4693 - val_accuracy: 0.5334\n",
            "Epoch 3/7\n",
            "1282/1282 [==============================] - 28s 22ms/step - loss: 1.8476 - accuracy: 0.7178 - val_loss: 8.4201 - val_accuracy: 0.5346\n",
            "Epoch 4/7\n",
            "1282/1282 [==============================] - 28s 22ms/step - loss: 1.6992 - accuracy: 0.7246 - val_loss: 8.6888 - val_accuracy: 0.5346\n",
            "Epoch 5/7\n",
            "1282/1282 [==============================] - 28s 22ms/step - loss: 1.5639 - accuracy: 0.7323 - val_loss: 9.0149 - val_accuracy: 0.5346\n",
            "Epoch 6/7\n",
            "1282/1282 [==============================] - 28s 22ms/step - loss: 1.4404 - accuracy: 0.7413 - val_loss: 9.5478 - val_accuracy: 0.5346\n",
            "Epoch 7/7\n",
            "1282/1282 [==============================] - 28s 22ms/step - loss: 1.3319 - accuracy: 0.7522 - val_loss: 9.3326 - val_accuracy: 0.5346\n",
            "Fitting for word 22:\n",
            "Epoch 1/7\n",
            "1282/1282 [==============================] - 28s 22ms/step - loss: 1.9524 - accuracy: 0.7491 - val_loss: 7.2882 - val_accuracy: 0.5967\n",
            "Epoch 2/7\n",
            "1282/1282 [==============================] - 28s 22ms/step - loss: 1.7308 - accuracy: 0.7565 - val_loss: 7.6706 - val_accuracy: 0.5967\n",
            "Epoch 3/7\n",
            "1282/1282 [==============================] - 28s 22ms/step - loss: 1.5603 - accuracy: 0.7630 - val_loss: 7.6938 - val_accuracy: 0.5967\n",
            "Epoch 4/7\n",
            "1282/1282 [==============================] - 28s 22ms/step - loss: 1.4209 - accuracy: 0.7693 - val_loss: 8.0662 - val_accuracy: 0.5967\n",
            "Epoch 5/7\n",
            "1282/1282 [==============================] - 28s 22ms/step - loss: 1.2996 - accuracy: 0.7771 - val_loss: 7.7900 - val_accuracy: 0.5967\n",
            "Epoch 6/7\n",
            "1282/1282 [==============================] - 28s 22ms/step - loss: 1.1859 - accuracy: 0.7854 - val_loss: 8.1780 - val_accuracy: 0.5967\n",
            "Epoch 7/7\n",
            "1282/1282 [==============================] - 28s 22ms/step - loss: 1.0908 - accuracy: 0.7938 - val_loss: 8.2762 - val_accuracy: 0.5979\n",
            "Fitting for word 23:\n",
            "Epoch 1/7\n",
            "1282/1282 [==============================] - 28s 22ms/step - loss: 1.6056 - accuracy: 0.7937 - val_loss: 7.0162 - val_accuracy: 0.6718\n",
            "Epoch 2/7\n",
            "1282/1282 [==============================] - 28s 22ms/step - loss: 1.4058 - accuracy: 0.8015 - val_loss: 7.2506 - val_accuracy: 0.6730\n",
            "Epoch 3/7\n",
            "1282/1282 [==============================] - 28s 22ms/step - loss: 1.2602 - accuracy: 0.8065 - val_loss: 6.7824 - val_accuracy: 0.6718\n",
            "Epoch 4/7\n",
            "1282/1282 [==============================] - 29s 22ms/step - loss: 1.1318 - accuracy: 0.8123 - val_loss: 7.1925 - val_accuracy: 0.6718\n",
            "Epoch 5/7\n",
            "1282/1282 [==============================] - 29s 22ms/step - loss: 1.0312 - accuracy: 0.8190 - val_loss: 7.4180 - val_accuracy: 0.6718\n",
            "Epoch 6/7\n",
            "1282/1282 [==============================] - 29s 22ms/step - loss: 0.9348 - accuracy: 0.8278 - val_loss: 7.7873 - val_accuracy: 0.6718\n",
            "Epoch 7/7\n",
            "1282/1282 [==============================] - 29s 22ms/step - loss: 0.8490 - accuracy: 0.8346 - val_loss: 7.6091 - val_accuracy: 0.6730\n",
            "Fitting for word 24:\n",
            "Epoch 1/7\n",
            "1282/1282 [==============================] - 29s 22ms/step - loss: 1.2498 - accuracy: 0.8280 - val_loss: 6.2753 - val_accuracy: 0.7255\n",
            "Epoch 2/7\n",
            "1282/1282 [==============================] - 28s 22ms/step - loss: 1.0778 - accuracy: 0.8339 - val_loss: 5.6642 - val_accuracy: 0.7255\n",
            "Epoch 3/7\n",
            "1282/1282 [==============================] - 29s 22ms/step - loss: 0.9752 - accuracy: 0.8390 - val_loss: 5.9418 - val_accuracy: 0.7255\n",
            "Epoch 4/7\n",
            "1282/1282 [==============================] - 28s 22ms/step - loss: 0.8929 - accuracy: 0.8430 - val_loss: 5.5116 - val_accuracy: 0.7255\n",
            "Epoch 5/7\n",
            "1282/1282 [==============================] - 28s 22ms/step - loss: 0.8244 - accuracy: 0.8469 - val_loss: 5.8053 - val_accuracy: 0.7255\n",
            "Epoch 6/7\n",
            "1282/1282 [==============================] - 28s 22ms/step - loss: 0.7562 - accuracy: 0.8534 - val_loss: 6.1170 - val_accuracy: 0.7255\n",
            "Epoch 7/7\n",
            "1282/1282 [==============================] - 28s 22ms/step - loss: 0.6962 - accuracy: 0.8581 - val_loss: 6.1561 - val_accuracy: 0.7255\n",
            "Fitting for word 25:\n",
            "Epoch 1/7\n",
            "1282/1282 [==============================] - 29s 22ms/step - loss: 0.0086 - accuracy: 0.9982 - val_loss: 3.5053 - val_accuracy: 0.7900\n",
            "Epoch 2/7\n",
            "1282/1282 [==============================] - 29s 22ms/step - loss: 2.2853e-04 - accuracy: 1.0000 - val_loss: 3.6754 - val_accuracy: 0.7900\n",
            "Epoch 3/7\n",
            "1282/1282 [==============================] - 28s 22ms/step - loss: 1.0286e-04 - accuracy: 1.0000 - val_loss: 3.7463 - val_accuracy: 0.7900\n",
            "Epoch 4/7\n",
            "1282/1282 [==============================] - 28s 22ms/step - loss: 6.2244e-05 - accuracy: 1.0000 - val_loss: 3.8770 - val_accuracy: 0.7900\n",
            "Epoch 5/7\n",
            "1282/1282 [==============================] - 28s 22ms/step - loss: 3.1399e-05 - accuracy: 1.0000 - val_loss: 4.2833 - val_accuracy: 0.7900\n",
            "Epoch 6/7\n",
            "1282/1282 [==============================] - 29s 22ms/step - loss: 4.3910e-05 - accuracy: 1.0000 - val_loss: 4.2318 - val_accuracy: 0.7900\n",
            "Epoch 7/7\n",
            "1282/1282 [==============================] - 29s 22ms/step - loss: 9.0534e-06 - accuracy: 1.0000 - val_loss: 4.5501 - val_accuracy: 0.7900\n"
          ]
        }
      ]
    },
    {
      "cell_type": "code",
      "source": [
        "model.save(\"/content/drive/MyDrive/Recursive_Attention_GRU_TeacherForcing_25words.h5\")"
      ],
      "metadata": {
        "id": "IHcbEm1gIvFR"
      },
      "execution_count": 39,
      "outputs": []
    },
    {
      "cell_type": "code",
      "source": [
        "predicts_generated_sofar_test = pad_sequences([[0]]*4755, maxlen=max_length_output, padding='post')\n",
        "#predicts_generated_sofar_test = predicts_generated_sofar_test[:5593]\n",
        "for i in range(13):\n",
        "    batch_size = 5000\n",
        "    num_samples = padded_inputs_test.shape[0]\n",
        "    num_batches = (num_samples + batch_size - 1) // batch_size\n",
        "    predicted_summaries = []\n",
        "    for j in range(num_batches):\n",
        "        start_idx = j * batch_size\n",
        "        end_idx = min((j + 1) * batch_size, num_samples)\n",
        "        batch_inputs = padded_inputs_test[start_idx:end_idx]\n",
        "        batch_inputs2 = predicts_generated_sofar_test[start_idx:end_idx]\n",
        "        batch_predictions = model.predict([batch_inputs,batch_inputs2], verbose=0)\n",
        "        #batch_predictions[:, 0] = -np.inf\n",
        "        for x in batch_predictions:\n",
        "          batch_predicted_indices = np.argmax(x)\n",
        "          predicted_summaries.append(batch_predicted_indices)\n",
        "          del batch_predicted_indices\n",
        "        del batch_inputs, batch_inputs2, batch_predictions,start_idx,end_idx\n",
        "    predicts_generated_sofar_test[:, i] = predicted_summaries\n",
        "    print('showing an example of output for row 0:')\n",
        "    print(predicts_generated_sofar_test[0])\n",
        "    del batch_size,num_samples,num_batches,predicted_summaries"
      ],
      "metadata": {
        "colab": {
          "base_uri": "https://localhost:8080/"
        },
        "id": "TCQNdKfMIy4J",
        "outputId": "5668d2dd-5150-40d6-f38e-5948e01590a1"
      },
      "execution_count": 40,
      "outputs": [
        {
          "output_type": "stream",
          "name": "stdout",
          "text": [
            "showing an example of output for row 0:\n",
            "[15810     0     0     0     0     0     0     0     0     0     0     0\n",
            "     0     0     0     0     0     0     0     0     0     0     0     0\n",
            "     0]\n",
            "showing an example of output for row 0:\n",
            "[15810     0     0     0     0     0     0     0     0     0     0     0\n",
            "     0     0     0     0     0     0     0     0     0     0     0     0\n",
            "     0]\n",
            "showing an example of output for row 0:\n",
            "[15810     0     0     0     0     0     0     0     0     0     0     0\n",
            "     0     0     0     0     0     0     0     0     0     0     0     0\n",
            "     0]\n",
            "showing an example of output for row 0:\n",
            "[15810     0     0     0     0     0     0     0     0     0     0     0\n",
            "     0     0     0     0     0     0     0     0     0     0     0     0\n",
            "     0]\n",
            "showing an example of output for row 0:\n",
            "[15810     0     0     0     0     0     0     0     0     0     0     0\n",
            "     0     0     0     0     0     0     0     0     0     0     0     0\n",
            "     0]\n",
            "showing an example of output for row 0:\n",
            "[15810     0     0     0     0     0     0     0     0     0     0     0\n",
            "     0     0     0     0     0     0     0     0     0     0     0     0\n",
            "     0]\n",
            "showing an example of output for row 0:\n",
            "[15810     0     0     0     0     0     0     0     0     0     0     0\n",
            "     0     0     0     0     0     0     0     0     0     0     0     0\n",
            "     0]\n",
            "showing an example of output for row 0:\n",
            "[15810     0     0     0     0     0     0     0     0     0     0     0\n",
            "     0     0     0     0     0     0     0     0     0     0     0     0\n",
            "     0]\n",
            "showing an example of output for row 0:\n",
            "[15810     0     0     0     0     0     0     0     0     0     0     0\n",
            "     0     0     0     0     0     0     0     0     0     0     0     0\n",
            "     0]\n",
            "showing an example of output for row 0:\n",
            "[15810     0     0     0     0     0     0     0     0     0     0     0\n",
            "     0     0     0     0     0     0     0     0     0     0     0     0\n",
            "     0]\n",
            "showing an example of output for row 0:\n",
            "[15810     0     0     0     0     0     0     0     0     0     0     0\n",
            "     0     0     0     0     0     0     0     0     0     0     0     0\n",
            "     0]\n",
            "showing an example of output for row 0:\n",
            "[15810     0     0     0     0     0     0     0     0     0     0     0\n",
            "     0     0     0     0     0     0     0     0     0     0     0     0\n",
            "     0]\n",
            "showing an example of output for row 0:\n",
            "[15810     0     0     0     0     0     0     0     0     0     0     0\n",
            "     0     0     0     0     0     0     0     0     0     0     0     0\n",
            "     0]\n"
          ]
        }
      ]
    },
    {
      "cell_type": "code",
      "source": [
        "import matplotlib.pyplot as plt\n",
        "train_loss = history_train_loss\n",
        "val_loss = history_val_loss\n",
        "epochs = range(1, len(train_loss) + 1)\n",
        "plt.plot(epochs, train_loss, 'b', label='Training loss')\n",
        "plt.plot(epochs, val_loss, 'r', label='Validation loss')\n",
        "plt.title('Training and Validation Loss')\n",
        "plt.xlabel('Epochs')\n",
        "plt.ylabel('Loss')\n",
        "plt.legend()\n",
        "plt.show()"
      ],
      "metadata": {
        "colab": {
          "base_uri": "https://localhost:8080/",
          "height": 472
        },
        "id": "AlzS7qR4I9j5",
        "outputId": "c9815b6c-f91e-499b-cbe5-bb208934e77b"
      },
      "execution_count": 41,
      "outputs": [
        {
          "output_type": "display_data",
          "data": {
            "text/plain": [
              "<Figure size 640x480 with 1 Axes>"
            ],
            "image/png": "[encoded data removed]"
          },
          "metadata": {}
        }
      ]
    },
    {
      "cell_type": "code",
      "source": [
        "predicted_summary = []\n",
        "for i in range (len(predicts_generated_sofar_test)):\n",
        "  predicted_summary.append(' '.join([word_vectors.index_to_key[idx] for idx in predicts_generated_sofar_test[i] if idx != 0]))\n"
      ],
      "metadata": {
        "id": "udhBo4zTJGpJ"
      },
      "execution_count": 42,
      "outputs": []
    },
    {
      "cell_type": "code",
      "source": [
        "from rouge import Rouge"
      ],
      "metadata": {
        "id": "K3D9UaHoJGpQ"
      },
      "execution_count": 43,
      "outputs": []
    },
    {
      "cell_type": "code",
      "source": [
        "target_summaries = []\n",
        "for targets in padded_targets_test:\n",
        "    summary = ' '.join([word2vec_model.wv.index_to_key[idx] for idx in targets if idx != 0])\n",
        "    target_summaries.append(summary)\n",
        "# Calculate the ROUGE score\n",
        "rouge = Rouge()\n",
        "scores = rouge.get_scores(predicted_summary, target_summaries, avg=True)\n",
        "\n",
        "#print(scores)"
      ],
      "metadata": {
        "id": "72Ya6rN3JGpQ"
      },
      "execution_count": 44,
      "outputs": []
    },
    {
      "cell_type": "code",
      "source": [
        "#scores = rouge.get_scores(generated_summaries_words, target_summaries, avg=True)\n",
        "print(\"ROUGE Scores:\")\n",
        "print(f\"ROUGE-1: {scores['rouge-1']}\")\n",
        "print(f\"ROUGE-2: {scores['rouge-2']}\")\n",
        "print(f\"ROUGE-L: {scores['rouge-l']}\")"
      ],
      "metadata": {
        "colab": {
          "base_uri": "https://localhost:8080/"
        },
        "outputId": "64d44f07-00ac-4943-cbc9-28faa26dd73e",
        "id": "EbjDmy76JGpQ"
      },
      "execution_count": 45,
      "outputs": [
        {
          "output_type": "stream",
          "name": "stdout",
          "text": [
            "ROUGE Scores:\n",
            "ROUGE-1: {'r': 0.0598372434892652, 'p': 1.0, 'f': 0.11249735743137516}\n",
            "ROUGE-2: {'r': 0.0, 'p': 0.0, 'f': 0.0}\n",
            "ROUGE-L: {'r': 0.0598372434892652, 'p': 1.0, 'f': 0.11249735743137516}\n"
          ]
        }
      ]
    }
  ],
  "metadata": {
    "accelerator": "GPU",
    "colab": {
      "provenance": [],
      "gpuType": "T4"
    },
    "kernelspec": {
      "display_name": "Python 3",
      "name": "python3"
    },
    "language_info": {
      "name": "python"
    }
  },
  "nbformat": 4,
  "nbformat_minor": 0
}