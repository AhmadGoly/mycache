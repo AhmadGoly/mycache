{
  "cells": [
    {
      "cell_type": "code",
      "execution_count": 1,
      "metadata": {
        "colab": {
          "base_uri": "https://localhost:8080/"
        },
        "id": "yvTyc_EQhQCo",
        "outputId": "3e71f17e-4232-4c44-8052-315256492a13"
      },
      "outputs": [
        {
          "output_type": "stream",
          "name": "stdout",
          "text": [
            "Requirement already satisfied: rouge in /usr/local/lib/python3.10/dist-packages (1.0.1)\n",
            "Requirement already satisfied: six in /usr/local/lib/python3.10/dist-packages (from rouge) (1.16.0)\n",
            "Requirement already satisfied: hazm in /usr/local/lib/python3.10/dist-packages (0.9.1)\n",
            "Requirement already satisfied: gensim<5.0.0,>=4.3.1 in /usr/local/lib/python3.10/dist-packages (from hazm) (4.3.1)\n",
            "Requirement already satisfied: nltk<4.0.0,>=3.8.1 in /usr/local/lib/python3.10/dist-packages (from hazm) (3.8.1)\n",
            "Requirement already satisfied: numpy<2.0.0,>=1.24.3 in /usr/local/lib/python3.10/dist-packages (from hazm) (1.25.0)\n",
            "Requirement already satisfied: python-crfsuite<0.10.0,>=0.9.9 in /usr/local/lib/python3.10/dist-packages (from hazm) (0.9.9)\n",
            "Requirement already satisfied: scikit-learn<2.0.0,>=1.2.2 in /usr/local/lib/python3.10/dist-packages (from hazm) (1.2.2)\n",
            "Requirement already satisfied: scipy>=1.7.0 in /usr/local/lib/python3.10/dist-packages (from gensim<5.0.0,>=4.3.1->hazm) (1.10.1)\n",
            "Requirement already satisfied: smart-open>=1.8.1 in /usr/local/lib/python3.10/dist-packages (from gensim<5.0.0,>=4.3.1->hazm) (6.3.0)\n",
            "Requirement already satisfied: click in /usr/local/lib/python3.10/dist-packages (from nltk<4.0.0,>=3.8.1->hazm) (8.1.3)\n",
            "Requirement already satisfied: joblib in /usr/local/lib/python3.10/dist-packages (from nltk<4.0.0,>=3.8.1->hazm) (1.2.0)\n",
            "Requirement already satisfied: regex>=2021.8.3 in /usr/local/lib/python3.10/dist-packages (from nltk<4.0.0,>=3.8.1->hazm) (2022.10.31)\n",
            "Requirement already satisfied: tqdm in /usr/local/lib/python3.10/dist-packages (from nltk<4.0.0,>=3.8.1->hazm) (4.65.0)\n",
            "Requirement already satisfied: threadpoolctl>=2.0.0 in /usr/local/lib/python3.10/dist-packages (from scikit-learn<2.0.0,>=1.2.2->hazm) (3.1.0)\n"
          ]
        }
      ],
      "source": [
        "!pip install rouge\n",
        "!pip install hazm"
      ]
    },
    {
      "cell_type": "code",
      "execution_count": 2,
      "metadata": {
        "colab": {
          "base_uri": "https://localhost:8080/"
        },
        "id": "_92sPmawhZm8",
        "outputId": "b161b002-2cff-4db2-8ad0-dbd3043c55b5"
      },
      "outputs": [
        {
          "output_type": "stream",
          "name": "stderr",
          "text": [
            "Downloading...\n",
            "From: https://drive.google.com/uc?id=1xz_YBI8B4fHqAmxlb_3JE5ecJZS5V5z8\n",
            "To: /content/file_1xz_YBI8B4fHqAmxlb_3JE5ecJZS5V5z8.zip\n",
            "100%|██████████| 271M/271M [00:01<00:00, 202MB/s]\n",
            "Downloading...\n",
            "From: https://drive.google.com/uc?id=1z9nYQM2wYVQ7zChtShR6ZaHBSxst_UkK\n",
            "To: /content/file_1z9nYQM2wYVQ7zChtShR6ZaHBSxst_UkK.zip\n",
            "100%|██████████| 18.3M/18.3M [00:00<00:00, 114MB/s] \n",
            "Downloading...\n",
            "From: https://drive.google.com/uc?id=1--sCAcmSeUiJm0dcqQJNBg1fS-CjC-C4\n",
            "To: /content/file_1--sCAcmSeUiJm0dcqQJNBg1fS-CjC-C4.zip\n",
            "100%|██████████| 25.9M/25.9M [00:00<00:00, 178MB/s]\n",
            "Downloading...\n",
            "From: https://drive.google.com/uc?id=1-3DbkWdIjC8BtvqZCQVtZQyrDGNcn4oH\n",
            "To: /content/file_1-3DbkWdIjC8BtvqZCQVtZQyrDGNcn4oH.zip\n",
            "100%|██████████| 96.4M/96.4M [00:00<00:00, 175MB/s]\n"
          ]
        }
      ],
      "source": [
        "import gdown\n",
        "import time\n",
        "from sklearn.model_selection import train_test_split\n",
        "\n",
        "# Define the file URLs\n",
        "file_urls = [\n",
        "    \"https://drive.google.com/file/d/1xz_YBI8B4fHqAmxlb_3JE5ecJZS5V5z8/view?usp=sharing\",\n",
        "    \"https://drive.google.com/file/d/1z9nYQM2wYVQ7zChtShR6ZaHBSxst_UkK/view?usp=sharing\",\n",
        "    \"https://drive.google.com/file/d/1--sCAcmSeUiJm0dcqQJNBg1fS-CjC-C4/view?usp=sharing\",\n",
        "    \"https://drive.google.com/file/d/1-3DbkWdIjC8BtvqZCQVtZQyrDGNcn4oH/view?usp=sharing\"\n",
        "]\n",
        "\n",
        "# Download files\n",
        "for url in file_urls:\n",
        "    file_id = url.split(\"/\")[5]\n",
        "    output_file = f\"file_{file_id}.zip\"  # Customize the output file name if needed\n",
        "    gdown.download(f\"https://drive.google.com/uc?id={file_id}\", output_file, quiet=False)\n"
      ]
    },
    {
      "cell_type": "code",
      "execution_count": 2,
      "metadata": {
        "id": "pUsR3j_zj4ik"
      },
      "outputs": [],
      "source": []
    },
    {
      "cell_type": "code",
      "execution_count": 3,
      "metadata": {
        "id": "UCiWj1jxiE5w"
      },
      "outputs": [],
      "source": [
        "import os\n",
        "os.rename('/content/file_1z9nYQM2wYVQ7zChtShR6ZaHBSxst_UkK.zip', '/content/test_cleaned.csv')\n",
        "os.rename('/content/file_1xz_YBI8B4fHqAmxlb_3JE5ecJZS5V5z8.zip', '/content/train_cleaned.csv')\n",
        "os.rename('/content/file_1--sCAcmSeUiJm0dcqQJNBg1fS-CjC-C4.zip', '/content/word2vec-model.bin')\n",
        "os.rename('/content/file_1-3DbkWdIjC8BtvqZCQVtZQyrDGNcn4oH.zip', '/content/allInputs.pickle')"
      ]
    },
    {
      "cell_type": "code",
      "execution_count": 4,
      "metadata": {
        "id": "YCcSrdJmioD6"
      },
      "outputs": [],
      "source": [
        "import pickle\n",
        "with open(\"allInputs.pickle\", \"rb\") as f:\n",
        "    inputs = pickle.load(f)"
      ]
    },
    {
      "cell_type": "code",
      "execution_count": 5,
      "metadata": {
        "id": "SrX-jwl-i7TS"
      },
      "outputs": [],
      "source": [
        "padded_inputs = inputs['input1']\n",
        "padded_targets = inputs['output1']\n",
        "padded_inputs_test = inputs['input2']\n",
        "padded_targets_test = inputs['output2']\n",
        "padded_inputs_valid = inputs['input3']\n",
        "padded_targets_valid = inputs['output3']\n",
        "info = inputs['info']"
      ]
    },
    {
      "cell_type": "code",
      "execution_count": 6,
      "metadata": {
        "id": "5VstD28FkLyg"
      },
      "outputs": [],
      "source": [
        "import pandas as pd\n",
        "import numpy as np\n",
        "from gensim.models import Word2Vec\n",
        "from tensorflow.keras.preprocessing.sequence import pad_sequences\n",
        "from keras.models import Model\n",
        "from keras.layers import Input, Embedding, GRU, Dense\n",
        "from keras.layers import RepeatVector,TimeDistributed"
      ]
    },
    {
      "cell_type": "code",
      "execution_count": 7,
      "metadata": {
        "id": "0FJJyvOvkB5A"
      },
      "outputs": [],
      "source": [
        "word2vec_model = Word2Vec.load('/content/word2vec-model.bin')"
      ]
    },
    {
      "cell_type": "code",
      "execution_count": 8,
      "metadata": {
        "colab": {
          "base_uri": "https://localhost:8080/"
        },
        "id": "TQgiFpVUkXIY",
        "outputId": "976fb829-1f51-424a-f225-5833f29afb56"
      },
      "outputs": [
        {
          "output_type": "stream",
          "name": "stdout",
          "text": [
            "[250, 25, 82013, 4755, 838]\n"
          ]
        }
      ],
      "source": [
        "print(info)"
      ]
    },
    {
      "cell_type": "code",
      "execution_count": 9,
      "metadata": {
        "id": "ogkH09fckSyq"
      },
      "outputs": [],
      "source": [
        "word_vectors = word2vec_model.wv\n",
        "vocab_size = len(word_vectors.key_to_index)\n",
        "embedding_dim = word2vec_model.vector_size\n",
        "max_length_input = info[0]\n",
        "max_length_output = info[1]"
      ]
    },
    {
      "cell_type": "code",
      "source": [
        "special_end_token = '<SPECIAL_END>'\n",
        "special_end_token_index = len(word_vectors.key_to_index)\n",
        "special_end_token_vector = np.random.random((embedding_dim,))\n",
        "word_vectors.add_vectors([special_end_token], [special_end_token_vector])\n",
        "vocab_size = len(word_vectors.key_to_index)\n",
        "word_vectors = word2vec_model.wv"
      ],
      "metadata": {
        "id": "1PTf6sVO3T2h"
      },
      "execution_count": 10,
      "outputs": []
    },
    {
      "cell_type": "code",
      "source": [
        "def find_end_token(sequence):\n",
        "    special_end_token_index=15810\n",
        "    checkingloc = sequence.shape[0] - 1\n",
        "    if sequence[checkingloc] != 0:\n",
        "      sequence[checkingloc] = special_end_token_index\n",
        "      return sequence\n",
        "    while True:\n",
        "      checkingloc = checkingloc - 1\n",
        "      if sequence[checkingloc] != 0:\n",
        "        sequence[checkingloc+1] = special_end_token_index\n",
        "        return sequence\n",
        "      if checkingloc == 0:\n",
        "        return sequence"
      ],
      "metadata": {
        "id": "aWNN4h_-3VMo"
      },
      "execution_count": 11,
      "outputs": []
    },
    {
      "cell_type": "code",
      "source": [
        "special_end_token_index = len(word_vectors.key_to_index) - 1"
      ],
      "metadata": {
        "id": "aWkpTIUi3Vvp"
      },
      "execution_count": 12,
      "outputs": []
    },
    {
      "cell_type": "code",
      "source": [
        "padded_inputs = np.apply_along_axis(find_end_token, axis=1, arr=padded_inputs)\n",
        "padded_targets = np.apply_along_axis(find_end_token, axis=1, arr=padded_targets)\n",
        "padded_inputs_test = np.apply_along_axis(find_end_token, axis=1, arr=padded_inputs_test)\n",
        "padded_targets_test = np.apply_along_axis(find_end_token, axis=1, arr=padded_targets_test)\n",
        "padded_inputs_valid = np.apply_along_axis(find_end_token, axis=1, arr=padded_inputs_valid)\n",
        "padded_targets_valid = np.apply_along_axis(find_end_token, axis=1, arr=padded_targets_valid)"
      ],
      "metadata": {
        "id": "kLW199dd3XUo"
      },
      "execution_count": 13,
      "outputs": []
    },
    {
      "cell_type": "code",
      "execution_count": 14,
      "metadata": {
        "id": "-YYrIhzHj2nh"
      },
      "outputs": [],
      "source": [
        "from tensorflow.keras.layers import Input, Embedding, Bidirectional, LSTM, RepeatVector, TimeDistributed, Dense\n",
        "\n",
        "# encoder input model\n",
        "inputs = Input(shape=(max_length_input,))\n",
        "encoder1 = Embedding(vocab_size, embedding_dim, weights=[word2vec_model.wv.vectors], trainable=False)(inputs)\n",
        "encoder2 = Bidirectional(LSTM(512))(encoder1)\n",
        "encoder3 = RepeatVector(max_length_output)(encoder2)\n",
        "# decoder output model\n",
        "\n",
        "decoder1 = Bidirectional(LSTM(512, return_sequences=True))(encoder3)\n",
        "outputs = TimeDistributed(Dense(vocab_size, activation='softmax'))(decoder1)\n",
        "# tie it together\n",
        "model = Model(inputs=inputs, outputs=outputs)\n"
      ]
    },
    {
      "cell_type": "code",
      "execution_count": 15,
      "metadata": {
        "colab": {
          "base_uri": "https://localhost:8080/"
        },
        "id": "9AVEHFnzkpDv",
        "outputId": "6243d517-1a50-4934-9248-2fd1c55c24b1"
      },
      "outputs": [
        {
          "output_type": "stream",
          "name": "stdout",
          "text": [
            "Model: \"model\"\n",
            "_________________________________________________________________\n",
            " Layer (type)                Output Shape              Param #   \n",
            "=================================================================\n",
            " input_1 (InputLayer)        [(None, 250)]             0         \n",
            "                                                                 \n",
            " embedding (Embedding)       (None, 250, 200)          3162200   \n",
            "                                                                 \n",
            " bidirectional (Bidirectiona  (None, 1024)             2920448   \n",
            " l)                                                              \n",
            "                                                                 \n",
            " repeat_vector (RepeatVector  (None, 25, 1024)         0         \n",
            " )                                                               \n",
            "                                                                 \n",
            " bidirectional_1 (Bidirectio  (None, 25, 1024)         6295552   \n",
            " nal)                                                            \n",
            "                                                                 \n",
            " time_distributed (TimeDistr  (None, 25, 15811)        16206275  \n",
            " ibuted)                                                         \n",
            "                                                                 \n",
            "=================================================================\n",
            "Total params: 28,584,475\n",
            "Trainable params: 25,422,275\n",
            "Non-trainable params: 3,162,200\n",
            "_________________________________________________________________\n"
          ]
        }
      ],
      "source": [
        "model.summary()"
      ]
    },
    {
      "cell_type": "code",
      "execution_count": 16,
      "metadata": {
        "colab": {
          "base_uri": "https://localhost:8080/",
          "height": 564
        },
        "id": "HDnJyJj3ktaI",
        "outputId": "2a7150b8-d1c7-4bdc-c170-e5b7da56f474"
      },
      "outputs": [
        {
          "output_type": "execute_result",
          "data": {
            "image/png": "[encoded data removed]",
            "text/plain": [
              "<IPython.core.display.Image object>"
            ]
          },
          "metadata": {},
          "execution_count": 16
        }
      ],
      "source": [
        "from tensorflow.keras.utils import plot_model\n",
        "plot_model(model)"
      ]
    },
    {
      "cell_type": "code",
      "execution_count": 17,
      "metadata": {
        "colab": {
          "base_uri": "https://localhost:8080/"
        },
        "id": "4c0AMR1SlZHJ",
        "outputId": "2d927071-b0ae-47fb-c208-a09a33ad64e4"
      },
      "outputs": [
        {
          "output_type": "stream",
          "name": "stdout",
          "text": [
            "Epoch 1/10\n",
            "1282/1282 [==============================] - 294s 219ms/step - loss: 5.5011 - accuracy: 0.2610 - val_loss: 5.1372 - val_accuracy: 0.2688\n",
            "Epoch 2/10\n",
            "1282/1282 [==============================] - 281s 219ms/step - loss: 4.9446 - accuracy: 0.2781 - val_loss: 4.8763 - val_accuracy: 0.2779\n",
            "Epoch 3/10\n",
            "1282/1282 [==============================] - 281s 219ms/step - loss: 4.7056 - accuracy: 0.2868 - val_loss: 4.7513 - val_accuracy: 0.2843\n",
            "Epoch 4/10\n",
            "1282/1282 [==============================] - 281s 219ms/step - loss: 4.5385 - accuracy: 0.2931 - val_loss: 4.6748 - val_accuracy: 0.2905\n",
            "Epoch 5/10\n",
            "1282/1282 [==============================] - 281s 219ms/step - loss: 4.3974 - accuracy: 0.2987 - val_loss: 4.6306 - val_accuracy: 0.2945\n",
            "Epoch 6/10\n",
            "1282/1282 [==============================] - 281s 220ms/step - loss: 4.2640 - accuracy: 0.3040 - val_loss: 4.6090 - val_accuracy: 0.2956\n",
            "Epoch 7/10\n",
            "1282/1282 [==============================] - 281s 220ms/step - loss: 4.1303 - accuracy: 0.3096 - val_loss: 4.6275 - val_accuracy: 0.2963\n",
            "Epoch 8/10\n",
            "1282/1282 [==============================] - 281s 219ms/step - loss: 3.9937 - accuracy: 0.3154 - val_loss: 4.6354 - val_accuracy: 0.2949\n",
            "Epoch 9/10\n",
            "1282/1282 [==============================] - 282s 220ms/step - loss: 3.8557 - accuracy: 0.3221 - val_loss: 4.7061 - val_accuracy: 0.2917\n",
            "Epoch 10/10\n",
            "1282/1282 [==============================] - 281s 220ms/step - loss: 3.7198 - accuracy: 0.3293 - val_loss: 4.7489 - val_accuracy: 0.2897\n"
          ]
        }
      ],
      "source": [
        "model.compile(optimizer='adam', loss='sparse_categorical_crossentropy', metrics=['accuracy'])\n",
        "history= model.fit(padded_inputs, padded_targets, epochs=10, batch_size=64, validation_data=(padded_inputs_valid, padded_targets_valid))"
      ]
    },
    {
      "cell_type": "code",
      "execution_count": 18,
      "metadata": {
        "id": "BvVldUMhlfTp"
      },
      "outputs": [],
      "source": [
        "model.save(\"/content/drive/MyDrive/FinalFilesForPD/SimpleBiLSTM.h5\")"
      ]
    },
    {
      "cell_type": "code",
      "execution_count": 19,
      "metadata": {
        "colab": {
          "base_uri": "https://localhost:8080/",
          "height": 472
        },
        "id": "g9H1vUPKl6u5",
        "outputId": "5652920d-a188-450f-f816-65705958eb40"
      },
      "outputs": [
        {
          "output_type": "display_data",
          "data": {
            "text/plain": [
              "<Figure size 640x480 with 1 Axes>"
            ],
            "image/png": "[encoded data removed]"
          },
          "metadata": {}
        }
      ],
      "source": [
        "import matplotlib.pyplot as plt\n",
        "train_loss = history.history['loss']\n",
        "val_loss = history.history['val_loss']\n",
        "epochs = range(1, len(train_loss) + 1)\n",
        "plt.plot(epochs, train_loss, 'b', label='Training loss')\n",
        "plt.plot(epochs, val_loss, 'r', label='Validation loss')\n",
        "plt.title('Training and Validation Loss')\n",
        "plt.xlabel('Epochs')\n",
        "plt.ylabel('Loss')\n",
        "plt.legend()\n",
        "plt.show()"
      ]
    },
    {
      "cell_type": "code",
      "execution_count": 20,
      "metadata": {
        "id": "mHBitcQrmene"
      },
      "outputs": [],
      "source": [
        "from rouge import Rouge\n",
        "\n",
        "def indices_to_summary(indices, index_to_word):\n",
        "    return ' '.join([index_to_word[idx] for idx in indices if idx != 0])"
      ]
    },
    {
      "cell_type": "code",
      "execution_count": 21,
      "metadata": {
        "id": "iU8xrDxJmh2n",
        "colab": {
          "base_uri": "https://localhost:8080/"
        },
        "outputId": "56f7f659-c576-4048-f796-576de30bf3e9"
      },
      "outputs": [
        {
          "output_type": "stream",
          "name": "stdout",
          "text": [
            "8/8 [==============================] - 2s 49ms/step\n",
            "8/8 [==============================] - 0s 40ms/step\n",
            "8/8 [==============================] - 0s 40ms/step\n",
            "8/8 [==============================] - 0s 39ms/step\n",
            "8/8 [==============================] - 0s 40ms/step\n",
            "8/8 [==============================] - 0s 41ms/step\n",
            "8/8 [==============================] - 0s 40ms/step\n",
            "8/8 [==============================] - 0s 40ms/step\n",
            "8/8 [==============================] - 0s 41ms/step\n",
            "8/8 [==============================] - 0s 40ms/step\n",
            "8/8 [==============================] - 0s 40ms/step\n",
            "8/8 [==============================] - 0s 39ms/step\n",
            "8/8 [==============================] - 0s 39ms/step\n",
            "8/8 [==============================] - 0s 41ms/step\n",
            "8/8 [==============================] - 0s 40ms/step\n",
            "8/8 [==============================] - 0s 40ms/step\n",
            "8/8 [==============================] - 0s 40ms/step\n",
            "8/8 [==============================] - 0s 40ms/step\n",
            "5/5 [==============================] - 2s 49ms/step\n"
          ]
        }
      ],
      "source": [
        "batch_size = 256\n",
        "\n",
        "num_samples = padded_inputs_test.shape[0]\n",
        "num_batches = (num_samples + batch_size - 1) // batch_size\n",
        "predicted_summaries = []\n",
        "for i in range(num_batches):\n",
        "    start_idx = i * batch_size\n",
        "    end_idx = min((i + 1) * batch_size, num_samples)\n",
        "\n",
        "    batch_inputs = padded_inputs_test[start_idx:end_idx]\n",
        "\n",
        "    batch_predictions = model.predict(batch_inputs)\n",
        "\n",
        "    batch_predicted_indices = np.argmax(batch_predictions, axis=2)\n",
        "    batch_predicted_summaries = [\n",
        "        ' '.join([word_vectors.index_to_key[idx] for idx in indices if idx != 0])\n",
        "        for indices in batch_predicted_indices\n",
        "    ]\n",
        "\n",
        "    predicted_summaries.extend(batch_predicted_summaries)\n"
      ]
    },
    {
      "cell_type": "code",
      "execution_count": 22,
      "metadata": {
        "id": "ffHwQ7OQmy4h"
      },
      "outputs": [],
      "source": [
        "predicted_summaries_list = [summary.strip() for summary in predicted_summaries]"
      ]
    },
    {
      "cell_type": "code",
      "execution_count": 23,
      "metadata": {
        "id": "xFJUhP6Am7ip"
      },
      "outputs": [],
      "source": [
        "target_summaries = []\n",
        "for targets in padded_targets_test:\n",
        "    summary = ' '.join([word2vec_model.wv.index_to_key[idx] for idx in targets if idx != 0])\n",
        "    target_summaries.append(summary)"
      ]
    },
    {
      "cell_type": "code",
      "execution_count": 24,
      "metadata": {
        "id": "MK4rw5b7m9s_"
      },
      "outputs": [],
      "source": [
        "rouge = Rouge()\n",
        "null_indices = [index for index, summary in enumerate(predicted_summaries_list) if summary is None or summary == \"\"]\n",
        "#null check:\n",
        "predicted_summaries_list = [summary for index, summary in enumerate(predicted_summaries_list) if index not in null_indices]\n",
        "target_summaries = [summary for index, summary in enumerate(target_summaries) if index not in null_indices]"
      ]
    },
    {
      "cell_type": "code",
      "execution_count": 25,
      "metadata": {
        "colab": {
          "base_uri": "https://localhost:8080/"
        },
        "id": "TilqTywunIVv",
        "outputId": "d0662b89-3d48-4e18-f621-219663d043b8"
      },
      "outputs": [
        {
          "output_type": "stream",
          "name": "stdout",
          "text": [
            "ROUGE Scores:\n",
            "ROUGE-1: {'r': 0.18134964319783387, 'p': 0.5772095949175206, 'f': 0.26559399667644396}\n",
            "ROUGE-2: {'r': 0.04513253524967152, 'p': 0.08573949352489987, 'f': 0.056340095777622584}\n",
            "ROUGE-L: {'r': 0.17248609985199365, 'p': 0.5478945105393447, 'f': 0.25230813250850403}\n"
          ]
        }
      ],
      "source": [
        "scores = rouge.get_scores(predicted_summaries_list, target_summaries, avg=True)\n",
        "print(\"ROUGE Scores:\")\n",
        "print(f\"ROUGE-1: {scores['rouge-1']}\")\n",
        "print(f\"ROUGE-2: {scores['rouge-2']}\")\n",
        "print(f\"ROUGE-L: {scores['rouge-l']}\")"
      ]
    },
    {
      "cell_type": "code",
      "execution_count": 25,
      "metadata": {
        "id": "CLP9DzAjnJuB"
      },
      "outputs": [],
      "source": []
    }
  ],
  "metadata": {
    "accelerator": "GPU",
    "colab": {
      "provenance": []
    },
    "kernelspec": {
      "display_name": "Python 3",
      "name": "python3"
    },
    "language_info": {
      "name": "python"
    }
  },
  "nbformat": 4,
  "nbformat_minor": 0
}